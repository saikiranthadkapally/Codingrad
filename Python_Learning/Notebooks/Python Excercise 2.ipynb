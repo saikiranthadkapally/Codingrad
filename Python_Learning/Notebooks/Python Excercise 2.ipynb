{
 "cells": [
  {
   "cell_type": "code",
   "execution_count": 1,
   "id": "e6f7fada",
   "metadata": {},
   "outputs": [],
   "source": [
    "students = [\"Ramu\",\"Raju\",\"Rani\",\"Ranjith\",\"Manoj\"]"
   ]
  },
  {
   "cell_type": "code",
   "execution_count": 2,
   "id": "7c210e7b",
   "metadata": {},
   "outputs": [
    {
     "data": {
      "text/plain": [
       "['Ramu', 'Raju', 'Rani', 'Ranjith', 'Manoj']"
      ]
     },
     "execution_count": 2,
     "metadata": {},
     "output_type": "execute_result"
    }
   ],
   "source": [
    "students"
   ]
  },
  {
   "cell_type": "code",
   "execution_count": 4,
   "id": "ab07ec6b",
   "metadata": {},
   "outputs": [
    {
     "data": {
      "text/plain": [
       "3"
      ]
     },
     "execution_count": 4,
     "metadata": {},
     "output_type": "execute_result"
    }
   ],
   "source": [
    "students.index(\"Ranjith\")"
   ]
  },
  {
   "cell_type": "code",
   "execution_count": 5,
   "id": "4065c666",
   "metadata": {},
   "outputs": [],
   "source": [
    "def findPosition(l,v):\n",
    "    index = l.index(v)\n",
    "    position = index+1\n",
    "    print(f\"Position of {v} is:{position}\")\n",
    "    return position"
   ]
  },
  {
   "cell_type": "code",
   "execution_count": 7,
   "id": "142309ca",
   "metadata": {},
   "outputs": [
    {
     "name": "stdout",
     "output_type": "stream",
     "text": [
      "Position of Ranjith is:4\n"
     ]
    },
    {
     "data": {
      "text/plain": [
       "4"
      ]
     },
     "execution_count": 7,
     "metadata": {},
     "output_type": "execute_result"
    }
   ],
   "source": [
    "findPosition(students,\"Ranjith\")"
   ]
  },
  {
   "cell_type": "code",
   "execution_count": 31,
   "id": "8c935819",
   "metadata": {},
   "outputs": [],
   "source": [
    "def findIndex(l,v):\n",
    "    index = 0\n",
    "    for i in l:\n",
    "        if i == v:\n",
    "            print(f\"Index of {v} is: {index}\")\n",
    "            return index\n",
    "        index = index+1\n",
    "    print(f\"Element {v} not found in the list {l}\")\n",
    "    return None"
   ]
  },
  {
   "cell_type": "code",
   "execution_count": 34,
   "id": "64a6bddc",
   "metadata": {},
   "outputs": [],
   "source": [
    "def findIndex(l,v):\n",
    "    length = len(l)\n",
    "    for i in range(length):\n",
    "        if l[i] == v:\n",
    "            print(f\"Index of {v} is: {i}\")\n",
    "            return i\n",
    "    print(f\"Element {v} not found in the list {l}\")\n",
    "    return None"
   ]
  },
  {
   "cell_type": "code",
   "execution_count": 30,
   "id": "00835740",
   "metadata": {},
   "outputs": [
    {
     "name": "stdout",
     "output_type": "stream",
     "text": [
      "Element Tharun not found in the list ['Ramu', 'Raju', 'Rani', 'Ranjith', 'Manoj']\n"
     ]
    }
   ],
   "source": [
    "findIndex(students,\"Tharun\")"
   ]
  },
  {
   "cell_type": "code",
   "execution_count": 32,
   "id": "9ead10c9",
   "metadata": {},
   "outputs": [],
   "source": [
    "def findPosition(l,v):\n",
    "    index = findIndex(l,v)\n",
    "    if index is not None:\n",
    "        position = index+1\n",
    "        print(f\"Position of {v} is:{position}\")\n",
    "        return position\n",
    "    else:\n",
    "        print(f\"Element not found\")\n",
    "        return None"
   ]
  },
  {
   "cell_type": "code",
   "execution_count": 33,
   "id": "6ff5f83c",
   "metadata": {},
   "outputs": [
    {
     "name": "stdout",
     "output_type": "stream",
     "text": [
      "Element Tharun not found in the list ['Ramu', 'Raju', 'Rani', 'Ranjith', 'Manoj']\n",
      "Element not found\n"
     ]
    }
   ],
   "source": [
    "findPosition(students,\"Tharun\")"
   ]
  },
  {
   "cell_type": "code",
   "execution_count": null,
   "id": "27fc530c",
   "metadata": {},
   "outputs": [],
   "source": []
  }
 ],
 "metadata": {
  "kernelspec": {
   "display_name": "Python 3 (ipykernel)",
   "language": "python",
   "name": "python3"
  },
  "language_info": {
   "codemirror_mode": {
    "name": "ipython",
    "version": 3
   },
   "file_extension": ".py",
   "mimetype": "text/x-python",
   "name": "python",
   "nbconvert_exporter": "python",
   "pygments_lexer": "ipython3",
   "version": "3.8.10"
  }
 },
 "nbformat": 4,
 "nbformat_minor": 5
}
