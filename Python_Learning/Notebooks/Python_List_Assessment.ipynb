{
 "cells": [
  {
   "cell_type": "markdown",
   "id": "19df04a2",
   "metadata": {},
   "source": [
    "# Python_List_Assessment:"
   ]
  },
  {
   "cell_type": "code",
   "execution_count": 2,
   "id": "6856471d",
   "metadata": {},
   "outputs": [
    {
     "name": "stdout",
     "output_type": "stream",
     "text": [
      "Help on class list in module builtins:\n",
      "\n",
      "class list(object)\n",
      " |  list(iterable=(), /)\n",
      " |  \n",
      " |  Built-in mutable sequence.\n",
      " |  \n",
      " |  If no argument is given, the constructor creates a new empty list.\n",
      " |  The argument must be an iterable if specified.\n",
      " |  \n",
      " |  Methods defined here:\n",
      " |  \n",
      " |  __add__(self, value, /)\n",
      " |      Return self+value.\n",
      " |  \n",
      " |  __contains__(self, key, /)\n",
      " |      Return key in self.\n",
      " |  \n",
      " |  __delitem__(self, key, /)\n",
      " |      Delete self[key].\n",
      " |  \n",
      " |  __eq__(self, value, /)\n",
      " |      Return self==value.\n",
      " |  \n",
      " |  __ge__(self, value, /)\n",
      " |      Return self>=value.\n",
      " |  \n",
      " |  __getattribute__(self, name, /)\n",
      " |      Return getattr(self, name).\n",
      " |  \n",
      " |  __getitem__(...)\n",
      " |      x.__getitem__(y) <==> x[y]\n",
      " |  \n",
      " |  __gt__(self, value, /)\n",
      " |      Return self>value.\n",
      " |  \n",
      " |  __iadd__(self, value, /)\n",
      " |      Implement self+=value.\n",
      " |  \n",
      " |  __imul__(self, value, /)\n",
      " |      Implement self*=value.\n",
      " |  \n",
      " |  __init__(self, /, *args, **kwargs)\n",
      " |      Initialize self.  See help(type(self)) for accurate signature.\n",
      " |  \n",
      " |  __iter__(self, /)\n",
      " |      Implement iter(self).\n",
      " |  \n",
      " |  __le__(self, value, /)\n",
      " |      Return self<=value.\n",
      " |  \n",
      " |  __len__(self, /)\n",
      " |      Return len(self).\n",
      " |  \n",
      " |  __lt__(self, value, /)\n",
      " |      Return self<value.\n",
      " |  \n",
      " |  __mul__(self, value, /)\n",
      " |      Return self*value.\n",
      " |  \n",
      " |  __ne__(self, value, /)\n",
      " |      Return self!=value.\n",
      " |  \n",
      " |  __repr__(self, /)\n",
      " |      Return repr(self).\n",
      " |  \n",
      " |  __reversed__(self, /)\n",
      " |      Return a reverse iterator over the list.\n",
      " |  \n",
      " |  __rmul__(self, value, /)\n",
      " |      Return value*self.\n",
      " |  \n",
      " |  __setitem__(self, key, value, /)\n",
      " |      Set self[key] to value.\n",
      " |  \n",
      " |  __sizeof__(self, /)\n",
      " |      Return the size of the list in memory, in bytes.\n",
      " |  \n",
      " |  append(self, object, /)\n",
      " |      Append object to the end of the list.\n",
      " |  \n",
      " |  clear(self, /)\n",
      " |      Remove all items from list.\n",
      " |  \n",
      " |  copy(self, /)\n",
      " |      Return a shallow copy of the list.\n",
      " |  \n",
      " |  count(self, value, /)\n",
      " |      Return number of occurrences of value.\n",
      " |  \n",
      " |  extend(self, iterable, /)\n",
      " |      Extend list by appending elements from the iterable.\n",
      " |  \n",
      " |  index(self, value, start=0, stop=9223372036854775807, /)\n",
      " |      Return first index of value.\n",
      " |      \n",
      " |      Raises ValueError if the value is not present.\n",
      " |  \n",
      " |  insert(self, index, object, /)\n",
      " |      Insert object before index.\n",
      " |  \n",
      " |  pop(self, index=-1, /)\n",
      " |      Remove and return item at index (default last).\n",
      " |      \n",
      " |      Raises IndexError if list is empty or index is out of range.\n",
      " |  \n",
      " |  remove(self, value, /)\n",
      " |      Remove first occurrence of value.\n",
      " |      \n",
      " |      Raises ValueError if the value is not present.\n",
      " |  \n",
      " |  reverse(self, /)\n",
      " |      Reverse *IN PLACE*.\n",
      " |  \n",
      " |  sort(self, /, *, key=None, reverse=False)\n",
      " |      Sort the list in ascending order and return None.\n",
      " |      \n",
      " |      The sort is in-place (i.e. the list itself is modified) and stable (i.e. the\n",
      " |      order of two equal elements is maintained).\n",
      " |      \n",
      " |      If a key function is given, apply it once to each list item and sort them,\n",
      " |      ascending or descending, according to their function values.\n",
      " |      \n",
      " |      The reverse flag can be set to sort in descending order.\n",
      " |  \n",
      " |  ----------------------------------------------------------------------\n",
      " |  Class methods defined here:\n",
      " |  \n",
      " |  __class_getitem__(...) from builtins.type\n",
      " |      See PEP 585\n",
      " |  \n",
      " |  ----------------------------------------------------------------------\n",
      " |  Static methods defined here:\n",
      " |  \n",
      " |  __new__(*args, **kwargs) from builtins.type\n",
      " |      Create and return a new object.  See help(type) for accurate signature.\n",
      " |  \n",
      " |  ----------------------------------------------------------------------\n",
      " |  Data and other attributes defined here:\n",
      " |  \n",
      " |  __hash__ = None\n",
      "\n"
     ]
    }
   ],
   "source": [
    "help(list)"
   ]
  },
  {
   "cell_type": "markdown",
   "id": "930d6de5",
   "metadata": {},
   "source": [
    "# 1) append()"
   ]
  },
  {
   "cell_type": "code",
   "execution_count": 3,
   "id": "5e6144ff",
   "metadata": {},
   "outputs": [
    {
     "data": {
      "text/plain": [
       "'\\nappend(self, object, /)\\n      Append object to the end of the list.\\n\\n'"
      ]
     },
     "execution_count": 3,
     "metadata": {},
     "output_type": "execute_result"
    }
   ],
   "source": [
    "#Syntax\n",
    "'''\n",
    "append(self, object, /)\n",
    "      Append object to the end of the list.\n",
    "\n",
    "'''\n",
    "   "
   ]
  },
  {
   "cell_type": "markdown",
   "id": "c80d2476",
   "metadata": {},
   "source": [
    "## The append() method is a built-in function in Python's list object that adds a single element to the end of the existing list.The method takes one argument, which is the object that you want to add to the list. The object can be of any type,including another list.\n",
    "\n",
    "## Here is an example of how to use the append() method:\n",
    "\n"
   ]
  },
  {
   "cell_type": "code",
   "execution_count": 17,
   "id": "e46cbffa",
   "metadata": {},
   "outputs": [
    {
     "ename": "TypeError",
     "evalue": "list.append() takes exactly one argument (2 given)",
     "output_type": "error",
     "traceback": [
      "\u001b[1;31m---------------------------------------------------------------------------\u001b[0m",
      "\u001b[1;31mTypeError\u001b[0m                                 Traceback (most recent call last)",
      "Cell \u001b[1;32mIn[17], line 2\u001b[0m\n\u001b[0;32m      1\u001b[0m my_list \u001b[38;5;241m=\u001b[39m [\u001b[38;5;241m1\u001b[39m, \u001b[38;5;241m2\u001b[39m, \u001b[38;5;241m3\u001b[39m]          \u001b[38;5;66;03m#Here it takes only one argument\u001b[39;00m\n\u001b[1;32m----> 2\u001b[0m \u001b[43mmy_list\u001b[49m\u001b[38;5;241;43m.\u001b[39;49m\u001b[43mappend\u001b[49m\u001b[43m(\u001b[49m\u001b[38;5;124;43m\"\u001b[39;49m\u001b[38;5;124;43mfinshot\u001b[39;49m\u001b[38;5;124;43m\"\u001b[39;49m\u001b[43m,\u001b[49m\u001b[38;5;124;43m\"\u001b[39;49m\u001b[38;5;124;43mgunshot\u001b[39;49m\u001b[38;5;124;43m\"\u001b[39;49m\u001b[43m)\u001b[49m\n\u001b[0;32m      3\u001b[0m \u001b[38;5;28mprint\u001b[39m(my_list) \u001b[38;5;66;03m# Output: [1, 2, 3, 4]\u001b[39;00m\n",
      "\u001b[1;31mTypeError\u001b[0m: list.append() takes exactly one argument (2 given)"
     ]
    }
   ],
   "source": [
    "my_list = [1, 2, 3]          #Here it takes only one argument\n",
    "my_list.append(\"finshot\",\"gunshot\")\n",
    "print(my_list) # Output: [1, 2, 3, 4]"
   ]
  },
  {
   "cell_type": "code",
   "execution_count": 11,
   "id": "6da1542e",
   "metadata": {},
   "outputs": [
    {
     "name": "stdout",
     "output_type": "stream",
     "text": [
      "[1, 2, 3, 'finshot']\n"
     ]
    }
   ],
   "source": [
    "my_list = [1, 2, 3]          \n",
    "my_list.append(\"finshot\")      #It takes any data type as a single parameter object.\n",
    "print(my_list) # Output: [1, 2, 3, 4]"
   ]
  },
  {
   "cell_type": "code",
   "execution_count": 13,
   "id": "88672c1c",
   "metadata": {},
   "outputs": [
    {
     "name": "stdout",
     "output_type": "stream",
     "text": [
      "[1, 2, 3, 4]\n"
     ]
    }
   ],
   "source": [
    "'''\n",
    "In this example, we have a list my_list that contains the values [1, 2, 3]. We then use the append() method to add \n",
    "the value 4 to the end of the list. The resulting list is [1, 2, 3, 4].\n",
    "\n",
    "'''\n",
    "\n",
    "\n",
    "my_list = [1, 2, 3]\n",
    "my_list.append(4)\n",
    "print(my_list) # Output: [1, 2, 3, 4]\n"
   ]
  },
  {
   "cell_type": "code",
   "execution_count": 15,
   "id": "d8964b0f",
   "metadata": {},
   "outputs": [
    {
     "name": "stdout",
     "output_type": "stream",
     "text": [
      "[1, 2, 3, [4, 5, 6]]\n"
     ]
    }
   ],
   "source": [
    "'''\n",
    "You can also use the append() method to add a list as an element to another list. Here is an example:\n",
    "\n",
    "In this example, we have two lists list1 and list2. We use the append() method to add list2 as an element to list1. \n",
    "The resulting list is [1, 2, 3, [4, 5, 6]].Note that when you use the append() method to add a list as an element to \n",
    "another list, the entire list becomes a single element of the original list. In the example above, list2 becomes a single\n",
    "element of list1, and it is not flattened into individual elements. If you want to add the individual elements\n",
    "of list2 to list1, you can use the extend() method instead of append().\n",
    "\n",
    "'''\n",
    "list1 = [1, 2, 3]\n",
    "list2 = [4, 5, 6]\n",
    "list1.append(list2)\n",
    "print(list1) # Output: [1, 2, 3, [4, 5, 6]]"
   ]
  },
  {
   "cell_type": "markdown",
   "id": "2fbeb99a",
   "metadata": {},
   "source": [
    "# 2) clear()"
   ]
  },
  {
   "cell_type": "code",
   "execution_count": 17,
   "id": "2d902826",
   "metadata": {},
   "outputs": [
    {
     "name": "stdout",
     "output_type": "stream",
     "text": [
      "['apple', 'banana', 'orange']\n",
      "[]\n"
     ]
    }
   ],
   "source": [
    "'''\n",
    "Syntax: clear(self, /)\n",
    "             Remove all items from list.\n",
    "\n",
    "'''\n",
    "'''\n",
    "The clear() function is a built-in method of the list object in Python, which is used to remove all the elements or items\n",
    "from the list object. The function does not return anything; it modifies the original list by removing all the elements\n",
    "from it.\n",
    "\n",
    "'''\n",
    "# Using clear() function to empty a list:\n",
    "\n",
    "fruits = ['apple', 'banana', 'orange']\n",
    "print(fruits)    # Output: ['apple', 'banana', 'orange']\n",
    "\n",
    "fruits.clear()\n",
    "print(fruits)    # Output: []"
   ]
  },
  {
   "cell_type": "code",
   "execution_count": 19,
   "id": "57d55b13",
   "metadata": {},
   "outputs": [
    {
     "name": "stdout",
     "output_type": "stream",
     "text": [
      "[1, 2, 3, 4, 5]\n",
      "[]\n"
     ]
    }
   ],
   "source": [
    "# Using clear() function to clear a list of integers:\n",
    "numbers = [1, 2, 3, 4, 5]\n",
    "print(numbers)    # Output: [1, 2, 3, 4, 5]\n",
    "\n",
    "numbers.clear()\n",
    "print(numbers)    # Output: []"
   ]
  },
  {
   "cell_type": "code",
   "execution_count": 21,
   "id": "6e385b00",
   "metadata": {},
   "outputs": [
    {
     "name": "stdout",
     "output_type": "stream",
     "text": [
      "[('John', 21), ('Jane', 22), ('Bob', 20)]\n",
      "[]\n"
     ]
    }
   ],
   "source": [
    "#Using clear() function to clear a list of tuples:\n",
    "students = [('John', 21), ('Jane', 22), ('Bob', 20)]\n",
    "print(students)    # Output: [('John', 21), ('Jane', 22), ('Bob', 20)]\n",
    "\n",
    "students.clear()\n",
    "print(students)    # Output: []"
   ]
  },
  {
   "cell_type": "markdown",
   "id": "2621c134",
   "metadata": {},
   "source": [
    "# 3) copy()"
   ]
  },
  {
   "cell_type": "code",
   "execution_count": 23,
   "id": "df21496b",
   "metadata": {},
   "outputs": [
    {
     "name": "stdout",
     "output_type": "stream",
     "text": [
      "[1, 2, 3, 4, 5, 6]\n",
      "[1, 2, 3, 4, 5]\n"
     ]
    }
   ],
   "source": [
    "'''\n",
    "The \"copy\" function in Python's list class returns a new list object that is a shallow copy of the original list object. \n",
    "A shallow copy of a list object is a new list object that contains references to the same objects as the original list \n",
    "object.\n",
    "'''\n",
    "'''\n",
    "In this example, we first create a list of integers called \"numbers\". We then create a shallow copy of this list using the \"copy\" function, and assign it to a new variable called \"numbers_copy\".\n",
    "We then add an element to the original list, and print both the original list and the shallow copy.\n",
    "We can see that the original list now contains the new element, while the shallow copy remains unchanged.\n",
    "This is because the shallow copy contains references to the same objects as the original list,\n",
    "so any changes made to those objects will be reflected in both lists.\n",
    "'''\n",
    "# create a list of integers\n",
    "numbers = [1, 2, 3, 4, 5]\n",
    "\n",
    "# create a shallow copy of the list\n",
    "numbers_copy = numbers.copy()\n",
    "\n",
    "# add an element to the original list\n",
    "numbers.append(6)\n",
    "\n",
    "# print both lists\n",
    "print(numbers)        # [1, 2, 3, 4, 5, 6]\n",
    "print(numbers_copy)   # [1, 2, 3, 4, 5]\n"
   ]
  },
  {
   "cell_type": "code",
   "execution_count": 24,
   "id": "a8cf6639",
   "metadata": {},
   "outputs": [
    {
     "name": "stdout",
     "output_type": "stream",
     "text": [
      "['pear', 'banana', 'orange']\n",
      "['apple', 'banana', 'orange']\n"
     ]
    }
   ],
   "source": [
    "'''\n",
    "In this example, we create a list of strings called \"fruits\", and then create a shallow copy of this list using the \"copy\" function. We then modify an element in the original list, and print both the original list and the shallow copy.\n",
    "We can see that the original list now contains the modified element, while the shallow copy remains unchanged.\n",
    "This is because the shallow copy contains references to the same objects as the original list, so any changes made \n",
    "to those objects will be reflected in both lists.\n",
    "However, modifying a reference itself (such as changing the first element to a new object \"pear\" in the original list) \n",
    "will not affect the copy.\n",
    "'''\n",
    "# create a list of strings\n",
    "fruits = [\"apple\", \"banana\", \"orange\"]\n",
    "\n",
    "# create a shallow copy of the list\n",
    "fruits_copy = fruits.copy()\n",
    "\n",
    "# modify an element in the original list\n",
    "fruits[0] = \"pear\"\n",
    "\n",
    "# print both lists\n",
    "print(fruits)        # [\"pear\", \"banana\", \"orange\"]\n",
    "print(fruits_copy)   # [\"apple\", \"banana\", \"orange\"]\n"
   ]
  },
  {
   "cell_type": "markdown",
   "id": "04891c80",
   "metadata": {},
   "source": [
    "# 4) count()"
   ]
  },
  {
   "cell_type": "code",
   "execution_count": 26,
   "id": "a2039daf",
   "metadata": {},
   "outputs": [
    {
     "name": "stdout",
     "output_type": "stream",
     "text": [
      "3\n"
     ]
    }
   ],
   "source": [
    "'''\n",
    "Syntax: count(self, value, /)\n",
    "              Return number of occurrences of value.\n",
    "'''\n",
    "'''\n",
    "The count() function is a built-in Python function that is used to count the number of occurrences of a specified value\n",
    "in a list or other iterable. It takes one required argument, which is the value to be counted, and \n",
    "returns the number of times that value appears in the list.\n",
    "\n",
    "'''\n",
    "'''\n",
    "Explanation: In this example, we have a list called my_list, which contains some integers.\n",
    "We then use the count() method to count the number of times the value 4 appears in the list. \n",
    "The count() method returns 3, because there are three occurrences of the value 4 in the list.\n",
    "\n",
    "'''\n",
    "#Example 1\n",
    "my_list = [1, 2, 3, 4, 4, 4, 5]\n",
    "count = my_list.count(4)\n",
    "print(count)"
   ]
  },
  {
   "cell_type": "code",
   "execution_count": 28,
   "id": "a67377b5",
   "metadata": {},
   "outputs": [
    {
     "name": "stdout",
     "output_type": "stream",
     "text": [
      "2\n"
     ]
    }
   ],
   "source": [
    "#Example 2\n",
    "'''\n",
    "Explanation: In this example, we have a list of fruit called my_list, which contains some strings. \n",
    "We use the count() method to count the number of times the string 'banana' appears in the list. \n",
    "The count() method returns 2, because there are two occurrences of the string 'banana' in the list.\n",
    "\n",
    "'''\n",
    "my_list = ['apple', 'banana', 'orange', 'banana', 'pear']\n",
    "count = my_list.count('banana')\n",
    "print(count)"
   ]
  },
  {
   "cell_type": "code",
   "execution_count": 29,
   "id": "30618103",
   "metadata": {},
   "outputs": [
    {
     "name": "stdout",
     "output_type": "stream",
     "text": [
      "0\n"
     ]
    }
   ],
   "source": [
    "#Example 3\n",
    "'''\n",
    "Explanation: In this example, we have an empty list called my_list.\n",
    "We use the count() method to count the number of times the string 'dog' appears in the list.\n",
    "Since the list is empty and 'dog' does not appear in the list, the count() method returns 0.\n",
    "\n",
    "'''\n",
    "my_list = []\n",
    "count = my_list.count('dog')\n",
    "print(count)"
   ]
  },
  {
   "cell_type": "markdown",
   "id": "29e86d99",
   "metadata": {},
   "source": [
    "# 5) extend()"
   ]
  },
  {
   "cell_type": "code",
   "execution_count": null,
   "id": "1c2722ad",
   "metadata": {},
   "outputs": [],
   "source": [
    "'''\n",
    "NOTE:In summary, the extend() function is a useful method for adding elements to an existing list or combining two lists\n",
    "into one. It is a simple and efficient way to add multiple elements to a list without having to append each one individually.\n",
    "'''"
   ]
  },
  {
   "cell_type": "code",
   "execution_count": 32,
   "id": "cb56ef58",
   "metadata": {},
   "outputs": [
    {
     "name": "stdout",
     "output_type": "stream",
     "text": [
      "[1, 2, 3, 4, 5, 6]\n"
     ]
    }
   ],
   "source": [
    "'''\n",
    "Syntax: extend(self, iterable, /)\n",
    "             Extend list by appending elements from the iterable.\n",
    "\n",
    "'''\n",
    "'''\n",
    "The extend() method in Python is a list method that is used to extend a list with the elements of an iterable. \n",
    "It takes an iterable (e.g., another list, tuple, or set) as an argument and adds each element from that iterable to the\n",
    "end of the list.\n",
    "\n",
    "'''\n",
    "#Example 1: Using extend() to add elements to an existing list\n",
    "# creating an empty list\n",
    "my_list = []\n",
    "\n",
    "# adding elements using extend()\n",
    "my_list.extend([1, 2, 3])\n",
    "my_list.extend([4, 5, 6])\n",
    "\n",
    "# printing the final list\n",
    "print(my_list)\n"
   ]
  },
  {
   "cell_type": "code",
   "execution_count": 33,
   "id": "38210d49",
   "metadata": {},
   "outputs": [
    {
     "name": "stdout",
     "output_type": "stream",
     "text": [
      "[1, 2, 3, 4, 5, 6]\n"
     ]
    }
   ],
   "source": [
    "#Example 2: Using extend() to combine two lists\n",
    "# creating two lists\n",
    "list1 = [1, 2, 3]\n",
    "list2 = [4, 5, 6]\n",
    "\n",
    "# using extend() to combine the two lists\n",
    "list1.extend(list2)\n",
    "\n",
    "# printing the final list\n",
    "print(list1)\n"
   ]
  },
  {
   "cell_type": "code",
   "execution_count": 34,
   "id": "9f2cd9d6",
   "metadata": {},
   "outputs": [
    {
     "name": "stdout",
     "output_type": "stream",
     "text": [
      "[1, 2, 3, 4, 5, 6]\n"
     ]
    }
   ],
   "source": [
    "#Example 3: Using extend() with a tuple\n",
    "# creating a list\n",
    "my_list = [1, 2, 3]\n",
    "\n",
    "# using extend() with a tuple\n",
    "my_tuple = (4, 5, 6)\n",
    "my_list.extend(my_tuple)\n",
    "\n",
    "# printing the final list\n",
    "print(my_list)\n"
   ]
  },
  {
   "cell_type": "markdown",
   "id": "0008a057",
   "metadata": {},
   "source": [
    "# 6) index()"
   ]
  },
  {
   "cell_type": "code",
   "execution_count": 36,
   "id": "ca32a4d1",
   "metadata": {},
   "outputs": [
    {
     "name": "stdout",
     "output_type": "stream",
     "text": [
      "1\n"
     ]
    }
   ],
   "source": [
    "'''\n",
    "Syntax: index(self, value, start=0, stop=9223372036854775807, /)\n",
    "                  Return first index of value.\n",
    "                  Raises ValueError if the value is not present.\n",
    "'''\n",
    "'''\n",
    "The index() function is a built-in method in Python that returns the index of the first occurrence of the specified value \n",
    "in a list. Here is the breakdown of its parameters:\n",
    "\n",
    "self: This is the list on which the method is being applied.\n",
    "value: This is the value that you want to find the index of.\n",
    "start (optional): This is the starting index from where the search for the value should begin. The default value is 0.\n",
    "stop (optional): This is the stopping index after which the search should be stopped. \n",
    "The default value is the maximum value of a Python integer.\n",
    "\n",
    "'''\n",
    "#Example 1:\n",
    "'''\n",
    "In this example, we have a list of fruits and we are finding the index of the first occurrence of 'banana'.\n",
    "The output is 1 because 'banana' appears first at index 1 in the list.\n",
    "'''\n",
    "fruits = ['apple', 'banana', 'orange', 'banana']\n",
    "index = fruits.index('banana')\n",
    "print(index)   # Output: 1"
   ]
  },
  {
   "cell_type": "code",
   "execution_count": 38,
   "id": "cb0ed0b5",
   "metadata": {},
   "outputs": [
    {
     "name": "stdout",
     "output_type": "stream",
     "text": [
      "4\n"
     ]
    }
   ],
   "source": [
    "#Example 2:\n",
    "'''\n",
    "In this example, we have a list of prime numbers and we are finding the index of the first occurrence of 11 between \n",
    "index 3 and index 6. The output is 4 because 11 appears first at index 4 in the given range.\n",
    "'''\n",
    "numbers = [2, 3, 5, 7, 11, 13, 17]\n",
    "index = numbers.index(11, 3, 6)\n",
    "print(index)   # Output: 4"
   ]
  },
  {
   "cell_type": "code",
   "execution_count": 41,
   "id": "256482ab",
   "metadata": {},
   "outputs": [
    {
     "name": "stdout",
     "output_type": "stream",
     "text": [
      "Value not found in list\n"
     ]
    }
   ],
   "source": [
    "#Example 3:\n",
    "'''\n",
    "In this example, we are trying to find the index of 'monkey' in the list of animals. \n",
    "However, since 'monkey' is not present in the list, the index() function raises a ValueError.\n",
    "We have handled this exception and printed a custom message.\n",
    "'''\n",
    "animals = ['dog', 'cat', 'elephant']\n",
    "try:\n",
    "    index = animals.index('monkey')\n",
    "    print(index)\n",
    "except ValueError:\n",
    "    print('Value not found in list')"
   ]
  },
  {
   "cell_type": "markdown",
   "id": "472051e4",
   "metadata": {},
   "source": [
    "# 7) insert()"
   ]
  },
  {
   "cell_type": "code",
   "execution_count": 43,
   "id": "4598efd9",
   "metadata": {},
   "outputs": [
    {
     "name": "stdout",
     "output_type": "stream",
     "text": [
      "[1, 2, 'hello', 3, 4]\n"
     ]
    }
   ],
   "source": [
    "'''\n",
    "Syntax: insert(self, index, object, /)\n",
    "             Insert object before index.\n",
    "'''\n",
    "'''\n",
    "The insert() function in Python is used to insert an element at a specified index in a list. \n",
    "Here are some examples of how to use the insert() function:\n",
    "'''\n",
    "#Example 1:\n",
    "'''\n",
    "Explanation: In this example, the insert() function is used to insert the string \"hello\" at index 2 in the list my_list.\n",
    "The original list is now modified and the new list is printed.\n",
    "'''\n",
    "my_list = [1, 2, 3, 4]\n",
    "my_list.insert(2, \"hello\")\n",
    "print(my_list)\n"
   ]
  },
  {
   "cell_type": "code",
   "execution_count": 45,
   "id": "8712671b",
   "metadata": {},
   "outputs": [
    {
     "name": "stdout",
     "output_type": "stream",
     "text": [
      "['apple', 'orange', 'banana', 'cherry']\n"
     ]
    }
   ],
   "source": [
    "#Example 2:\n",
    "'''\n",
    "Explanation: In this example, the insert() function is used to insert the string \"orange\" at index 1 in the list fruits.\n",
    "The original list is now modified and the new list is printed.\n",
    "'''\n",
    "fruits = ['apple', 'banana', 'cherry']\n",
    "fruits.insert(1, 'orange')\n",
    "print(fruits)"
   ]
  },
  {
   "cell_type": "code",
   "execution_count": 47,
   "id": "617df846",
   "metadata": {},
   "outputs": [
    {
     "name": "stdout",
     "output_type": "stream",
     "text": [
      "[10, 20, 30, [60, 70], 40, 50]\n"
     ]
    }
   ],
   "source": [
    "#Example 3:\n",
    "'''\n",
    "Explanation: In this example, the insert() function is used to insert the list [60, 70] at index 3 in the list my_list.\n",
    "The original list is now modified and the new list is printed.\n",
    "'''\n",
    "my_list = [10, 20, 30, 40, 50]\n",
    "my_list.insert(3, [60, 70])\n",
    "print(my_list)"
   ]
  },
  {
   "cell_type": "markdown",
   "id": "aec10440",
   "metadata": {},
   "source": [
    "# 8) pop()"
   ]
  },
  {
   "cell_type": "code",
   "execution_count": 49,
   "id": "6a29082e",
   "metadata": {},
   "outputs": [
    {
     "name": "stdout",
     "output_type": "stream",
     "text": [
      "5\n",
      "[1, 2, 3, 4]\n"
     ]
    }
   ],
   "source": [
    "'''\n",
    "Syntax:   pop(self, index=-1, /)\n",
    "                 Remove and return item at index (default last).\n",
    "                 \n",
    "'''\n",
    "'''\n",
    "The pop() function is a built-in function in Python that removes and returns an item at a specified index in a list.\n",
    "If no index is specified, it removes and returns the last item in the list.\n",
    "'''\n",
    "'''\n",
    "In all these examples, the pop() function removes and returns an item from the list, and the original list is modified as a \n",
    "result. The index parameter specifies which item to remove, and the default value of -1 means to remove the last item in the\n",
    "list.\n",
    "'''\n",
    "#Example 1: Remove and return the last item in the list\n",
    "numbers = [1, 2, 3, 4, 5]\n",
    "last_number = numbers.pop()\n",
    "print(last_number)  # Output: 5\n",
    "print(numbers)  # Output: [1, 2, 3, 4]"
   ]
  },
  {
   "cell_type": "code",
   "execution_count": 51,
   "id": "aff2707a",
   "metadata": {},
   "outputs": [
    {
     "name": "stdout",
     "output_type": "stream",
     "text": [
      "cherry\n",
      "['apple', 'banana', 'date']\n"
     ]
    }
   ],
   "source": [
    "#Example 2: Remove and return the item at index 2\n",
    "fruits = ['apple', 'banana', 'cherry', 'date']\n",
    "third_fruit = fruits.pop(2)\n",
    "print(third_fruit)  # Output: cherry\n",
    "print(fruits)  # Output: ['apple', 'banana', 'date']"
   ]
  },
  {
   "cell_type": "code",
   "execution_count": 53,
   "id": "d32626f7",
   "metadata": {},
   "outputs": [
    {
     "name": "stdout",
     "output_type": "stream",
     "text": [
      "a\n",
      "['b', 'c', 'd', 'e']\n"
     ]
    }
   ],
   "source": [
    "#Example 3: Remove and return the first item in the list\n",
    "letters = ['a', 'b', 'c', 'd', 'e']\n",
    "first_letter = letters.pop(0)\n",
    "print(first_letter)  # Output: a\n",
    "print(letters)  # Output: ['b', 'c', 'd', 'e']"
   ]
  },
  {
   "cell_type": "code",
   "execution_count": 55,
   "id": "568f2ef4",
   "metadata": {},
   "outputs": [
    {
     "name": "stdout",
     "output_type": "stream",
     "text": [
      "6\n",
      "[[1, 2], [3, 4], [5]]\n"
     ]
    }
   ],
   "source": [
    "#Example 4: Remove and return an item from the end of a nested list\n",
    "nested_list = [[1, 2], [3, 4], [5, 6]]\n",
    "last_item = nested_list[-1].pop()\n",
    "print(last_item)  # Output: 6\n",
    "print(nested_list)  # Output: [[1, 2], [3, 4], [5]]"
   ]
  },
  {
   "cell_type": "markdown",
   "id": "ae5ac15d",
   "metadata": {},
   "source": [
    " # 9) remove()\n",
    "      "
   ]
  },
  {
   "cell_type": "code",
   "execution_count": 2,
   "id": "2e2c80a3",
   "metadata": {},
   "outputs": [
    {
     "name": "stdout",
     "output_type": "stream",
     "text": [
      "['apple', 'orange', 'banana']\n"
     ]
    }
   ],
   "source": [
    "'''\n",
    "Syntax:   remove(self, value, /)\n",
    "              Remove first occurrence of value.\n",
    "      \n",
    "              Raises ValueError if the value is not present.\n",
    "                 \n",
    "'''\n",
    "'''\n",
    "The remove() method in Python is a built-in list method that removes the first occurrence of a specified value from a list.\n",
    "It modifies the original list and returns None. If the specified value is not found in the list, it raises a ValueError \n",
    "exception.\n",
    "'''\n",
    "'''\n",
    "In this example, the remove() method is used to remove the first occurrence of the string 'banana' from the fruits list. \n",
    "After that, the list is printed to show that the first occurrence of 'banana' has been removed.\n",
    "'''\n",
    "#Example 1\n",
    "fruits = ['apple', 'banana', 'orange', 'banana']\n",
    "fruits.remove('banana')\n",
    "print(fruits)  # Output: ['apple', 'orange', 'banana']\n"
   ]
  },
  {
   "cell_type": "code",
   "execution_count": 4,
   "id": "379e39ff",
   "metadata": {},
   "outputs": [
    {
     "ename": "ValueError",
     "evalue": "list.remove(x): x not in list",
     "output_type": "error",
     "traceback": [
      "\u001b[1;31m---------------------------------------------------------------------------\u001b[0m",
      "\u001b[1;31mValueError\u001b[0m                                Traceback (most recent call last)",
      "Cell \u001b[1;32mIn[4], line 6\u001b[0m\n\u001b[0;32m      4\u001b[0m \u001b[38;5;66;03m#Example 2\u001b[39;00m\n\u001b[0;32m      5\u001b[0m numbers \u001b[38;5;241m=\u001b[39m [\u001b[38;5;241m1\u001b[39m, \u001b[38;5;241m2\u001b[39m, \u001b[38;5;241m3\u001b[39m, \u001b[38;5;241m4\u001b[39m]\n\u001b[1;32m----> 6\u001b[0m \u001b[43mnumbers\u001b[49m\u001b[38;5;241;43m.\u001b[39;49m\u001b[43mremove\u001b[49m\u001b[43m(\u001b[49m\u001b[38;5;241;43m5\u001b[39;49m\u001b[43m)\u001b[49m  \u001b[38;5;66;03m# Raises ValueError: list.remove(x): x not in list\u001b[39;00m\n",
      "\u001b[1;31mValueError\u001b[0m: list.remove(x): x not in list"
     ]
    }
   ],
   "source": [
    "'''\n",
    "If the specified value is not present in the list, the remove() method raises a ValueError exception. Here's an example:\n",
    "'''\n",
    "'''\n",
    "In this example, the remove() method is used to remove the value 5 from the numbers list, but since 5 is not present in \n",
    "the list, the method raises a ValueError exception.\n",
    "'''\n",
    "#Example 2\n",
    "numbers = [1, 2, 3, 4]\n",
    "numbers.remove(5)  # Raises ValueError: list.remove(x): x not in list"
   ]
  },
  {
   "cell_type": "markdown",
   "id": "786515e9",
   "metadata": {},
   "source": [
    "# 10) reverse()"
   ]
  },
  {
   "cell_type": "code",
   "execution_count": 6,
   "id": "a1cc6dd9",
   "metadata": {},
   "outputs": [
    {
     "name": "stdout",
     "output_type": "stream",
     "text": [
      "[5, 4, 3, 2, 1]\n"
     ]
    }
   ],
   "source": [
    "'''\n",
    "Syntax:  reverse(self, /)\n",
    "             Reverse *IN PLACE*.\n",
    "                 \n",
    "'''\n",
    "'''\n",
    "The \"reverse()\" method in Python is a built-in function that reverses the order of the elements in a list. When the method \n",
    "is applied, the list is modified in place and its original contents are replaced with the reversed ones. \n",
    "'''\n",
    "'''\n",
    "In this example, we first create a list of integers from 1 to 5. Then, we apply the \"reverse()\" method to the list and \n",
    "print the modified list. As a result, the original list is reversed and the output shows the reversed list.\n",
    "'''\n",
    "#Example 1:\n",
    "my_list = [1, 2, 3, 4, 5]\n",
    "my_list.reverse()\n",
    "print(my_list)"
   ]
  },
  {
   "cell_type": "code",
   "execution_count": 8,
   "id": "259bad6a",
   "metadata": {},
   "outputs": [
    {
     "name": "stdout",
     "output_type": "stream",
     "text": [
      "['date', 'cherry', 'banana', 'apple']\n"
     ]
    }
   ],
   "source": [
    "'''\n",
    "In this example, we create a list of fruits and apply the \"reverse()\" method to the list. As a result, the order of the \n",
    "fruits in the list is reversed and the output shows the modified list.\n",
    "'''\n",
    "#Example 2:\n",
    "my_list = ['apple', 'banana', 'cherry', 'date']\n",
    "my_list.reverse()\n",
    "print(my_list)"
   ]
  },
  {
   "cell_type": "code",
   "execution_count": 9,
   "id": "e49455f4",
   "metadata": {},
   "outputs": [
    {
     "name": "stdout",
     "output_type": "stream",
     "text": [
      "[(3, 'c'), (2, 'b'), (1, 'a')]\n"
     ]
    }
   ],
   "source": [
    "'''\n",
    "In this example, we create a list of tuples, each containing an integer and a character. Then, we apply the \"reverse()\" \n",
    "method to the list and print the modified list. As a result, the order of the tuples in the list is reversed and the \n",
    "output shows the reversed list.\n",
    "'''\n",
    "#Example 3:\n",
    "my_list = [(1, 'a'), (2, 'b'), (3, 'c')]\n",
    "my_list.reverse()\n",
    "print(my_list)"
   ]
  },
  {
   "cell_type": "markdown",
   "id": "885d81b7",
   "metadata": {},
   "source": [
    "# 11) sort()"
   ]
  },
  {
   "cell_type": "code",
   "execution_count": 10,
   "id": "14c21205",
   "metadata": {},
   "outputs": [
    {
     "name": "stdout",
     "output_type": "stream",
     "text": [
      "[1, 1, 2, 3, 3, 4, 5, 5, 5, 6, 9]\n"
     ]
    }
   ],
   "source": [
    "'''\n",
    "Syntax: sort(self, /, *, key=None, reverse=False)\n",
    "                Sort the list in ascending order and return None.\n",
    "\n",
    "                The sort is in-place (i.e. the list itself is modified) and stable (i.e. the\n",
    "                order of two equal elements is maintained).\n",
    "\n",
    "                If a key function is given, apply it once to each list item and sort them,\n",
    "                ascending or descending, according to their function values.\n",
    "\n",
    "                The reverse flag can be set to sort in descending order.\n",
    "'''\n",
    "'''\n",
    "The sort() method is used to sort the elements of a list in ascending order. It modifies the original list and returns None.\n",
    "It has two optional parameters: key and reverse.\n",
    "\n",
    "=>key: It is a function that takes an element as input and returns a value that will be used to sort the list. For example,\n",
    "       if the list contains strings, we can pass len as the key function to sort the list based on the length of the strings.\n",
    "\n",
    "=>reverse: It is a Boolean value that determines whether the list should be sorted in descending order. By default, \n",
    "           it is False, which means the list will be sorted in ascending order.\n",
    "'''\n",
    "#Example 1: Sorting a list of integers\n",
    "numbers = [3, 1, 4, 1, 5, 9, 2, 6, 5, 3, 5]\n",
    "numbers.sort()\n",
    "print(numbers)"
   ]
  },
  {
   "cell_type": "code",
   "execution_count": 12,
   "id": "cc1bca69",
   "metadata": {},
   "outputs": [
    {
     "name": "stdout",
     "output_type": "stream",
     "text": [
      "['date', 'apple', 'banana', 'cherry', 'elderberry']\n"
     ]
    }
   ],
   "source": [
    "'''\n",
    "In the example words = ['apple', 'banana', 'cherry', 'date', 'elderberry'], both 'banana' and 'cherry' have the same length \n",
    "of 6. When we use words.sort(key=len), the sort() method uses a stable sorting algorithm. It means that the relative order \n",
    "of elements with the same length is preserved.\n",
    "'''\n",
    "#Example 2:Sorting a list of strings based on their length\n",
    "words = ['apple', 'banana', 'cherry', 'date', 'elderberry']\n",
    "words.sort(key=len)\n",
    "print(words)"
   ]
  },
  {
   "cell_type": "code",
   "execution_count": 14,
   "id": "012f926a",
   "metadata": {},
   "outputs": [
    {
     "name": "stdout",
     "output_type": "stream",
     "text": [
      "[('banana', 2), ('elderberry', 3), ('date', 4), ('apple', 5), ('cherry', 8)]\n"
     ]
    }
   ],
   "source": [
    "'''\n",
    "In this example, we have a list of tuples called items where each tuple contains a string and an integer. We want to sort\n",
    "this list based on the second element of each tuple, which is an integer.\n",
    "\n",
    "To achieve this, we use the sort() method with the optional key parameter. We pass a lambda function as the key, which \n",
    "takes a tuple as input and returns its second element. This lambda function is equivalent to key = lambda x: x[1].\n",
    "\n",
    "When we call items.sort(key=lambda x: x[1]), the sort() method sorts the list based on the second element of each tuple. \n",
    "The output will be [('banana', 2), ('elderberry', 3), ('date', 4), ('apple', 5), ('cherry', 8)], which is the original \n",
    "list sorted in ascending order based on the second element of each tuple.\n",
    "\n",
    "Note that the key parameter can be any function that takes an element from the list as input and returns a value that can \n",
    "be used to sort the list. In this case, we used a lambda function, but we could also define a separate function and pass it\n",
    "as the key parameter.\n",
    "'''\n",
    "\n",
    "#Example 3: Sorting a list of tuples based on the second element\n",
    "items = [('apple', 5), ('banana', 2), ('cherry', 8), ('date', 4), ('elderberry', 3)]\n",
    "items.sort(key=lambda x: x[1])\n",
    "print(items)"
   ]
  },
  {
   "cell_type": "code",
   "execution_count": 15,
   "id": "618d79da",
   "metadata": {},
   "outputs": [
    {
     "name": "stdout",
     "output_type": "stream",
     "text": [
      "[9, 6, 5, 5, 5, 4, 3, 3, 2, 1, 1]\n"
     ]
    }
   ],
   "source": [
    "'''\n",
    "In this example, the reverse parameter is set to True, which causes the list to be sorted in descending order.\n",
    "'''\n",
    "#Example 4\n",
    "numbers = [3, 1, 4, 1, 5, 9, 2, 6, 5, 3, 5]\n",
    "numbers.sort(reverse=True)\n",
    "print(numbers)  # [9, 6, 5, 5, 5, 4, 3, 3, 2, 1, 1]\n"
   ]
  },
  {
   "cell_type": "code",
   "execution_count": null,
   "id": "1bede32d",
   "metadata": {},
   "outputs": [],
   "source": [
    "'''\n",
    "In the first example, the key function is str.lower, which converts the strings to lowercase before sorting. The reverse \n",
    "parameter is set to True, which sorts the list in descending order.\n",
    "\n",
    "In the second example, the list contains tuples representing names and grades. The key function is a lambda function that \n",
    "returns the second element of each tuple (i.e. the grade). The reverse parameter is set to True, which sorts the list in \n",
    "descending order of grades.\n",
    "'''\n",
    "#Example 5\n",
    "words = ['hello', 'world', 'python', 'programming']\n",
    "words.sort(key=str.lower, reverse=True)\n",
    "print(words)  # ['world', 'python', 'programming', 'hello']\n",
    "\n",
    "#Example 6\n",
    "grades = [('Alice', 80), ('Bob', 90), ('Charlie', 70), ('David', 85)]\n",
    "grades.sort(key=lambda x: x[1], reverse=True)\n",
    "print(grades)  # [('Bob', 90), ('David', 85), ('Alice', 80), ('Charlie', 70)]\n"
   ]
  }
 ],
 "metadata": {
  "kernelspec": {
   "display_name": "Python 3 (ipykernel)",
   "language": "python",
   "name": "python3"
  },
  "language_info": {
   "codemirror_mode": {
    "name": "ipython",
    "version": 3
   },
   "file_extension": ".py",
   "mimetype": "text/x-python",
   "name": "python",
   "nbconvert_exporter": "python",
   "pygments_lexer": "ipython3",
   "version": "3.10.7"
  }
 },
 "nbformat": 4,
 "nbformat_minor": 5
}
