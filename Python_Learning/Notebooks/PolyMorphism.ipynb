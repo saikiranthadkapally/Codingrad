{
 "cells": [
  {
   "cell_type": "code",
   "execution_count": 1,
   "id": "b780dbcf",
   "metadata": {},
   "outputs": [
    {
     "name": "stdout",
     "output_type": "stream",
     "text": [
      "I am a Bird\n",
      "I am a flighing Bird\n"
     ]
    }
   ],
   "source": [
    "## Method Overriding Example\n",
    "\n",
    "class Bird:\n",
    "    def check(self):\n",
    "        print(\"I am a Bird\")\n",
    "class FlighingBird(Bird):\n",
    "    def check(self):\n",
    "        print(\"I am a flighing Bird\")\n",
    "\n",
    "bird = Bird()\n",
    "bird.check()\n",
    "\n",
    "flighingBird = FlighingBird()\n",
    "flighingBird.check()"
   ]
  },
  {
   "cell_type": "code",
   "execution_count": 2,
   "id": "ebcbdee1",
   "metadata": {},
   "outputs": [
    {
     "name": "stdout",
     "output_type": "stream",
     "text": [
      "I am a Bird\n",
      "I am a Bird\n"
     ]
    }
   ],
   "source": [
    "## SImple Single Inheritance\n",
    "class Bird:\n",
    "    def check(self):\n",
    "        print(\"I am a Bird\")\n",
    "class FlighingBird(Bird):\n",
    "    pass\n",
    "\n",
    "bird = Bird()\n",
    "bird.check()\n",
    "\n",
    "flighingBird = FlighingBird()\n",
    "flighingBird.check()"
   ]
  },
  {
   "cell_type": "code",
   "execution_count": 3,
   "id": "e78a7312",
   "metadata": {},
   "outputs": [
    {
     "name": "stdout",
     "output_type": "stream",
     "text": [
      "I am a Bird\n",
      "I am a flighing Bird\n"
     ]
    }
   ],
   "source": [
    "#Method Overriding\n",
    "class Bird:\n",
    "    def __init__(self):\n",
    "        self.type = \"Bird\"\n",
    "    def check(self):\n",
    "        print(f\"I am a {self.type}\")\n",
    "class FlighingBird(Bird):\n",
    "    def check(self):\n",
    "        print(\"I am a flighing Bird\")\n",
    "\n",
    "bird = Bird()\n",
    "bird.check()\n",
    "\n",
    "flighingBird = FlighingBird()\n",
    "flighingBird.check()"
   ]
  },
  {
   "cell_type": "code",
   "execution_count": 6,
   "id": "f3487fc2",
   "metadata": {},
   "outputs": [
    {
     "name": "stdout",
     "output_type": "stream",
     "text": [
      "I am a Bird\n",
      "I am a Bird\n"
     ]
    }
   ],
   "source": [
    "## Method Overriding\n",
    "class Bird:\n",
    "    def __init__(self):\n",
    "        self.type = \"Bird\"\n",
    "    def check(self):\n",
    "        print(f\"I am a {self.type}\")\n",
    "class FlighingBird(Bird):\n",
    "    def check(self):\n",
    "        print(f\"I am a {self.type}\")\n",
    "\n",
    "bird = Bird()\n",
    "bird.check()\n",
    "\n",
    "flighingBird = FlighingBird()\n",
    "flighingBird.check()"
   ]
  },
  {
   "cell_type": "code",
   "execution_count": 8,
   "id": "da7a9440",
   "metadata": {},
   "outputs": [
    {
     "name": "stdout",
     "output_type": "stream",
     "text": [
      "I am a Bird\n",
      "I am a bird\n"
     ]
    }
   ],
   "source": [
    "## Constructor Overriding\n",
    "## Method Overriding\n",
    "class Bird:\n",
    "    def __init__(self):\n",
    "        self.type = \"Bird\"\n",
    "    def check(self):\n",
    "        print(f\"I am a {self.type}\")\n",
    "class FlighingBird(Bird):\n",
    "    def __init__(self):\n",
    "        self.type = \"bird\"\n",
    "    def check(self):\n",
    "        print(f\"I am a {self.type}\")\n",
    "\n",
    "bird = Bird()\n",
    "bird.check()\n",
    "\n",
    "flighingBird = FlighingBird()\n",
    "flighingBird.check()"
   ]
  },
  {
   "cell_type": "code",
   "execution_count": 10,
   "id": "eb755605",
   "metadata": {},
   "outputs": [
    {
     "name": "stdout",
     "output_type": "stream",
     "text": [
      "I am a Bird\n",
      "I am a Flighing Bird\n",
      "I am In flighing bird and I am accessing property from Bird i.e. Value: None\n"
     ]
    }
   ],
   "source": [
    "class Bird:\n",
    "    value = None\n",
    "    def __init__(self):\n",
    "        self.type = \"Bird\"\n",
    "    def check(self):\n",
    "        print(f\"I am a {self.type}\")\n",
    "class FlighingBird(Bird):\n",
    "    def __init__(self):\n",
    "        self.type = \"Flighing Bird\"\n",
    "    def check(self):\n",
    "        print(f\"I am a {self.type}\")\n",
    "        print(f\"I am In flighing bird and I am accessing property from Bird i.e. Value: {self.value}\")\n",
    "\n",
    "class Human:\n",
    "    pass\n",
    "\n",
    "bird = Bird()\n",
    "bird.check()\n",
    "\n",
    "flighingBird = FlighingBird()\n",
    "flighingBird.check()"
   ]
  },
  {
   "cell_type": "code",
   "execution_count": 11,
   "id": "dc66a7e4",
   "metadata": {},
   "outputs": [
    {
     "name": "stdout",
     "output_type": "stream",
     "text": [
      "I am a Bird\n",
      "I am a CHECKKK\n",
      "I am In flighing bird and I am accessing property from Bird i.e. Value: Bird\n",
      "I am a CHECKKK\n",
      "I am In flighing bird and I am accessing property from Bird i.e. Value: Flighing Bird\n"
     ]
    }
   ],
   "source": [
    "class Bird:\n",
    "    value = \"CHECKKK\"\n",
    "    def __init__(self):\n",
    "        self.type = \"Bird\"\n",
    "    def check(self):\n",
    "        print(f\"I am a {self.type}\")\n",
    "        \n",
    "class FlighingBird(Bird):\n",
    "    def __init__(self):\n",
    "        super().__init__()\n",
    "        self.check()\n",
    "        self.type = \"Flighing Bird\"\n",
    "    def check(self):\n",
    "        print(f\"I am a {super().value}\")\n",
    "        print(f\"I am In flighing bird and I am accessing property from Bird i.e. Value: {self.type}\")\n",
    "\n",
    "bird = Bird()\n",
    "bird.check()\n",
    "\n",
    "flighingBird = FlighingBird()\n",
    "flighingBird.check()"
   ]
  },
  {
   "cell_type": "code",
   "execution_count": null,
   "id": "74574652",
   "metadata": {},
   "outputs": [],
   "source": []
  },
  {
   "cell_type": "code",
   "execution_count": null,
   "id": "4a83dd9b",
   "metadata": {},
   "outputs": [],
   "source": []
  },
  {
   "cell_type": "code",
   "execution_count": null,
   "id": "a0d6d500",
   "metadata": {},
   "outputs": [],
   "source": []
  },
  {
   "cell_type": "code",
   "execution_count": null,
   "id": "55df9c5a",
   "metadata": {},
   "outputs": [],
   "source": []
  },
  {
   "cell_type": "code",
   "execution_count": 12,
   "id": "56f3cb56",
   "metadata": {},
   "outputs": [],
   "source": [
    "def add(a,b):\n",
    "    return a+b\n",
    "def add(a,b,c):\n",
    "    return a+b+c"
   ]
  },
  {
   "cell_type": "code",
   "execution_count": 13,
   "id": "a8f87e7d",
   "metadata": {},
   "outputs": [
    {
     "ename": "TypeError",
     "evalue": "add() missing 1 required positional argument: 'c'",
     "output_type": "error",
     "traceback": [
      "\u001b[0;31m---------------------------------------------------------------------------\u001b[0m",
      "\u001b[0;31mTypeError\u001b[0m                                 Traceback (most recent call last)",
      "Cell \u001b[0;32mIn[13], line 1\u001b[0m\n\u001b[0;32m----> 1\u001b[0m \u001b[43madd\u001b[49m\u001b[43m(\u001b[49m\u001b[38;5;241;43m1\u001b[39;49m\u001b[43m,\u001b[49m\u001b[38;5;241;43m2\u001b[39;49m\u001b[43m)\u001b[49m\n",
      "\u001b[0;31mTypeError\u001b[0m: add() missing 1 required positional argument: 'c'"
     ]
    }
   ],
   "source": [
    "add(1,2)"
   ]
  },
  {
   "cell_type": "code",
   "execution_count": 14,
   "id": "c7753c43",
   "metadata": {},
   "outputs": [],
   "source": [
    "def add(*args):\n",
    "    sum_ = 0\n",
    "    for value in args:\n",
    "        sum_ = sum_+value\n",
    "    return sum_"
   ]
  },
  {
   "cell_type": "code",
   "execution_count": 15,
   "id": "24fe7fe9",
   "metadata": {},
   "outputs": [
    {
     "data": {
      "text/plain": [
       "3"
      ]
     },
     "execution_count": 15,
     "metadata": {},
     "output_type": "execute_result"
    }
   ],
   "source": [
    "add(1,2)"
   ]
  },
  {
   "cell_type": "code",
   "execution_count": 16,
   "id": "af857ed4",
   "metadata": {},
   "outputs": [
    {
     "data": {
      "text/plain": [
       "10"
      ]
     },
     "execution_count": 16,
     "metadata": {},
     "output_type": "execute_result"
    }
   ],
   "source": [
    "add(1,2,3,4)"
   ]
  },
  {
   "cell_type": "code",
   "execution_count": null,
   "id": "074605f2",
   "metadata": {},
   "outputs": [],
   "source": [
    "'''\n",
    "Python does not support function overloading. An error gets thrown if we implement the function overloading code the way \n",
    "we do in other languages. The reason is as Python does not have a data type for method parameters.\n",
    "In the below program, we can see that the second sum method overrides the first sum method. When we call the function using \n",
    "three arguments, it gives the output, but when we use two argument, it gives an error. Hence we can say that Python does not\n",
    "support function overloading.\n",
    "'''"
   ]
  },
  {
   "cell_type": "code",
   "execution_count": 6,
   "id": "be1398ad",
   "metadata": {},
   "outputs": [
    {
     "name": "stdout",
     "output_type": "stream",
     "text": [
      "Second method: 104\n"
     ]
    },
    {
     "ename": "TypeError",
     "evalue": "sumClass.sum() missing 1 required positional argument: 'c'",
     "output_type": "error",
     "traceback": [
      "\u001b[1;31m---------------------------------------------------------------------------\u001b[0m",
      "\u001b[1;31mTypeError\u001b[0m                                 Traceback (most recent call last)",
      "Cell \u001b[1;32mIn[6], line 9\u001b[0m\n\u001b[0;32m      7\u001b[0m obj\u001b[38;5;241m=\u001b[39msumClass()\n\u001b[0;32m      8\u001b[0m obj\u001b[38;5;241m.\u001b[39msum(\u001b[38;5;241m19\u001b[39m, \u001b[38;5;241m8\u001b[39m, \u001b[38;5;241m77\u001b[39m) \u001b[38;5;66;03m#correct output\u001b[39;00m\n\u001b[1;32m----> 9\u001b[0m \u001b[43mobj\u001b[49m\u001b[38;5;241;43m.\u001b[39;49m\u001b[43msum\u001b[49m\u001b[43m(\u001b[49m\u001b[38;5;241;43m18\u001b[39;49m\u001b[43m,\u001b[49m\u001b[43m \u001b[49m\u001b[38;5;241;43m20\u001b[39;49m\u001b[43m)\u001b[49m \u001b[38;5;66;03m#throws error\u001b[39;00m\n",
      "\u001b[1;31mTypeError\u001b[0m: sumClass.sum() missing 1 required positional argument: 'c'"
     ]
    }
   ],
   "source": [
    "#Example\n",
    "class sumClass:\n",
    "    def sum(self, a, b):\n",
    "        print(\"First method:\",a+b)\n",
    "    def sum(self, a, b, c):\n",
    "        print(\"Second method:\", a + b + c)\n",
    "        \n",
    "obj=sumClass()\n",
    "obj.sum(19, 8, 77) #correct output\n",
    "obj.sum(18, 20) #throws error\n"
   ]
  },
  {
   "cell_type": "code",
   "execution_count": 7,
   "id": "cbace295",
   "metadata": {},
   "outputs": [
    {
     "data": {
      "text/plain": [
       "'\\nNOTE: There are other ways by which we can implement function overloading in Python.\\n'"
      ]
     },
     "execution_count": 7,
     "metadata": {},
     "output_type": "execute_result"
    }
   ],
   "source": [
    "'''\n",
    "NOTE: There are other ways by which we can implement function overloading in Python.\n",
    "'''"
   ]
  },
  {
   "cell_type": "code",
   "execution_count": 9,
   "id": "e83ab2b1",
   "metadata": {},
   "outputs": [
    {
     "name": "stdout",
     "output_type": "stream",
     "text": [
      "First method: 104\n",
      "Provide more numbers\n"
     ]
    }
   ],
   "source": [
    "'''\n",
    "We can achieve it by setting one or more parameters as None in the function declaration. We will also include the checking \n",
    "condition for None in the function body so that while calling if we don't provide the argument for a parameter that we have\n",
    "set as None, an error won't occur.\n",
    "'''\n",
    "class sumClass:\n",
    "    def sum(self, a = None, b = None, c = None):\n",
    "        if a != None and b == None or c == None:\n",
    "            print(\"Provide more numbers\") #if there is only 1 number as input\n",
    "        else:   \n",
    "            print(\"First method:\", a + b + c) #for calculating the sum\n",
    "        \n",
    "obj=sumClass()\n",
    "obj.sum(19, 8, 77)#104\n",
    "obj.sum(18)#Provide more numbers\n"
   ]
  },
  {
   "cell_type": "code",
   "execution_count": 10,
   "id": "acb82513",
   "metadata": {},
   "outputs": [
    {
     "name": "stdout",
     "output_type": "stream",
     "text": [
      "The total items are:\n",
      "4\n"
     ]
    }
   ],
   "source": [
    "'''\n",
    "How function overloading works in Python?\n",
    "In Python, when we define two functions with the same name, the latest one is considered a valid function. If we want to \n",
    "implement the concept of function overloading, we need to set the default values of the parameters of the function as None.\n",
    "By setting the value of functional parameters as None, we get the option of calling the function either with or without the\n",
    "parameter. So, if we don't include the parameter set as None, it will not give an error.\n",
    "\n",
    "Overloading Built-in Functions\n",
    "In the Python Data Model, we have a few special functions and it provides us the means of overloading the built-in functions.\n",
    "The names of the special functions begin with double underscores(__).\n",
    "In our example, we will change the default behavior of the len() function by overloading it with the special function. So \n",
    "when a pre-defined(built-in) function is declared as a special function inside a class, the interpreter executes the special\n",
    "function as the function definition for the built-in function's call. Let us see an example using a special function in \n",
    "Python.\n",
    "\n",
    "In Below code The init method is automatically called every time an object gets created from a class. We are trying to \n",
    "change the default behavior of the len() function in Python, which only displays the object's length. Whenever we pass \n",
    "an object of our class to len(), the custom definition we have written for the __len__() function will fetch the desired \n",
    "results.In our custom definition for __len__ we have added the code we want. This overloads the len() function.\n",
    "'''\n",
    "class items:\n",
    "    def __init__(self, cart):\n",
    "        self.cart= list(cart)\n",
    "        \n",
    "    #special function\n",
    "    def __len__(self):\n",
    "        print(\"The total items are:\")\n",
    "        return len(self.cart)#built-in function\n",
    "purchase = items(['apple', 'banana', 'mango','grapes'])\n",
    "print(len(purchase))#prints the body of the special function\n"
   ]
  },
  {
   "cell_type": "code",
   "execution_count": 11,
   "id": "49d487f5",
   "metadata": {},
   "outputs": [
    {
     "name": "stdout",
     "output_type": "stream",
     "text": [
      "Area of the triangle 76.0\n",
      "Area of the square 324\n",
      "Area of the rectangle 2736\n"
     ]
    }
   ],
   "source": [
    "#Example\n",
    "'''\n",
    "Using Function Overloading in Python, let us write a code to calculate the area of figures(triangle, rectangle, square). \n",
    "We are setting the default values of the parameters as None, and we will call the same function having varying parameters.\n",
    "'''\n",
    "class areaClass:\n",
    "    def area(self,a,b=None,c=None,d=None):\n",
    "        \n",
    "        #when a and c are passed as arguments\n",
    "        if a!=None and b!=None and a!=b and a!=c:\n",
    "            print(\"Area of the triangle\",(0.5*a*b))\n",
    "            \n",
    "         #when a,b,c and d are passed as arguments   \n",
    "        elif(b!=None and c!=None and d!=None and a==b and a==c):\n",
    "             print(\"Area of the square\",(a*c))\n",
    "                \n",
    "        elif(b==None and c==None and d==None):\n",
    "            print(\"Enter more numbers\")\n",
    "        else: \n",
    "            if(a==c):\n",
    "                print(\"Area of the rectangle\",(a*b))\n",
    "            else:\n",
    "                print(\"Area of the rectangle\",(a*c))\n",
    "        \n",
    "obj=areaClass()\n",
    "obj.area(19,8,77)#Area of the triangle 76.0\n",
    "obj.area(18,18,18,18)#Area of the square 324\n",
    "obj.area(72,38,72,38)#Area of the rectangle 2736\n"
   ]
  },
  {
   "cell_type": "code",
   "execution_count": null,
   "id": "b8c4fc60",
   "metadata": {},
   "outputs": [],
   "source": [
    "'''\n",
    "Conclusion\n",
    "Function overloading is the feature when multiple functions have the same name but the number of parameters in the functions\n",
    "varies.Python does not support function overloading. Suppose we still want to use the feature of functional overloading. In \n",
    "that case, we can set the default values of parameters in the method as None, which won't give an error if that specific \n",
    "value is not passed as an argument while calling the function.The latest defined function having the same name as the \n",
    "previous function is considered a valid function.Since the method arguments do not have a data type, it does not support \n",
    "overloading.\n",
    "'''"
   ]
  }
 ],
 "metadata": {
  "kernelspec": {
   "display_name": "Python 3 (ipykernel)",
   "language": "python",
   "name": "python3"
  },
  "language_info": {
   "codemirror_mode": {
    "name": "ipython",
    "version": 3
   },
   "file_extension": ".py",
   "mimetype": "text/x-python",
   "name": "python",
   "nbconvert_exporter": "python",
   "pygments_lexer": "ipython3",
   "version": "3.10.7"
  }
 },
 "nbformat": 4,
 "nbformat_minor": 5
}
