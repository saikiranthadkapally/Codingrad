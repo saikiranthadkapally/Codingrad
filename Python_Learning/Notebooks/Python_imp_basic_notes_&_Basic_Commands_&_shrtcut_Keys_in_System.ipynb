{
 "cells": [
  {
   "cell_type": "code",
   "execution_count": 1,
   "id": "061c692d",
   "metadata": {},
   "outputs": [],
   "source": [
    "#Here Below code is conditional statements like if,elif,else, or nested statements are executes only one-time and terminates the condition.\n",
    "#It will not stay in that condition if we need to re-execute it we need to use loops like while,for,for each."
   ]
  },
  {
   "cell_type": "code",
   "execution_count": 1,
   "id": "aa3987e1",
   "metadata": {},
   "outputs": [],
   "source": [
    "def enter1():\n",
    "    user_input = input(\"Enter numbers:\")\n",
    "    numbers = user_input.split(',')\n",
    "    for i in range(len(numbers)):         #Here we are using for loop to take numbers in single entry.also we also use map() to do this process.\n",
    "        numbers[i] = int(numbers[i])\n",
    "        num1 = numbers[0]\n",
    "        num2 = numbers[1]\n",
    "    if num1>num2:\n",
    "        print(f\"The greatest numer is {num1}\")\n",
    "    elif num1<num2:\n",
    "        print(f\"The greatest number is {num2}\")\n",
    "    else:\n",
    "        print(\"Both are equal\")\n",
    "    print(\"The program is executed....\")\n",
    "    if num1!=num2:\n",
    "        print(\"doesn't match\")"
   ]
  },
  {
   "cell_type": "code",
   "execution_count": 22,
   "id": "f3e25cc5",
   "metadata": {},
   "outputs": [
    {
     "name": "stdout",
     "output_type": "stream",
     "text": [
      "Enter numbers:10, 20\n",
      "The greatest number is 20\n",
      "The program is executed....\n",
      "doesn't match\n"
     ]
    }
   ],
   "source": [
    "enter1()"
   ]
  },
  {
   "cell_type": "code",
   "execution_count": 30,
   "id": "bd5df475",
   "metadata": {},
   "outputs": [
    {
     "name": "stdout",
     "output_type": "stream",
     "text": [
      "1\n",
      "2\n",
      "3\n"
     ]
    }
   ],
   "source": [
    "#Working of map function\n",
    "#In this example, the int function is applied to each string in the list numbers, \n",
    "#resulting in a map object that yields the integer representations of the elements in the list.\n",
    "#The for loop is used to iterate over the map object and print each integer.\n",
    "numbers = ['1', '2', '3']\n",
    "result = map(int, numbers)\n",
    "for i in result:\n",
    "    print(i)"
   ]
  },
  {
   "cell_type": "code",
   "execution_count": 28,
   "id": "5ee084e6",
   "metadata": {},
   "outputs": [],
   "source": [
    "def enter2():\n",
    "    num1, num2 = map(int, input(\"Enter numbers:\").split(',')) #Here we used map function to convert strings to integers and assign numbers in single entry.\n",
    "    if num1>num2:\n",
    "        print(f\"The greatest numer is {num1}\")\n",
    "    elif num1<num2:\n",
    "        print(f\"The greatest number is {num2}\")\n",
    "    else:\n",
    "        print(\"Both are equal\")\n",
    "    print(\"The program is executed....\")\n",
    "    if num1==num2:\n",
    "        print(\"doesn't match\")"
   ]
  },
  {
   "cell_type": "code",
   "execution_count": null,
   "id": "e7abd9d7",
   "metadata": {},
   "outputs": [],
   "source": [
    "enter2()"
   ]
  },
  {
   "cell_type": "code",
   "execution_count": 13,
   "id": "7d0c4c95",
   "metadata": {},
   "outputs": [],
   "source": [
    "#Here we are staying inside the condition until we exit explicitly or ourself using looping conditions like for, for each, while.\n",
    "def enter3():\n",
    "    flag = True\n",
    "    while flag:\n",
    "        hello = int(input(\"Enter:\\n1. To compare Numbers\\n2. Exit\\n\"))\n",
    "        if hello == 1:\n",
    "            num1, num2 = map(int, input(\"Enter numbers:\").split(',')) #Here we used map function to convert strings to integers and assign numbers in single entry.\n",
    "            if num1>num2:\n",
    "                print(f\"The greatest numer is {num1}\")\n",
    "            elif num1<num2:\n",
    "                print(f\"The greatest number is {num2}\")\n",
    "            else:\n",
    "                print(\"Both are equal\")\n",
    "            print(\"The program is executed....\")\n",
    "            if num1==num2:\n",
    "                print(\"doesn't match\")\n",
    "        elif hello == 2:\n",
    "            flag = False\n",
    "            print(\"Exiting....\")"
   ]
  },
  {
   "cell_type": "code",
   "execution_count": 15,
   "id": "0e591204",
   "metadata": {},
   "outputs": [
    {
     "name": "stdout",
     "output_type": "stream",
     "text": [
      "Enter:\n",
      "1. To compare Numbers\n",
      "2. Exit\n",
      "1\n",
      "Enter numbers:10,20\n",
      "The greatest number is 20\n",
      "The program is executed....\n",
      "Enter:\n",
      "1. To compare Numbers\n",
      "2. Exit\n",
      "2\n",
      "Exiting....\n"
     ]
    }
   ],
   "source": [
    "enter3()"
   ]
  },
  {
   "cell_type": "markdown",
   "id": "e5e19351",
   "metadata": {},
   "source": [
    "# Problem:"
   ]
  },
  {
   "cell_type": "code",
   "execution_count": null,
   "id": "9160be9a",
   "metadata": {},
   "outputs": [],
   "source": [
    "'''\n",
    "For a number X, let its \"Coolness\" be defined as the number of \" 101 \"s occurring in its\n",
    "binary representation.\n",
    "\n",
    "For example, the number 21 has Coolness 2, since its binary representation is 10101, and\n",
    "the string \" 101\" occurs twice in this representation.\n",
    "\n",
    "A number is defined as Very Cool if its Coolness is greater than or equal to K. Please, output\n",
    "the number of Very Cool integers between 1 and including R.\n",
    "\n",
    "Input: Two space-separated integers, R and K.\n",
    "Output:Print Single integer representing the number of Very Cool integers between 1 and R.\n",
    "\n",
    "Constraints:\n",
    "1<=R<=105\n",
    "1<=K<=100\n",
    "\n",
    "Sample Input\n",
    "21 2\n",
    "Sample Input\n",
    "102 1\n",
    "Sample Output\n",
    "1\n",
    "Sample Output\n",
    "48\n",
    "'''"
   ]
  },
  {
   "cell_type": "code",
   "execution_count": 14,
   "id": "f0dfc053",
   "metadata": {},
   "outputs": [
    {
     "name": "stdout",
     "output_type": "stream",
     "text": [
      "102 1\n",
      "48\n"
     ]
    }
   ],
   "source": [
    "#Solution\n",
    "R, K = map(int, input().split())\n",
    "count = 0\n",
    "for i in range(1, R+1):\n",
    "    binary = bin(i)[2:]\n",
    "    coolness = 0\n",
    "    j = 0\n",
    "    while j <= len(binary):\n",
    "        if binary[j:j+3] == \"101\":\n",
    "            coolness = coolness + 1\n",
    "            j += 2\n",
    "        else:\n",
    "            j += 1\n",
    "    if coolness >= K:\n",
    "        count = count + 1\n",
    "        \n",
    "print(count) "
   ]
  },
  {
   "cell_type": "markdown",
   "id": "a064b447",
   "metadata": {},
   "source": [
    "## NOTE: \"BUGS\" are Hard to Identify and Solve Whereas \"ERRORS\" are Easy to Identify and Solve."
   ]
  },
  {
   "cell_type": "markdown",
   "id": "05552f23",
   "metadata": {},
   "source": [
    "# POSSIBLE TYPE OF BUGS GENERATIONS IN THIS PROBLEM\n"
   ]
  },
  {
   "cell_type": "code",
   "execution_count": 12,
   "id": "d733247b",
   "metadata": {},
   "outputs": [
    {
     "name": "stdout",
     "output_type": "stream",
     "text": [
      "10101\n",
      "dnhhd\n"
     ]
    },
    {
     "ename": "KeyboardInterrupt",
     "evalue": "",
     "output_type": "error",
     "traceback": [
      "\u001b[1;31m---------------------------------------------------------------------------\u001b[0m",
      "\u001b[1;31mKeyboardInterrupt\u001b[0m                         Traceback (most recent call last)",
      "Cell \u001b[1;32mIn[12], line 5\u001b[0m\n\u001b[0;32m      3\u001b[0m \u001b[38;5;28mprint\u001b[39m(binary)\n\u001b[0;32m      4\u001b[0m j \u001b[38;5;241m=\u001b[39m \u001b[38;5;241m0\u001b[39m\n\u001b[1;32m----> 5\u001b[0m \u001b[38;5;28;01mwhile\u001b[39;00m j \u001b[38;5;241m<\u001b[39m\u001b[38;5;241m=\u001b[39m \u001b[38;5;28;43mlen\u001b[39;49m\u001b[43m(\u001b[49m\u001b[43mbinary\u001b[49m\u001b[43m)\u001b[49m:\n\u001b[0;32m      6\u001b[0m    \u001b[38;5;28;01mif\u001b[39;00m binary[j:j\u001b[38;5;241m+\u001b[39m\u001b[38;5;241m3\u001b[39m] \u001b[38;5;241m==\u001b[39m\u001b[38;5;124m\"\u001b[39m\u001b[38;5;124m101\u001b[39m\u001b[38;5;124m\"\u001b[39m:\n\u001b[0;32m      7\u001b[0m        \u001b[38;5;28mprint\u001b[39m(\u001b[38;5;124m\"\u001b[39m\u001b[38;5;124mdnhhd\u001b[39m\u001b[38;5;124m\"\u001b[39m)\n",
      "\u001b[1;31mKeyboardInterrupt\u001b[0m: "
     ]
    }
   ],
   "source": [
    "num = 21 # The binary number of \"21\" is \"10101\" indices are \"0,1,2,3,4\"\n",
    "binary = bin(num)[2:]\n",
    "print(binary)\n",
    "j = 0\n",
    "#It doesn't throws any error to handle using \"Exceptional Handler\".But executes infinte no.of.times Since there is no \"else\"\n",
    "#inorder to stop iteration we need to interrupt \"kernel\" explicitly.\n",
    "while j <= len(binary): # Here the \"while\" is always \"True\" and iterates infinite no.of.times\n",
    "    if binary[j:j+3] ==\"101\":  #Here \"if\" condition is always \"false\" and after first iteration in this example.\n",
    "        print(\"dnhhd\")\n",
    "        j += 3 #It skips first 3 indices and start becomes \"0+3=3\" after first iteration "
   ]
  },
  {
   "cell_type": "code",
   "execution_count": 13,
   "id": "0fbbed59",
   "metadata": {},
   "outputs": [
    {
     "name": "stdout",
     "output_type": "stream",
     "text": [
      "21 1\n",
      "1\n"
     ]
    }
   ],
   "source": [
    "'''\n",
    "The break statement in the code you provided will only exit the for loop, and not the while loop.\n",
    "The break statement will cause the for loop to exit immediately when the condition coolness >= K is satisfied for the first\n",
    "time. The while loop will also be exited automatically as the program execution proceeds to the next line of code outside \n",
    "the loop.\n",
    "\n",
    "So, in this case, the break statement only exits the for loop and prevents the program from checking the remaining values \n",
    "of i in the range 1 to R. The while loop will still run for each value of i until the for loop is exited.\n",
    "\n",
    "'''\n",
    "R, K = map(int, input().split())\n",
    "count = 0\n",
    "for i in range(1, R+1):\n",
    "    binary = bin(i)[2:]\n",
    "    coolness = 0\n",
    "    j = 0\n",
    "    while j <= len(binary):\n",
    "        if binary[j:j+3] == \"101\":\n",
    "            coolness = coolness + 1\n",
    "            j += 2\n",
    "        else:\n",
    "            j += 1\n",
    "    if coolness >= K: #If this \"If\" Statement is written inside \"while\" loop then it exit only from \"while\" loop.\n",
    "        count = count + 1\n",
    "        break\n",
    "        \n",
    "print(count)"
   ]
  },
  {
   "cell_type": "markdown",
   "id": "6154f850",
   "metadata": {},
   "source": [
    "# ****************\"Slicing\"*****************************:- in Python Important Note"
   ]
  },
  {
   "cell_type": "markdown",
   "id": "dfffefd7",
   "metadata": {},
   "source": [
    "## NOTE:Python has built-in \"slicing\" functionality.the slicing syntax in Python is designed to handle cases where the index exceeds the length of the sequence being sliced. It will doesn't throw anyerror as in \"indexing\" operation Bcs \"Slicing\" in python treats for example \"suppose we have a number 10101 sliced as \"binary[2:5]\"  is effectively equivalent to binary[2:], which returns the substring starting at index 2 and continuing until the end of the string. \n"
   ]
  },
  {
   "cell_type": "markdown",
   "id": "071f2c5d",
   "metadata": {},
   "source": [
    "### NOTE: In Below Example \"In this Notebook\"  In some cases the \"It's possible that the Jupyter notebook environment is buffering the output, so you may need to use flush=True as an argument to the print function to force the output to be printed immediately. Alternatively, you can try using the sys.stdout.flush() function to manually flush the output buffer.\" But in below example it's working fine in some cases it will buffer in memory."
   ]
  },
  {
   "cell_type": "code",
   "execution_count": 3,
   "id": "29a22aac",
   "metadata": {},
   "outputs": [
    {
     "name": "stdout",
     "output_type": "stream",
     "text": [
      "10101\n",
      "101\n",
      "01\n"
     ]
    }
   ],
   "source": [
    "#Example\n",
    "num = 21\n",
    "binary = bin(num)[2:]\n",
    "print(binary)\n",
    "j = 0\n",
    "while j < len(binary):\n",
    "    print(binary[j:j+3])\n",
    "    j += 3"
   ]
  },
  {
   "cell_type": "markdown",
   "id": "0fb03230",
   "metadata": {},
   "source": [
    "## NOTE: In Java, there is no built-in \"slicing\" functionality like in Python. However, you can achieve similar behavior using the substring method of the String class or the Arrays.copyOfRange method."
   ]
  },
  {
   "cell_type": "code",
   "execution_count": 5,
   "id": "0806681c",
   "metadata": {},
   "outputs": [
    {
     "data": {
      "text/plain": [
       "'\\nUsing substring:\\n#Example\\nString s = \"hello world\";\\nString sliced = s.substring(0, 5); // equivalent to s[:5] in Python\\nSystem.out.println(sliced); // prints \"hello\"\\n'"
      ]
     },
     "execution_count": 5,
     "metadata": {},
     "output_type": "execute_result"
    }
   ],
   "source": [
    "'''\n",
    "Using substring:\n",
    "#Example\n",
    "String s = \"hello world\";\n",
    "String sliced = s.substring(0, 5); // equivalent to s[:5] in Python\n",
    "System.out.println(sliced); // prints \"hello\"\n",
    "'''"
   ]
  },
  {
   "cell_type": "code",
   "execution_count": 6,
   "id": "3854428d",
   "metadata": {},
   "outputs": [
    {
     "data": {
      "text/plain": [
       "'\\nUsing Arrays.copyOfRange:\\n#Example\\nint[] arr = {1, 2, 3, 4, 5};\\nint[] sliced = Arrays.copyOfRange(arr, 0, 3); // equivalent to arr[:3] in Python\\nSystem.out.println(Arrays.toString(sliced)); // prints \"[1, 2, 3]\"\\n\\n'"
      ]
     },
     "execution_count": 6,
     "metadata": {},
     "output_type": "execute_result"
    }
   ],
   "source": [
    "'''\n",
    "Using Arrays.copyOfRange:\n",
    "#Example\n",
    "int[] arr = {1, 2, 3, 4, 5};\n",
    "int[] sliced = Arrays.copyOfRange(arr, 0, 3); // equivalent to arr[:3] in Python\n",
    "System.out.println(Arrays.toString(sliced)); // prints \"[1, 2, 3]\"\n",
    "\n",
    "'''"
   ]
  },
  {
   "cell_type": "code",
   "execution_count": 7,
   "id": "f53bd830",
   "metadata": {},
   "outputs": [
    {
     "data": {
      "text/plain": [
       "'\\nIn both cases, if you try to access an index outside the range of the original string or array, you will get an \\nIndexOutOfBoundsException at runtime. For example:\\n#Example\\nString s = \"hello world\";\\nString sliced = s.substring(0, 50); // equivalent to s[:50] in Python (which would raise an IndexError)\\n// throws IndexOutOfBoundsException: String index out of range: 50\\n\\n'"
      ]
     },
     "execution_count": 7,
     "metadata": {},
     "output_type": "execute_result"
    }
   ],
   "source": [
    "'''\n",
    "In both cases, if you try to access an index outside the range of the original string or array, you will get an \n",
    "IndexOutOfBoundsException at runtime. For example:\n",
    "#Example\n",
    "String s = \"hello world\";\n",
    "String sliced = s.substring(0, 50); // equivalent to s[:50] in Python (which would raise an IndexError)\n",
    "// throws IndexOutOfBoundsException: String index out of range: 50\n",
    "\n",
    "'''"
   ]
  },
  {
   "cell_type": "markdown",
   "id": "2ba72be0",
   "metadata": {},
   "source": [
    "# --------------------->Basic Command and Keys in System<----------------------------------"
   ]
  },
  {
   "cell_type": "markdown",
   "id": "5ceab629",
   "metadata": {},
   "source": [
    "# 1.To Run the cell and select the cell below"
   ]
  },
  {
   "cell_type": "markdown",
   "id": "15e0fe09",
   "metadata": {},
   "source": [
    "# shift+Enter"
   ]
  },
  {
   "cell_type": "markdown",
   "id": "0f08251f",
   "metadata": {},
   "source": [
    "# 2.Convert Cell to Markdown\n",
    "# Esc+m"
   ]
  },
  {
   "cell_type": "markdown",
   "id": "f9329f7a",
   "metadata": {},
   "source": [
    "# 3.To Convert Cell into Code Cell\n",
    "# Esc+y"
   ]
  },
  {
   "cell_type": "markdown",
   "id": "6f99d7b3",
   "metadata": {},
   "source": [
    "# 4.To insert a new Cell Below\n",
    "# Esc+b"
   ]
  },
  {
   "cell_type": "markdown",
   "id": "1ced3d34",
   "metadata": {},
   "source": [
    "# 5.Select the set of code lines and move to rightward\n",
    "## ctrl+]"
   ]
  },
  {
   "cell_type": "markdown",
   "id": "8030903a",
   "metadata": {},
   "source": [
    "# 6.Select the set of code lines and move to leftward\n",
    "## ctrl+["
   ]
  },
  {
   "cell_type": "markdown",
   "id": "9cd75254",
   "metadata": {},
   "source": [
    "# 7.To clear Terminal in VScode and refresh press\n",
    "## ctrl+l"
   ]
  },
  {
   "cell_type": "markdown",
   "id": "19deba5c",
   "metadata": {},
   "source": [
    "# 8.To open terminal in VScode press\n",
    "## ctrl+~"
   ]
  },
  {
   "cell_type": "markdown",
   "id": "1bc72c7f",
   "metadata": {},
   "source": [
    "# 9. To Comment in VScode use:\n",
    "## /*--start and */--end of line."
   ]
  },
  {
   "cell_type": "markdown",
   "id": "d8261a06",
   "metadata": {},
   "source": [
    "# 10. To open \"vscode\" in command prompt type in cmd as:\n",
    "## code ."
   ]
  },
  {
   "cell_type": "markdown",
   "id": "71b85aa5",
   "metadata": {},
   "source": [
    "# 11. Inorder to create \"new Folder\" from cmd(command prompt) type:\n",
    "## mkdir file_name"
   ]
  },
  {
   "cell_type": "markdown",
   "id": "29a66d3c",
   "metadata": {},
   "source": [
    "# 12.Inorder to go  \"previous directory_path\" in cmd(command prompt) type:\n",
    "## cd .."
   ]
  },
  {
   "cell_type": "markdown",
   "id": "209d566a",
   "metadata": {},
   "source": [
    "# 13.To comment multiple lines of code in visual studio code press\n",
    "## ctrl+forward slash(/)\n"
   ]
  },
  {
   "cell_type": "markdown",
   "id": "5f467072",
   "metadata": {},
   "source": [
    "# 14. To open a file in its default program, use the \"start\" command followed by the file name. For example, to open a file named \"example.txt\", type in command prompt(CMD):\n",
    "## start example.txt\n"
   ]
  },
  {
   "cell_type": "markdown",
   "id": "ec619bd6",
   "metadata": {},
   "source": [
    "# 15.To open a folder in File Explorer, use the \"start\" command followed by the folder path. For example, to open the \"Documents\" folder on the C: drive in File Explorer, type in command prompt(CMD) :\n",
    "## start C:\\Users\\YourUserName\\Documents\n"
   ]
  },
  {
   "cell_type": "markdown",
   "id": "4f3cbbb5",
   "metadata": {},
   "source": [
    "# 16. To find the version of a Python package or module in Windows Command Prompt, you can use the following command:\n",
    "## pip show package_name\n"
   ]
  },
  {
   "cell_type": "markdown",
   "id": "794c22f0",
   "metadata": {},
   "source": [
    "# 17.Alternatively, you can use the following command to display a list of all installed packages and their versions:\n",
    "## pip list"
   ]
  },
  {
   "cell_type": "markdown",
   "id": "8589dbfb",
   "metadata": {},
   "source": [
    "# 18. Inorder to Open Search Bar in VScode we need to press in keyboard:\n",
    "## ctrl+shift+p\n"
   ]
  },
  {
   "cell_type": "markdown",
   "id": "e63fdfe9",
   "metadata": {},
   "source": [
    "# 19. Inorder to switch Tabs in our System(Laptop,Desktop Computer) we use:\n",
    "## Alt+Tab"
   ]
  },
  {
   "cell_type": "markdown",
   "id": "12f9917d",
   "metadata": {},
   "source": [
    "# 20. Inorder to clear all the stuff in Terminal(either in cmd or ubuntu(bash)):\n",
    "## Ctrl+l"
   ]
  },
  {
   "cell_type": "code",
   "execution_count": null,
   "id": "bb2b77ee",
   "metadata": {},
   "outputs": [],
   "source": []
  }
 ],
 "metadata": {
  "kernelspec": {
   "display_name": "Python 3 (ipykernel)",
   "language": "python",
   "name": "python3"
  },
  "language_info": {
   "codemirror_mode": {
    "name": "ipython",
    "version": 3
   },
   "file_extension": ".py",
   "mimetype": "text/x-python",
   "name": "python",
   "nbconvert_exporter": "python",
   "pygments_lexer": "ipython3",
   "version": "3.10.6"
  }
 },
 "nbformat": 4,
 "nbformat_minor": 5
}
