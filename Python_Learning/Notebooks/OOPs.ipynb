{
 "cells": [
  {
   "cell_type": "code",
   "execution_count": 41,
   "id": "4b9d347b",
   "metadata": {},
   "outputs": [],
   "source": [
    "#Example 1\n",
    "class SavingsAccount:\n",
    "    \n",
    "    def __init__(self,accountName,phoneNumber,type,balance) -> None: #Here \"self\" is an object.Suppose here self is a \"saikiranAccount\" it is an object.These are positional arguments.\n",
    "            self.__accountName = accountName        #It can also be written as \"saikiranAccount.__accountName = accountName\"\n",
    "            self.__accountNumber = \"123456789\"      #It can also be written as \"saikiranAccount.__accountNumber = \"123456789\"\"\n",
    "            self._accountPhoneNumber = phoneNumber  #It can also be written as \"saikiranAccount.__accountPhoneNumber = phoneNumber\"\n",
    "            self.accountType = type                 #It can also be written as \"saikiranAccount.accountType = type\"\n",
    "            self.__balance = balance                #It can also be written as \"saikiranAccount.__balance = balance\"\n",
    "\n",
    "    '''\n",
    "    Note: It is a good practice to write in snake_case like \"check_balance\" etc.. while we writing for functions as below:\n",
    "    '''\n",
    "\n",
    "    def widthdraw():\n",
    "        pass\n",
    "    def deposit():\n",
    "        pass\n",
    "    def check_balance():\n",
    "        pass\n",
    "\n",
    "\n",
    "#Here \"saikiranAccount\" is an one object.\n",
    "saikiranAccount = SavingsAccount(\"Saikiran\",7671083785,\"Savings\",2500)  ## Object Initializing State -- First Object State"
   ]
  },
  {
   "cell_type": "code",
   "execution_count": 7,
   "id": "40cfb4c1",
   "metadata": {},
   "outputs": [],
   "source": [
    "#Example 2\n",
    "class SavingsAccount:\n",
    "\n",
    "    branchName = \"Warangal\"  #The variables/methods in this class are \"global\" to every method in this class and applicable.\n",
    "\n",
    "    def __init__(self,accountName=123,phoneNumber=123,balance=123,type=\"savings\") -> None: \n",
    "#The variables which are created inside the \"constructor\" method are treated as local to only for \"object\" which are \n",
    "#created outside the class.\n",
    "\n",
    "        self.__accountName = accountName\n",
    "        self.__accountNumber = \"123456789\"\n",
    "        self._accountPhoneNumber = phoneNumber\n",
    "        self.accountType = type\n",
    "        self.__balance = balance\n",
    "\n",
    "    def show_details(self):\n",
    "        print(\"Details of Account Holder:\")\n",
    "        print(f\"Name:{self.__accountName}\")\n",
    "        print(f\"Phone Number:{self._accountPhoneNumber}\")\n",
    "        print(f\"Account Type: {self.accountType}\")\n",
    "        \n",
    "#We can only create \"setter&getter\" methods for private variables/members only. \n",
    "    def set_accountName(self,name):\n",
    "        self.__accountName = name\n",
    "\n",
    "    def get_accountName(self):\n",
    "        return self.__accountName"
   ]
  },
  {
   "cell_type": "code",
   "execution_count": 21,
   "id": "a8b0dd7d",
   "metadata": {},
   "outputs": [],
   "source": [
    "obj.dfifweufwe = \"asbsdh\""
   ]
  },
  {
   "cell_type": "code",
   "execution_count": 19,
   "id": "08f00ea0",
   "metadata": {},
   "outputs": [],
   "source": [
    "obj.set_accountName(\"Tharun Kumar\")"
   ]
  },
  {
   "cell_type": "code",
   "execution_count": 22,
   "id": "71583c6d",
   "metadata": {},
   "outputs": [],
   "source": [
    "obj.accountType = \"Credit\""
   ]
  },
  {
   "cell_type": "code",
   "execution_count": 23,
   "id": "3f34871d",
   "metadata": {},
   "outputs": [],
   "source": [
    "obj = SavingsAccount(\"Tharun\",\"87595484232\",\"2500\")"
   ]
  },
  {
   "cell_type": "code",
   "execution_count": 24,
   "id": "3e92d414",
   "metadata": {},
   "outputs": [
    {
     "name": "stdout",
     "output_type": "stream",
     "text": [
      "Details of Account Holder:\n",
      "Name:Tharun\n",
      "Phone Number:87595484232\n",
      "Account Type: savings\n"
     ]
    }
   ],
   "source": [
    "obj.show_details()"
   ]
  },
  {
   "cell_type": "code",
   "execution_count": 14,
   "id": "dff016f9",
   "metadata": {},
   "outputs": [
    {
     "name": "stdout",
     "output_type": "stream",
     "text": [
      "Warangal\n"
     ]
    }
   ],
   "source": [
    "print(obj.branchName)"
   ]
  },
  {
   "cell_type": "code",
   "execution_count": 15,
   "id": "faa3b088",
   "metadata": {},
   "outputs": [],
   "source": [
    "obj1 = SavingsAccount(\"Sai\",\"5648451589\",\"2500\")"
   ]
  },
  {
   "cell_type": "code",
   "execution_count": 16,
   "id": "254fe192",
   "metadata": {},
   "outputs": [
    {
     "name": "stdout",
     "output_type": "stream",
     "text": [
      "Details of Account Holder:\n",
      "Name:Sai\n",
      "Phone Number:5648451589\n",
      "Account Type: savings\n"
     ]
    }
   ],
   "source": [
    "obj1.show_details()"
   ]
  },
  {
   "cell_type": "code",
   "execution_count": 17,
   "id": "a0b790ca",
   "metadata": {},
   "outputs": [
    {
     "name": "stdout",
     "output_type": "stream",
     "text": [
      "Warangal\n"
     ]
    }
   ],
   "source": [
    "print(obj1.branchName)"
   ]
  },
  {
   "cell_type": "code",
   "execution_count": 55,
   "id": "9598b8af",
   "metadata": {},
   "outputs": [],
   "source": [
    "#Example 3\n",
    "#Write above code using a loop for taking each person account as an \"object\". you can write a loop to create multiple\n",
    "#account objects for different people.\n",
    "\n",
    "'''\n",
    "In this example, account_details is a list of tuples, where each tuple contains the account details for a person. \n",
    "The *account in the SavingsAccount(*account) line unpacks the tuple into separate arguments for the SavingsAccount\n",
    "constructor. The loop then creates an account object for each person and adds it to the accounts list.\n",
    "'''\n",
    "\n",
    "class SavingsAccount:\n",
    "    def __init__(self, accountName, phoneNumber, accountType, balance):\n",
    "        self.__accountName = accountName\n",
    "        self.__accountNumber = \"123456789\"\n",
    "        self._accountPhoneNumber = phoneNumber\n",
    "        self.accountType = accountType\n",
    "        self.__balance = balance\n",
    "        \n",
    "    \n",
    "    def widthdraw(self):\n",
    "        pass\n",
    "\n",
    "    def deposit(self):\n",
    "        pass\n",
    "\n",
    "    def check_balance(self):\n",
    "        pass\n",
    "\n",
    "\n",
    "    def show_details(self):\n",
    "        print(\"Details of Account Holder:\")\n",
    "        print(f\"Name:{self.__accountName}\")\n",
    "        print(f\"Phone Number:{self._accountPhoneNumber}\")\n",
    "        print(f\"Account Type: {self.accountType}\")\n",
    "\n",
    "# create a list of account details for different people\n",
    "account_details = [\n",
    "    (\"Saikiran\", 7671083785, \"Savings\", 2500),\n",
    "    (\"John\", 1234567890, \"Savings\", 5000),\n",
    "    (\"Alice\", 9876543210, \"Savings\", 10000)\n",
    "]\n",
    "\n",
    "# create account objects for each person in a loop\n",
    "accounts = []\n",
    "for account in account_details:\n",
    "    account_obj = SavingsAccount(*account)\n",
    "    accounts.append(account_obj)\n"
   ]
  },
  {
   "cell_type": "code",
   "execution_count": 58,
   "id": "774a2a7a",
   "metadata": {},
   "outputs": [
    {
     "name": "stdout",
     "output_type": "stream",
     "text": [
      "Details of Account Holder:\n",
      "Name:Alice\n",
      "Phone Number:9876543210\n",
      "Account Type: Savings\n"
     ]
    }
   ],
   "source": [
    "account_obj.show_details()"
   ]
  },
  {
   "cell_type": "markdown",
   "id": "79eba41e",
   "metadata": {},
   "source": [
    "## NOTE: In Below code \"str\" is not a constructor in this case. str is a built-in Python function that is used to convert an object to a string representation. In this code, the __str__() method of the SavingsAccount class is defined to return a formatted string that contains the account details. When an instance of the SavingsAccount class is passed to the str() function or used in a context where a string is expected, the __str__() method is automatically called to get the string representation of the object. So, __str__() is a method of the SavingsAccount class, not a constructor, and it is used to define the string representation of objects of that class."
   ]
  },
  {
   "cell_type": "markdown",
   "id": "900229ff",
   "metadata": {},
   "source": [
    "## NOTE:\n",
    "##  In Python, the __init__() method is a special method that is used as a constructor for a class. When an object of a class is created, the __init__() method is automatically called with the object being created as the first parameter (self), followed by any additional arguments passed to the constructor.\n",
    "## In the given code, the __init__() method is defined for the SavingsAccount class. This method is called automatically when a new SavingsAccount object is created, and it initializes the attributes of the object with the values passed as arguments to the constructor. So, in this code, __init__() acts as a constructor for the SavingsAccount class."
   ]
  },
  {
   "cell_type": "code",
   "execution_count": 1,
   "id": "0c0c2bd9",
   "metadata": {},
   "outputs": [
    {
     "name": "stdout",
     "output_type": "stream",
     "text": [
      "Account name: Saikiran\n",
      "Account number: 123456789\n",
      "Phone number: 7671083785\n",
      "Account type: Savings\n",
      "Balance: 2500\n",
      "\n",
      "Account name: John\n",
      "Account number: 123456789\n",
      "Phone number: 1234567890\n",
      "Account type: Savings\n",
      "Balance: 5000\n",
      "\n",
      "Account name: Alice\n",
      "Account number: 123456789\n",
      "Phone number: 9876543210\n",
      "Account type: Savings\n",
      "Balance: 10000\n",
      "\n"
     ]
    }
   ],
   "source": [
    "#Example 4\n",
    "'''\n",
    "This code defines the __str__ method in the SavingsAccount class, which returns a string representation of the account \n",
    "details. It then creates account objects for each person in a loop and adds them to the accounts list. Finally, it loops\n",
    "over the accounts list and prints the details of each account. \n",
    "\n",
    "'''\n",
    "\n",
    "class SavingsAccount:\n",
    "    def __init__(self, accountName, phoneNumber, accountType, balance): #Here \"def __init__()\" is a constructor.\n",
    "        self.__accountName = accountName\n",
    "        self.__accountNumber = \"123456789\"\n",
    "        self._accountPhoneNumber = phoneNumber\n",
    "        self.accountType = accountType\n",
    "        self.__balance = balance\n",
    "\n",
    "    def widthdraw(self):\n",
    "        pass\n",
    "\n",
    "    def deposit(self):\n",
    "        pass\n",
    "\n",
    "    def check_balance(self):\n",
    "        pass\n",
    "    '''\n",
    "    The __str__() method is called automatically when an instance of the SavingsAccount class is converted to a string, \n",
    "    such as when it is passed as an argument to the print() function. The formatted string returned by __str__() is then \n",
    "    printed to the console.\n",
    "    '''\n",
    "    def __str__(self):\n",
    "        return f\"Account name: {self.__accountName}\\nAccount number: {self.__accountNumber}\\nPhone number: {self._accountPhoneNumber}\\nAccount type: {self.accountType}\\nBalance: {self.__balance}\"\n",
    "    \n",
    "    def show_details(self):\n",
    "            # print the details of each account\n",
    "            for account in accounts:\n",
    "                '''\n",
    "                The print(account) statement inside the show_details() method will print the string representation of each \n",
    "                SavingsAccount object stored in the accounts list. This string representation is defined by the __str__()\n",
    "                method of the SavingsAccount class, which returns a formatted string containing the account details.\n",
    "                '''\n",
    "                print(account) \n",
    "                '''\n",
    "                The print() statement following print(account) simply prints an empty line to create a visual separation \n",
    "                between the details of two consecutive accounts.\n",
    "                '''\n",
    "                print()\n",
    "            \n",
    "# create a list of account details for different people\n",
    "account_details = [\n",
    "    (\"Saikiran\", 7671083785, \"Savings\", 2500),\n",
    "    (\"John\", 1234567890, \"Savings\", 5000),\n",
    "    (\"Alice\", 9876543210, \"Savings\", 10000)\n",
    "]\n",
    "\n",
    "# create account objects for each person in a loop\n",
    "accounts = []\n",
    "for account in account_details:\n",
    "    account_obj = SavingsAccount(*account)\n",
    "    accounts.append(account_obj)\n",
    "\n",
    "account_obj.show_details()"
   ]
  },
  {
   "cell_type": "code",
   "execution_count": null,
   "id": "66476155",
   "metadata": {},
   "outputs": [],
   "source": []
  }
 ],
 "metadata": {
  "kernelspec": {
   "display_name": "Python 3 (ipykernel)",
   "language": "python",
   "name": "python3"
  },
  "language_info": {
   "codemirror_mode": {
    "name": "ipython",
    "version": 3
   },
   "file_extension": ".py",
   "mimetype": "text/x-python",
   "name": "python",
   "nbconvert_exporter": "python",
   "pygments_lexer": "ipython3",
   "version": "3.10.7"
  }
 },
 "nbformat": 4,
 "nbformat_minor": 5
}
