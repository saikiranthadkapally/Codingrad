{
 "cells": [
  {
   "cell_type": "code",
   "execution_count": 1,
   "id": "21644ba2",
   "metadata": {},
   "outputs": [
    {
     "name": "stdout",
     "output_type": "stream",
     "text": [
      "Help on class dict in module builtins:\n",
      "\n",
      "class dict(object)\n",
      " |  dict() -> new empty dictionary\n",
      " |  dict(mapping) -> new dictionary initialized from a mapping object's\n",
      " |      (key, value) pairs\n",
      " |  dict(iterable) -> new dictionary initialized as if via:\n",
      " |      d = {}\n",
      " |      for k, v in iterable:\n",
      " |          d[k] = v\n",
      " |  dict(**kwargs) -> new dictionary initialized with the name=value pairs\n",
      " |      in the keyword argument list.  For example:  dict(one=1, two=2)\n",
      " |  \n",
      " |  Built-in subclasses:\n",
      " |      StgDict\n",
      " |  \n",
      " |  Methods defined here:\n",
      " |  \n",
      " |  __contains__(self, key, /)\n",
      " |      True if the dictionary has the specified key, else False.\n",
      " |  \n",
      " |  __delitem__(self, key, /)\n",
      " |      Delete self[key].\n",
      " |  \n",
      " |  __eq__(self, value, /)\n",
      " |      Return self==value.\n",
      " |  \n",
      " |  __ge__(self, value, /)\n",
      " |      Return self>=value.\n",
      " |  \n",
      " |  __getattribute__(self, name, /)\n",
      " |      Return getattr(self, name).\n",
      " |  \n",
      " |  __getitem__(...)\n",
      " |      x.__getitem__(y) <==> x[y]\n",
      " |  \n",
      " |  __gt__(self, value, /)\n",
      " |      Return self>value.\n",
      " |  \n",
      " |  __init__(self, /, *args, **kwargs)\n",
      " |      Initialize self.  See help(type(self)) for accurate signature.\n",
      " |  \n",
      " |  __ior__(self, value, /)\n",
      " |      Return self|=value.\n",
      " |  \n",
      " |  __iter__(self, /)\n",
      " |      Implement iter(self).\n",
      " |  \n",
      " |  __le__(self, value, /)\n",
      " |      Return self<=value.\n",
      " |  \n",
      " |  __len__(self, /)\n",
      " |      Return len(self).\n",
      " |  \n",
      " |  __lt__(self, value, /)\n",
      " |      Return self<value.\n",
      " |  \n",
      " |  __ne__(self, value, /)\n",
      " |      Return self!=value.\n",
      " |  \n",
      " |  __or__(self, value, /)\n",
      " |      Return self|value.\n",
      " |  \n",
      " |  __repr__(self, /)\n",
      " |      Return repr(self).\n",
      " |  \n",
      " |  __reversed__(self, /)\n",
      " |      Return a reverse iterator over the dict keys.\n",
      " |  \n",
      " |  __ror__(self, value, /)\n",
      " |      Return value|self.\n",
      " |  \n",
      " |  __setitem__(self, key, value, /)\n",
      " |      Set self[key] to value.\n",
      " |  \n",
      " |  __sizeof__(...)\n",
      " |      D.__sizeof__() -> size of D in memory, in bytes\n",
      " |  \n",
      " |  clear(...)\n",
      " |      D.clear() -> None.  Remove all items from D.\n",
      " |  \n",
      " |  copy(...)\n",
      " |      D.copy() -> a shallow copy of D\n",
      " |  \n",
      " |  get(self, key, default=None, /)\n",
      " |      Return the value for key if key is in the dictionary, else default.\n",
      " |  \n",
      " |  items(...)\n",
      " |      D.items() -> a set-like object providing a view on D's items\n",
      " |  \n",
      " |  keys(...)\n",
      " |      D.keys() -> a set-like object providing a view on D's keys\n",
      " |  \n",
      " |  pop(...)\n",
      " |      D.pop(k[,d]) -> v, remove specified key and return the corresponding value.\n",
      " |      \n",
      " |      If the key is not found, return the default if given; otherwise,\n",
      " |      raise a KeyError.\n",
      " |  \n",
      " |  popitem(self, /)\n",
      " |      Remove and return a (key, value) pair as a 2-tuple.\n",
      " |      \n",
      " |      Pairs are returned in LIFO (last-in, first-out) order.\n",
      " |      Raises KeyError if the dict is empty.\n",
      " |  \n",
      " |  setdefault(self, key, default=None, /)\n",
      " |      Insert key with a value of default if key is not in the dictionary.\n",
      " |      \n",
      " |      Return the value for key if key is in the dictionary, else default.\n",
      " |  \n",
      " |  update(...)\n",
      " |      D.update([E, ]**F) -> None.  Update D from dict/iterable E and F.\n",
      " |      If E is present and has a .keys() method, then does:  for k in E: D[k] = E[k]\n",
      " |      If E is present and lacks a .keys() method, then does:  for k, v in E: D[k] = v\n",
      " |      In either case, this is followed by: for k in F:  D[k] = F[k]\n",
      " |  \n",
      " |  values(...)\n",
      " |      D.values() -> an object providing a view on D's values\n",
      " |  \n",
      " |  ----------------------------------------------------------------------\n",
      " |  Class methods defined here:\n",
      " |  \n",
      " |  __class_getitem__(...) from builtins.type\n",
      " |      See PEP 585\n",
      " |  \n",
      " |  fromkeys(iterable, value=None, /) from builtins.type\n",
      " |      Create a new dictionary with keys from iterable and values set to value.\n",
      " |  \n",
      " |  ----------------------------------------------------------------------\n",
      " |  Static methods defined here:\n",
      " |  \n",
      " |  __new__(*args, **kwargs) from builtins.type\n",
      " |      Create and return a new object.  See help(type) for accurate signature.\n",
      " |  \n",
      " |  ----------------------------------------------------------------------\n",
      " |  Data and other attributes defined here:\n",
      " |  \n",
      " |  __hash__ = None\n",
      "\n"
     ]
    }
   ],
   "source": [
    "help(dict)"
   ]
  },
  {
   "cell_type": "markdown",
   "id": "b4fe0fc2",
   "metadata": {},
   "source": [
    "# 1) clear()"
   ]
  },
  {
   "cell_type": "code",
   "execution_count": 2,
   "id": "bc8e7813",
   "metadata": {},
   "outputs": [
    {
     "data": {
      "text/plain": [
       "\"\\nclear(...)\\n      D.clear() -> None.  Remove all items from D.\\n      The clear() method removes all items from the dictionary. \\nSyntax: dict.clear()\\nParameters: The clear() method doesn't take any parameters.\\nReturns: The clear() method doesn't return any value.\\n\""
      ]
     },
     "execution_count": 2,
     "metadata": {},
     "output_type": "execute_result"
    }
   ],
   "source": [
    "'''\n",
    "clear(...)\n",
    "      D.clear() -> None.  Remove all items from D.\n",
    "      The clear() method removes all items from the dictionary. \n",
    "Syntax: dict.clear()\n",
    "Parameters: The clear() method doesn't take any parameters.\n",
    "Returns: The clear() method doesn't return any value.\n",
    "'''"
   ]
  },
  {
   "cell_type": "markdown",
   "id": "da31372d",
   "metadata": {},
   "source": [
    "## Examples"
   ]
  },
  {
   "cell_type": "code",
   "execution_count": 8,
   "id": "a75677d1",
   "metadata": {},
   "outputs": [
    {
     "name": "stdout",
     "output_type": "stream",
     "text": [
      "{}\n"
     ]
    }
   ],
   "source": [
    "'''\n",
    "Error:\n",
    "As we are not passing any parameters there\n",
    "is no chance for any error.\n",
    "'''\n",
    "d = {1: \"geeks\", 2: \"for\"}\n",
    "d.clear()\n",
    "print(d)"
   ]
  },
  {
   "cell_type": "code",
   "execution_count": 12,
   "id": "58f382a4",
   "metadata": {},
   "outputs": [
    {
     "name": "stdout",
     "output_type": "stream",
     "text": [
      "text = {}\n"
     ]
    }
   ],
   "source": [
    "# Python program to demonstrate working of\n",
    "# dictionary clear()\n",
    "text = {1: \"geeks\", 2: \"for\"}\n",
    "\n",
    "text.clear()\n",
    "print('text =', text)\n"
   ]
  },
  {
   "cell_type": "code",
   "execution_count": 13,
   "id": "cdca5f1e",
   "metadata": {},
   "outputs": [
    {
     "name": "stdout",
     "output_type": "stream",
     "text": [
      "After removing items using clear()\n",
      "text1 = {}\n",
      "text2 = {}\n",
      "After removing items by assigning {}\n",
      "text1 = {}\n",
      "text2 = {1: 'one', 2: 'two'}\n"
     ]
    }
   ],
   "source": [
    "'''\n",
    "How is it different from assigning {} to a dictionary? Please refer the below code to see the difference. When we assign {} \n",
    "to a dictionary, a new empty dictionary is created and assigned to the reference. But when we do clear on a dictionary \n",
    "reference, the actual dictionary content is removed, so all references referring to the dictionary become empty. \n",
    "'''\n",
    "# Python code to demonstrate difference\n",
    "# clear and {}.\n",
    "\n",
    "text1 = {1: \"geeks\", 2: \"for\"}\n",
    "text2 = text1\n",
    "\n",
    "# Using clear makes both text1 and text2\n",
    "# empty.\n",
    "text1.clear()\n",
    "\n",
    "print('After removing items using clear()')\n",
    "print('text1 =', text1)\n",
    "print('text2 =', text2)\n",
    "\n",
    "text1 = {1: \"one\", 2: \"two\"}\n",
    "text2 = text1\n",
    "\n",
    "# This makes only text1 empty.\n",
    "text1 = {}\n",
    "\n",
    "print('After removing items by assigning {}')\n",
    "print('text1 =', text1)\n",
    "print('text2 =', text2)"
   ]
  },
  {
   "cell_type": "markdown",
   "id": "d133f896",
   "metadata": {},
   "source": [
    "# 2) copy()"
   ]
  },
  {
   "cell_type": "code",
   "execution_count": 14,
   "id": "d6bdcfe2",
   "metadata": {},
   "outputs": [
    {
     "data": {
      "text/plain": [
       "'\\ncopy(...)\\n    D.copy() -> a shallow copy of D\\n    \\nSyntax: dict.copy() \\nReturn:  This method doesn’t modify the original, dictionary just returns copy of the dictionary.\\n\\nPython Dictionary copy() method returns a shallow copy of the dictionary. let’s see the Python Dictionary copy() method \\nwith examples:\\n'"
      ]
     },
     "execution_count": 14,
     "metadata": {},
     "output_type": "execute_result"
    }
   ],
   "source": [
    "'''\n",
    "copy(...)\n",
    "    D.copy() -> a shallow copy of D\n",
    "    \n",
    "Syntax: dict.copy() \n",
    "Return:  This method doesn’t modify the original, dictionary just returns copy of the dictionary.\n",
    "\n",
    "Python Dictionary copy() method returns a shallow copy of the dictionary. let’s see the Python Dictionary copy() method \n",
    "with examples:\n",
    "'''"
   ]
  },
  {
   "cell_type": "markdown",
   "id": "f2b97fba",
   "metadata": {},
   "source": [
    "## Examples"
   ]
  },
  {
   "cell_type": "code",
   "execution_count": 22,
   "id": "63011b75",
   "metadata": {},
   "outputs": [
    {
     "name": "stdout",
     "output_type": "stream",
     "text": [
      "original: {1: 'geeks', 2: 'for'}\n",
      "new: {1: 'geeks', 2: 'for'}\n"
     ]
    }
   ],
   "source": [
    "'''\n",
    "Python Dictionary copy() Error: As we are not passing any parameters, there is no chance of any error.\n",
    "'''\n",
    "original = {1:'geeks', 2:'for'}\n",
    "new = original.copy() # Operation\n",
    "print(f\"original: {original}\")\n",
    "print(f\"new: {new}\")"
   ]
  },
  {
   "cell_type": "code",
   "execution_count": 23,
   "id": "40946206",
   "metadata": {},
   "outputs": [
    {
     "name": "stdout",
     "output_type": "stream",
     "text": [
      "new:  {}\n",
      "original:  {1: 'geeks', 2: 'for'}\n"
     ]
    }
   ],
   "source": [
    "#Example 1: Examples of Python Dictionary copy()\n",
    "#Python program to demonstrate the working of dictionary copy.\n",
    "\n",
    "original = {1: 'geeks', 2: 'for'}\n",
    "\n",
    "# copying using copy() function\n",
    "new = original.copy()\n",
    "\n",
    "# removing all elements from the list\n",
    "# Only new list becomes empty as copy()\n",
    "# does shallow copy.\n",
    "new.clear()\n",
    "\n",
    "print('new: ', new)\n",
    "print('original: ', original)\n"
   ]
  },
  {
   "cell_type": "code",
   "execution_count": 24,
   "id": "8620e202",
   "metadata": {},
   "outputs": [
    {
     "name": "stdout",
     "output_type": "stream",
     "text": [
      "Given Dictionary: {10: 'a', 20: [1, 2, 3], 30: 'c'}\n",
      "New copy: {10: 'a', 20: [1, 2, 3], 30: 'c'}\n",
      "Updated copy: {10: 10, 20: [1, 2, '45'], 30: 'c'}\n"
     ]
    }
   ],
   "source": [
    "#Example 2: Python Dictionary copy() and update\n",
    "#Python program to demonstrate the working of dictionary copy. i.e. Updating dict2 elements and checking the change in dict1.\n",
    "# given dictionary\n",
    "\n",
    "dict1 = {10: 'a', 20: [1, 2, 3], 30: 'c'}\n",
    "print(\"Given Dictionary:\", dict1)\n",
    "\n",
    "# new dictionary and\n",
    "# copying using copy() method\n",
    "dict2 = dict1.copy()\n",
    "print(\"New copy:\", dict2)\n",
    "\n",
    "# Updating dict2 elements and\n",
    "# checking the change in dict1\n",
    "dict2[10] = 10\n",
    "dict2[20][2] = '45' # list item updated\n",
    "\n",
    "print(\"Updated copy:\", dict2)\n"
   ]
  },
  {
   "cell_type": "code",
   "execution_count": 25,
   "id": "4c8da338",
   "metadata": {},
   "outputs": [
    {
     "name": "stdout",
     "output_type": "stream",
     "text": [
      "new:  {}\n",
      "original:  {1: 'geeks', 2: 'for'}\n",
      "new:  {}\n",
      "original:  {}\n"
     ]
    }
   ],
   "source": [
    "'''\n",
    "Difference between shallow copy and deep copy:\n",
    "It means that any changes made to a copy of the object do not reflect in the original object. In python, this is implemented\n",
    "using “deepcopy()” function. whereas in shallow copy any changes made to a copy of an object do reflect in the original \n",
    "object. In python, this is implemented using the “copy()” function.\n",
    "'''\n",
    "#Example 1: Using copy()\n",
    "\n",
    "#Unlike copy(), the assignment operator does deep copy. \n",
    "# Python program to demonstrate difference\n",
    "# between = and copy()\n",
    "\n",
    "original = {1: 'geeks', 2: 'for'}\n",
    "\n",
    "# copying using copy() function\n",
    "new = original.copy()\n",
    "\n",
    "# removing all elements from new list\n",
    "# and printing both\n",
    "new.clear()\n",
    "print('new: ', new)\n",
    "print('original: ', original)\n",
    "\n",
    "\n",
    "original = {1: 'one', 2: 'two'}\n",
    "\n",
    "# copying using =\n",
    "new = original\n",
    "\n",
    "# removing all elements from new list\n",
    "# and printing both\n",
    "new.clear()\n",
    "print('new: ', new)\n",
    "print('original: ', original)\n"
   ]
  },
  {
   "cell_type": "code",
   "execution_count": 28,
   "id": "fa55f51d",
   "metadata": {},
   "outputs": [
    {
     "name": "stdout",
     "output_type": "stream",
     "text": [
      "new:  {}\n",
      "original:  {1: 'geeks', 2: 'for'}\n",
      "new:  {}\n",
      "original:  {}\n"
     ]
    }
   ],
   "source": [
    "#Example 2: Using copy.deepcopy\n",
    "#Unlike deepcopy(), the assignment operator does deep copy. \n",
    "\n",
    "import copy\n",
    "\n",
    "# Python program to demonstrate difference\n",
    "# between = and copy()\n",
    "original = {1: 'geeks', 2: 'for'}\n",
    "\n",
    "# copying using copy() function\n",
    "new = copy.deepcopy(original)\n",
    "\n",
    "# removing all elements from new list\n",
    "# and printing both\n",
    "new.clear()\n",
    "print('new: ', new)\n",
    "print('original: ', original)\n",
    "\n",
    "original = {1: 'one', 2: 'two'}\n",
    "\n",
    "# copying using =\n",
    "new = original\n",
    "\n",
    "# removing all elements from new list\n",
    "# and printing both\n",
    "new.clear()\n",
    "print('new: ', new)\n",
    "print('original: ', original)\n"
   ]
  },
  {
   "cell_type": "markdown",
   "id": "9980bbca",
   "metadata": {},
   "source": [
    "# 3) get()"
   ]
  },
  {
   "cell_type": "code",
   "execution_count": 29,
   "id": "2dbe0d92",
   "metadata": {},
   "outputs": [
    {
     "data": {
      "text/plain": [
       "'\\nPython Dictionary get() Method return the value for the given key if present in the dictionary. If not, then it will return \\nNone (if get() is used with only one argument).\\n'"
      ]
     },
     "execution_count": 29,
     "metadata": {},
     "output_type": "execute_result"
    }
   ],
   "source": [
    "'''\n",
    "get(self, key, default=None, /)\n",
    "      Return the value for key if key is in the dictionary, else default.\n",
    "      \n",
    "Syntax : Dict.get(key, default=None)\n",
    "Parameters: \n",
    "key: The key name of the item you want to return the value from\n",
    "Value: (Optional) Value to be returned if the key is not found. The default value is None.\n",
    "Returns: Returns the value of the item with the specified key or the default value.\n",
    "'''\n",
    "'''\n",
    "Python Dictionary get() Method return the value for the given key if present in the dictionary. If not, then it will return \n",
    "None (if get() is used with only one argument).\n",
    "'''"
   ]
  },
  {
   "cell_type": "code",
   "execution_count": 30,
   "id": "8eeec8ad",
   "metadata": {},
   "outputs": [
    {
     "name": "stdout",
     "output_type": "stream",
     "text": [
      "good\n"
     ]
    }
   ],
   "source": [
    "#Python Dictionary get() Method Example:\n",
    "d = {'coding': 'good', 'thinking': 'better'}\n",
    "print(d.get('coding'))\n"
   ]
  },
  {
   "cell_type": "code",
   "execution_count": 31,
   "id": "8c295849",
   "metadata": {},
   "outputs": [
    {
     "name": "stdout",
     "output_type": "stream",
     "text": [
      "Not found\n"
     ]
    }
   ],
   "source": [
    "#Example 1: Python get() Method with default parameter.\n",
    "d = {1: '001', 2: '010', 3: '011'}\n",
    "# since 4 is not in keys, it'll print \"Not found\"\n",
    "print(d.get(4, \"Not found\"))\n"
   ]
  },
  {
   "cell_type": "code",
   "execution_count": 33,
   "id": "40ba30de",
   "metadata": {},
   "outputs": [
    {
     "name": "stdout",
     "output_type": "stream",
     "text": [
      "The original dictionary is : {'Gfg': {'is': 'best'}}\n",
      "The nested safely accessed value is : best\n"
     ]
    }
   ],
   "source": [
    "#Example 2: Python Dictionary get() method chained\n",
    "'''\n",
    "The get() to check and assign in absence of value to achieve this particular task. Just returns an empty Python dict() if \n",
    "any key is not present.\n",
    "'''\n",
    "test_dict = {'Gfg' : {'is' : 'best'}}\n",
    "\n",
    "# printing original dictionary\n",
    "print(\"The original dictionary is : \" + str(test_dict))\n",
    "\n",
    "# using nested get()\n",
    "# Safe access nested dictionary key\n",
    "res = test_dict.get('Gfg', {}).get('is')\n",
    "\n",
    "# printing result\n",
    "print(\"The nested safely accessed value is : \" + str(res))\n"
   ]
  },
  {
   "cell_type": "markdown",
   "id": "d52bb294",
   "metadata": {},
   "source": [
    "# 4) items()"
   ]
  },
  {
   "cell_type": "code",
   "execution_count": 34,
   "id": "43ee6973",
   "metadata": {},
   "outputs": [
    {
     "data": {
      "text/plain": [
       "'\\nDictionary in Python is an unordered collection of data values, used to store data values like a map, which unlike other Data Types that hold only single value as an element, Dictionary holds key : value pair.\\nIn Python Dictionary, items() method is used to return the list with all dictionary keys with values.\\n'"
      ]
     },
     "execution_count": 34,
     "metadata": {},
     "output_type": "execute_result"
    }
   ],
   "source": [
    "'''\n",
    " items(...)\n",
    "      D.items() -> a set-like object providing a view on D's items\n",
    "      \n",
    "Syntax: dictionary.items()\n",
    "Parameters: This method takes no parameters.\n",
    "Returns: A view object that displays a list of a given dictionary’s (key, value) tuple pair.\n",
    "'''\n",
    "'''\n",
    "Dictionary in Python is an unordered collection of data values, used to store data values like a map, which unlike other Data Types that hold only single value as an element, Dictionary holds key : value pair.\n",
    "In Python Dictionary, items() method is used to return the list with all dictionary keys with values.\n",
    "'''"
   ]
  },
  {
   "cell_type": "code",
   "execution_count": 38,
   "id": "9dc7b9e6",
   "metadata": {},
   "outputs": [
    {
     "name": "stdout",
     "output_type": "stream",
     "text": [
      "Dictionary items:\n",
      "dict_items([('A', 'Geeks'), ('B', 4), ('C', 'Geeks')])\n"
     ]
    }
   ],
   "source": [
    "#Example 1: \n",
    "\n",
    "# Python program to show working\n",
    "# of items() method in Dictionary\n",
    "#NOTE:Order of these items in the list may not always be same.\n",
    "\n",
    "# Dictionary with three items\n",
    "Dictionary1 = { 'A': 'Geeks', 'B': 4, 'C': 'Geeks' }\n",
    "\n",
    "print(\"Dictionary items:\")\n",
    "\n",
    "# Printing all the items of the Dictionary\n",
    "print(Dictionary1.items())\n"
   ]
  },
  {
   "cell_type": "code",
   "execution_count": 41,
   "id": "eb485f3f",
   "metadata": {},
   "outputs": [
    {
     "name": "stdout",
     "output_type": "stream",
     "text": [
      "dict_items([('A', 'Geeks'), ('B', 4), ('C', 'Geeks')])\n",
      "dict_items([('B', 4), ('C', 'Geeks'), ('A', 'Geeks')])\n"
     ]
    }
   ],
   "source": [
    "'''\n",
    "In Python, dictionaries are unordered collections of key-value pairs. This means that the order in which items are stored \n",
    "in a dictionary is not guaranteed to be the same as the order in which they were added.The items() method in Python \n",
    "dictionaries returns a view object that contains a list of (key, value) pairs. However, this view object does not guarantee\n",
    "any particular order of the items.\n",
    "\n",
    "Here's an example to demonstrate:\n",
    "'''\n",
    "# Dictionary with three items in a specific order\n",
    "dict1 = {'A': 'Geeks', 'B': 4, 'C': 'Geeks'}\n",
    "\n",
    "# Another dictionary with the same items but in a different order\n",
    "dict2 = {'B': 4, 'C': 'Geeks', 'A': 'Geeks'}\n",
    "\n",
    "# Using items() method to get key-value pairs\n",
    "print(dict1.items())  # dict_items([('A', 'Geeks'), ('B', 4), ('C', 'Geeks')])\n",
    "print(dict2.items())  # dict_items([('B', 4), ('C', 'Geeks'), ('A', 'Geeks')])"
   ]
  },
  {
   "cell_type": "markdown",
   "id": "6649226a",
   "metadata": {},
   "source": [
    "# 5) keys()"
   ]
  },
  {
   "cell_type": "code",
   "execution_count": null,
   "id": "cb6c31e0",
   "metadata": {},
   "outputs": [],
   "source": []
  }
 ],
 "metadata": {
  "kernelspec": {
   "display_name": "Python 3 (ipykernel)",
   "language": "python",
   "name": "python3"
  },
  "language_info": {
   "codemirror_mode": {
    "name": "ipython",
    "version": 3
   },
   "file_extension": ".py",
   "mimetype": "text/x-python",
   "name": "python",
   "nbconvert_exporter": "python",
   "pygments_lexer": "ipython3",
   "version": "3.10.7"
  }
 },
 "nbformat": 4,
 "nbformat_minor": 5
}
