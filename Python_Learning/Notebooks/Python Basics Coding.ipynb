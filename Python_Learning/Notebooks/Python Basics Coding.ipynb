{
 "cells": [
  {
   "cell_type": "code",
   "execution_count": 1,
   "id": "dfc0a1d4",
   "metadata": {},
   "outputs": [],
   "source": [
    "# Placeholders --- Naming to to address of the data in RAM. --- Variable"
   ]
  },
  {
   "cell_type": "code",
   "execution_count": 2,
   "id": "5b92ca1b",
   "metadata": {},
   "outputs": [],
   "source": [
    "# Camal Case\n",
    "a = 5 ### Implicit Casting"
   ]
  },
  {
   "cell_type": "code",
   "execution_count": 3,
   "id": "45f6aba7",
   "metadata": {},
   "outputs": [],
   "source": [
    "b = 7.9"
   ]
  },
  {
   "cell_type": "code",
   "execution_count": null,
   "id": "abe3426e",
   "metadata": {},
   "outputs": [],
   "source": [
    "## Assignment Statement"
   ]
  },
  {
   "cell_type": "code",
   "execution_count": 4,
   "id": "8a6681f4",
   "metadata": {},
   "outputs": [],
   "source": [
    "## Statement --- Every line in a program\n",
    "### In each statement --- LHS = Variable and --- RHS = Expression\n",
    "#### Expression is a combination of variables and constants with mathematical and other computational operators"
   ]
  },
  {
   "cell_type": "code",
   "execution_count": 5,
   "id": "792df921",
   "metadata": {},
   "outputs": [],
   "source": [
    "c = 3+a+b"
   ]
  },
  {
   "cell_type": "code",
   "execution_count": 6,
   "id": "0eac6bef",
   "metadata": {},
   "outputs": [],
   "source": [
    "## PRINT and SCAN -- READ"
   ]
  },
  {
   "cell_type": "code",
   "execution_count": 7,
   "id": "1a4e3be4",
   "metadata": {},
   "outputs": [
    {
     "name": "stdout",
     "output_type": "stream",
     "text": [
      "5\n"
     ]
    }
   ],
   "source": [
    "print(a)"
   ]
  },
  {
   "cell_type": "code",
   "execution_count": 8,
   "id": "919d7e5a",
   "metadata": {},
   "outputs": [
    {
     "name": "stdout",
     "output_type": "stream",
     "text": [
      "7.9\n"
     ]
    }
   ],
   "source": [
    "print(b)"
   ]
  },
  {
   "cell_type": "code",
   "execution_count": 9,
   "id": "6998b0da",
   "metadata": {},
   "outputs": [
    {
     "name": "stdout",
     "output_type": "stream",
     "text": [
      "15.9\n"
     ]
    }
   ],
   "source": [
    "print(c)"
   ]
  },
  {
   "cell_type": "code",
   "execution_count": 11,
   "id": "804a5625",
   "metadata": {},
   "outputs": [
    {
     "name": "stdout",
     "output_type": "stream",
     "text": [
      "Tharun Kuamr\n"
     ]
    },
    {
     "data": {
      "text/plain": [
       "'Tharun Kuamr'"
      ]
     },
     "execution_count": 11,
     "metadata": {},
     "output_type": "execute_result"
    }
   ],
   "source": [
    "input()"
   ]
  },
  {
   "cell_type": "code",
   "execution_count": 12,
   "id": "24e12b65",
   "metadata": {},
   "outputs": [],
   "source": [
    "name = 'Raghav'"
   ]
  },
  {
   "cell_type": "code",
   "execution_count": 13,
   "id": "95fab731",
   "metadata": {},
   "outputs": [],
   "source": [
    "### String Initalization"
   ]
  },
  {
   "cell_type": "code",
   "execution_count": 16,
   "id": "fc69363a",
   "metadata": {},
   "outputs": [],
   "source": [
    "# Single Quotes\n",
    "name = 'Thirupath Erra' ### Mostly in common use"
   ]
  },
  {
   "cell_type": "code",
   "execution_count": 17,
   "id": "1156aa83",
   "metadata": {},
   "outputs": [
    {
     "data": {
      "text/plain": [
       "'Thirupath Erra'"
      ]
     },
     "execution_count": 17,
     "metadata": {},
     "output_type": "execute_result"
    }
   ],
   "source": [
    "name"
   ]
  },
  {
   "cell_type": "code",
   "execution_count": 18,
   "id": "57bd69e3",
   "metadata": {},
   "outputs": [],
   "source": [
    "stmt = \"Tharun's phone is ringing\" ### mostly when we are dealing with json"
   ]
  },
  {
   "cell_type": "code",
   "execution_count": 19,
   "id": "9a6a57f5",
   "metadata": {},
   "outputs": [],
   "source": [
    "stmt2 = '''Tharun said, \"He is teaching\"''' ### Writing SQL Queries"
   ]
  },
  {
   "cell_type": "code",
   "execution_count": 20,
   "id": "5364464b",
   "metadata": {},
   "outputs": [
    {
     "name": "stdout",
     "output_type": "stream",
     "text": [
      "Tharun's phone is ringing\n"
     ]
    }
   ],
   "source": [
    "print(stmt)"
   ]
  },
  {
   "cell_type": "code",
   "execution_count": 21,
   "id": "976c3427",
   "metadata": {},
   "outputs": [
    {
     "name": "stdout",
     "output_type": "stream",
     "text": [
      "Tharun said, \"He is teaching\"\n"
     ]
    }
   ],
   "source": [
    "print(stmt2)"
   ]
  },
  {
   "cell_type": "code",
   "execution_count": 22,
   "id": "fcfb6fe4",
   "metadata": {},
   "outputs": [
    {
     "data": {
      "text/plain": [
       "int"
      ]
     },
     "execution_count": 22,
     "metadata": {},
     "output_type": "execute_result"
    }
   ],
   "source": [
    "type(a)"
   ]
  },
  {
   "cell_type": "code",
   "execution_count": 23,
   "id": "5ebc1393",
   "metadata": {},
   "outputs": [
    {
     "data": {
      "text/plain": [
       "float"
      ]
     },
     "execution_count": 23,
     "metadata": {},
     "output_type": "execute_result"
    }
   ],
   "source": [
    "type(b) ## Determine the types of the objects"
   ]
  },
  {
   "cell_type": "code",
   "execution_count": 24,
   "id": "0eb01a1d",
   "metadata": {},
   "outputs": [
    {
     "data": {
      "text/plain": [
       "str"
      ]
     },
     "execution_count": 24,
     "metadata": {},
     "output_type": "execute_result"
    }
   ],
   "source": [
    "type(name)"
   ]
  },
  {
   "cell_type": "code",
   "execution_count": 25,
   "id": "51f8c2dd",
   "metadata": {},
   "outputs": [],
   "source": [
    "# Function: ---  A block of code with some logic to attain some purpose."
   ]
  },
  {
   "cell_type": "code",
   "execution_count": 54,
   "id": "4bda3fab",
   "metadata": {},
   "outputs": [
    {
     "name": "stdout",
     "output_type": "stream",
     "text": [
      "58.5\n"
     ]
    }
   ],
   "source": [
    "### \n",
    "\n",
    "number = 117\n",
    "coeffecient = number / 2\n",
    "\n",
    "print(coeffecient)"
   ]
  },
  {
   "cell_type": "code",
   "execution_count": 68,
   "id": "cc3c65ea",
   "metadata": {},
   "outputs": [],
   "source": [
    "def divides(number):\n",
    "    coefficient = number/2\n",
    "    coefficient = int(coefficient)\n",
    "    new_number = coefficient*2\n",
    "    if number == 0:\n",
    "        return \"NOT EVEN NOT ODD -- ITS ZERO\"\n",
    "    elif number==new_number:\n",
    "        return \"EVEN\"\n",
    "    else:\n",
    "        return \"ODD\""
   ]
  },
  {
   "cell_type": "code",
   "execution_count": 69,
   "id": "3e8acc60",
   "metadata": {},
   "outputs": [
    {
     "data": {
      "text/plain": [
       "'ODD'"
      ]
     },
     "execution_count": 69,
     "metadata": {},
     "output_type": "execute_result"
    }
   ],
   "source": [
    "divides(5)"
   ]
  },
  {
   "cell_type": "code",
   "execution_count": 63,
   "id": "4ca52c02",
   "metadata": {},
   "outputs": [],
   "source": [
    "def divides2(number):\n",
    "    coeff = number/2\n",
    "    coeff = str(coeff)\n",
    "    prec = coeff.split(\".\")[1] ### index == position-1\n",
    "    if number == 0:\n",
    "        print(\"NOT EVEN NOT ODD -- ITS ZERO\")\n",
    "    if int(prec) == 0:\n",
    "        print(\"EVEN\")\n",
    "    else:\n",
    "        print(\"ODD\")"
   ]
  },
  {
   "cell_type": "code",
   "execution_count": 64,
   "id": "c8bfb52e",
   "metadata": {},
   "outputs": [
    {
     "name": "stdout",
     "output_type": "stream",
     "text": [
      "EVEN\n"
     ]
    }
   ],
   "source": [
    "divides2(12)"
   ]
  },
  {
   "cell_type": "code",
   "execution_count": 65,
   "id": "5df0935c",
   "metadata": {},
   "outputs": [],
   "source": [
    "## Problem Hypothesis Space"
   ]
  },
  {
   "cell_type": "code",
   "execution_count": 66,
   "id": "a295e611",
   "metadata": {},
   "outputs": [],
   "source": [
    "## VLSI"
   ]
  },
  {
   "cell_type": "code",
   "execution_count": null,
   "id": "3f92c04f",
   "metadata": {},
   "outputs": [],
   "source": [
    "#### NUMPY ----"
   ]
  }
 ],
 "metadata": {
  "kernelspec": {
   "display_name": "Python 3 (ipykernel)",
   "language": "python",
   "name": "python3"
  },
  "language_info": {
   "codemirror_mode": {
    "name": "ipython",
    "version": 3
   },
   "file_extension": ".py",
   "mimetype": "text/x-python",
   "name": "python",
   "nbconvert_exporter": "python",
   "pygments_lexer": "ipython3",
   "version": "3.8.10"
  }
 },
 "nbformat": 4,
 "nbformat_minor": 5
}
