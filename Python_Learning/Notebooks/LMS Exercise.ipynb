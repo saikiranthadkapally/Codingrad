{
 "cells": [
  {
   "cell_type": "code",
   "execution_count": null,
   "id": "1a2245e0",
   "metadata": {},
   "outputs": [],
   "source": [
    "LMS = {}"
   ]
  },
  {
   "cell_type": "code",
   "execution_count": 7,
   "id": "d74f788e",
   "metadata": {},
   "outputs": [
    {
     "data": {
      "text/plain": [
       "{}"
      ]
     },
     "execution_count": 7,
     "metadata": {},
     "output_type": "execute_result"
    }
   ],
   "source": [
    "LMS"
   ]
  },
  {
   "cell_type": "code",
   "execution_count": 13,
   "id": "fab12bbf",
   "metadata": {},
   "outputs": [
    {
     "data": {
      "text/plain": [
       "{}"
      ]
     },
     "execution_count": 13,
     "metadata": {},
     "output_type": "execute_result"
    }
   ],
   "source": [
    "USERS = LMS[\"USERS\"] = {}\n",
    "USERS"
   ]
  },
  {
   "cell_type": "code",
   "execution_count": 14,
   "id": "93569e37",
   "metadata": {},
   "outputs": [
    {
     "data": {
      "text/plain": [
       "{'USERS': {}, 'ADMINS': {}}"
      ]
     },
     "execution_count": 14,
     "metadata": {},
     "output_type": "execute_result"
    }
   ],
   "source": [
    "LMS"
   ]
  },
  {
   "cell_type": "code",
   "execution_count": 15,
   "id": "3704a32d",
   "metadata": {},
   "outputs": [
    {
     "data": {
      "text/plain": [
       "{}"
      ]
     },
     "execution_count": 15,
     "metadata": {},
     "output_type": "execute_result"
    }
   ],
   "source": [
    "ADMINS = LMS[\"ADMINS\"] = {}\n",
    "ADMINS"
   ]
  },
  {
   "cell_type": "code",
   "execution_count": 12,
   "id": "f94a2c5c",
   "metadata": {},
   "outputs": [
    {
     "data": {
      "text/plain": [
       "{'USERS': {}, 'ADMINS': {}}"
      ]
     },
     "execution_count": 12,
     "metadata": {},
     "output_type": "execute_result"
    }
   ],
   "source": [
    "LMS"
   ]
  },
  {
   "cell_type": "code",
   "execution_count": 17,
   "id": "d6c5c5ab",
   "metadata": {},
   "outputs": [],
   "source": [
    "USERS[\"TEACHERS\"] = {}\n",
    "USERS[\"STUDENTS\"] = {}"
   ]
  },
  {
   "cell_type": "code",
   "execution_count": 18,
   "id": "9503c133",
   "metadata": {},
   "outputs": [
    {
     "data": {
      "text/plain": [
       "{'TEACHERS': {}, 'STUDENTS': {}}"
      ]
     },
     "execution_count": 18,
     "metadata": {},
     "output_type": "execute_result"
    }
   ],
   "source": [
    "USERS"
   ]
  },
  {
   "cell_type": "code",
   "execution_count": 19,
   "id": "832f6e62",
   "metadata": {},
   "outputs": [
    {
     "data": {
      "text/plain": [
       "{'USERS': {'TEACHERS': {}, 'STUDENTS': {}}, 'ADMINS': {}}"
      ]
     },
     "execution_count": 19,
     "metadata": {},
     "output_type": "execute_result"
    }
   ],
   "source": [
    "LMS"
   ]
  },
  {
   "cell_type": "code",
   "execution_count": 21,
   "id": "7666e534",
   "metadata": {},
   "outputs": [],
   "source": [
    "LMS[\"BOOKS\"] = {}\n",
    "BOOKS = LMS[\"BOOKS\"]"
   ]
  },
  {
   "cell_type": "code",
   "execution_count": 22,
   "id": "5cf65eea",
   "metadata": {},
   "outputs": [
    {
     "data": {
      "text/plain": [
       "{'USERS': {'TEACHERS': {}, 'STUDENTS': {}}, 'ADMINS': {}, 'BOOKS': {}}"
      ]
     },
     "execution_count": 22,
     "metadata": {},
     "output_type": "execute_result"
    }
   ],
   "source": [
    "LMS"
   ]
  },
  {
   "cell_type": "code",
   "execution_count": 23,
   "id": "d01715c8",
   "metadata": {},
   "outputs": [
    {
     "data": {
      "text/plain": [
       "dict"
      ]
     },
     "execution_count": 23,
     "metadata": {},
     "output_type": "execute_result"
    }
   ],
   "source": [
    "type(LMS)"
   ]
  },
  {
   "cell_type": "code",
   "execution_count": 24,
   "id": "7adcf1a2",
   "metadata": {},
   "outputs": [
    {
     "data": {
      "text/plain": [
       "dict"
      ]
     },
     "execution_count": 24,
     "metadata": {},
     "output_type": "execute_result"
    }
   ],
   "source": [
    "type(USERS)"
   ]
  },
  {
   "cell_type": "code",
   "execution_count": 25,
   "id": "55092617",
   "metadata": {},
   "outputs": [
    {
     "data": {
      "text/plain": [
       "set()"
      ]
     },
     "execution_count": 25,
     "metadata": {},
     "output_type": "execute_result"
    }
   ],
   "source": [
    "#Inorder to convert the empty dictionary into empty set do as follows:\n",
    "set({})"
   ]
  },
  {
   "cell_type": "code",
   "execution_count": 27,
   "id": "87516820",
   "metadata": {},
   "outputs": [
    {
     "data": {
      "text/plain": [
       "['__class__',\n",
       " '__class_getitem__',\n",
       " '__contains__',\n",
       " '__delattr__',\n",
       " '__delitem__',\n",
       " '__dir__',\n",
       " '__doc__',\n",
       " '__eq__',\n",
       " '__format__',\n",
       " '__ge__',\n",
       " '__getattribute__',\n",
       " '__getitem__',\n",
       " '__gt__',\n",
       " '__hash__',\n",
       " '__init__',\n",
       " '__init_subclass__',\n",
       " '__ior__',\n",
       " '__iter__',\n",
       " '__le__',\n",
       " '__len__',\n",
       " '__lt__',\n",
       " '__ne__',\n",
       " '__new__',\n",
       " '__or__',\n",
       " '__reduce__',\n",
       " '__reduce_ex__',\n",
       " '__repr__',\n",
       " '__reversed__',\n",
       " '__ror__',\n",
       " '__setattr__',\n",
       " '__setitem__',\n",
       " '__sizeof__',\n",
       " '__str__',\n",
       " '__subclasshook__',\n",
       " 'clear',\n",
       " 'copy',\n",
       " 'fromkeys',\n",
       " 'get',\n",
       " 'items',\n",
       " 'keys',\n",
       " 'pop',\n",
       " 'popitem',\n",
       " 'setdefault',\n",
       " 'update',\n",
       " 'values']"
      ]
     },
     "execution_count": 27,
     "metadata": {},
     "output_type": "execute_result"
    }
   ],
   "source": [
    "dir(LMS) #Here LMS is an dictionary so it shows all fucntion or methods of dictionary."
   ]
  },
  {
   "cell_type": "code",
   "execution_count": 41,
   "id": "a1f2c414",
   "metadata": {},
   "outputs": [
    {
     "ename": "TypeError",
     "evalue": "'dict_keys' object is not subscriptable",
     "output_type": "error",
     "traceback": [
      "\u001b[1;31m---------------------------------------------------------------------------\u001b[0m",
      "\u001b[1;31mTypeError\u001b[0m                                 Traceback (most recent call last)",
      "Cell \u001b[1;32mIn[41], line 1\u001b[0m\n\u001b[1;32m----> 1\u001b[0m \u001b[43mLMS\u001b[49m\u001b[38;5;241;43m.\u001b[39;49m\u001b[43mkeys\u001b[49m\u001b[43m(\u001b[49m\u001b[43m)\u001b[49m\u001b[43m[\u001b[49m\u001b[38;5;241;43m0\u001b[39;49m\u001b[43m]\u001b[49m\n",
      "\u001b[1;31mTypeError\u001b[0m: 'dict_keys' object is not subscriptable"
     ]
    }
   ],
   "source": [
    "LMS.keys()[0] #It is a new custom data type called 'data_keys' here. Inordwer to acces such new data types.\n",
    "#we need to convert it into list and access it."
   ]
  },
  {
   "cell_type": "code",
   "execution_count": 43,
   "id": "4e0c8649",
   "metadata": {},
   "outputs": [
    {
     "data": {
      "text/plain": [
       "'USERS'"
      ]
     },
     "execution_count": 43,
     "metadata": {},
     "output_type": "execute_result"
    }
   ],
   "source": [
    "list(LMS.keys())[0] #Here we converted into list data type nd accessed it."
   ]
  },
  {
   "cell_type": "code",
   "execution_count": 29,
   "id": "21798adc",
   "metadata": {},
   "outputs": [
    {
     "data": {
      "text/plain": [
       "dict_keys(['TEACHERS', 'STUDENTS'])"
      ]
     },
     "execution_count": 29,
     "metadata": {},
     "output_type": "execute_result"
    }
   ],
   "source": [
    "USERS.keys() #These are the keys for users."
   ]
  },
  {
   "cell_type": "code",
   "execution_count": 28,
   "id": "ef1fc461",
   "metadata": {},
   "outputs": [
    {
     "data": {
      "text/plain": [
       "dict_keys(['USERS', 'ADMINS', 'BOOKS'])"
      ]
     },
     "execution_count": 28,
     "metadata": {},
     "output_type": "execute_result"
    }
   ],
   "source": [
    "LMS.keys() #These are the keys for LMS."
   ]
  },
  {
   "cell_type": "code",
   "execution_count": 30,
   "id": "99d24f44",
   "metadata": {},
   "outputs": [
    {
     "data": {
      "text/plain": [
       "dict_values([{'TEACHERS': {}, 'STUDENTS': {}}, {}, {}])"
      ]
     },
     "execution_count": 30,
     "metadata": {},
     "output_type": "execute_result"
    }
   ],
   "source": [
    "LMS.values() #Emptyb dictionaries also a values and sub dictionaries also a values."
   ]
  },
  {
   "cell_type": "code",
   "execution_count": 37,
   "id": "4d6c887d",
   "metadata": {},
   "outputs": [
    {
     "ename": "TypeError",
     "evalue": "'dict_items' object is not subscriptable",
     "output_type": "error",
     "traceback": [
      "\u001b[1;31m---------------------------------------------------------------------------\u001b[0m",
      "\u001b[1;31mTypeError\u001b[0m                                 Traceback (most recent call last)",
      "Cell \u001b[1;32mIn[37], line 1\u001b[0m\n\u001b[1;32m----> 1\u001b[0m \u001b[43mLMS\u001b[49m\u001b[38;5;241;43m.\u001b[39;49m\u001b[43mitems\u001b[49m\u001b[43m(\u001b[49m\u001b[43m)\u001b[49m\u001b[43m[\u001b[49m\u001b[38;5;241;43m0\u001b[39;49m\u001b[43m]\u001b[49m \u001b[38;5;66;03m#dict_tems is a special type that is custom data type it will not access directly through this method\u001b[39;00m\n\u001b[0;32m      2\u001b[0m \u001b[38;5;66;03m###The term \"not subscriptable\" means that you cannot use the square bracket [] operator to access elements in the dict_items object. \u001b[39;00m\n\u001b[0;32m      3\u001b[0m \u001b[38;5;66;03m##In other words, you cannot use the dict_items[index] syntax to access a specific item in the dict_items object.\u001b[39;00m\n\u001b[0;32m      4\u001b[0m \u001b[38;5;66;03m## my_dict = {'key1': 'value1', 'key2': 'value2', 'key3': 'value3'}\u001b[39;00m\n\u001b[1;32m   (...)\u001b[0m\n\u001b[0;32m     13\u001b[0m \u001b[38;5;66;03m##print(list_of_items[0])\u001b[39;00m\n\u001b[0;32m     14\u001b[0m \u001b[38;5;66;03m##output:-('key1', 'value1')\u001b[39;00m\n",
      "\u001b[1;31mTypeError\u001b[0m: 'dict_items' object is not subscriptable"
     ]
    }
   ],
   "source": [
    "LMS.items()[0] #Inorder to use such data types we need to convert such types into list types to avoid learning of new data types.\n",
    "##dict_tems is a special type that is custom data type it will not access directly through this method\n",
    "###The term \"not subscriptable\" means that you cannot use the square bracket [] operator to access elements in the dict_items object. \n",
    "##In other words, you cannot use the dict_items[index] syntax to access a specific item in the dict_items object.\n",
    "## my_dict = {'key1': 'value1', 'key2': 'value2', 'key3': 'value3'}\n",
    "## dict_items = my_dict.items()\n",
    "## print(dict_items[0])\n",
    "##This code would raise a TypeError with the message \"dict_items object is not subscriptable\".\n",
    "##To access the items in a dict_items object, you can use a for loop, or convert it to a list and\n",
    "##then use the square bracket operator to access elements in the list.\n",
    "##my_dict = {'key1': 'value1', 'key2': 'value2', 'key3': 'value3'}\n",
    "##dict_items = my_dict.items()\n",
    "##list_of_items = list(dict_items)\n",
    "##print(list_of_items[0])\n",
    "##output:-('key1', 'value1')\n"
   ]
  },
  {
   "cell_type": "code",
   "execution_count": 40,
   "id": "a03c2a96",
   "metadata": {},
   "outputs": [
    {
     "data": {
      "text/plain": [
       "dict_items"
      ]
     },
     "execution_count": 40,
     "metadata": {},
     "output_type": "execute_result"
    }
   ],
   "source": [
    "type(LMS.items()) #The data type of \"LMS.items()\" is an \"dict_items\"."
   ]
  },
  {
   "cell_type": "code",
   "execution_count": 31,
   "id": "32045cd1",
   "metadata": {},
   "outputs": [
    {
     "data": {
      "text/plain": [
       "dict_items([('USERS', {'TEACHERS': {}, 'STUDENTS': {}}), ('ADMINS', {}), ('BOOKS', {})])"
      ]
     },
     "execution_count": 31,
     "metadata": {},
     "output_type": "execute_result"
    }
   ],
   "source": [
    "LMS.items()\n",
    "#items are shown as tuples users as a tuple and Admins as a tuple and Books as a tuple."
   ]
  },
  {
   "cell_type": "code",
   "execution_count": 32,
   "id": "8d496e4e",
   "metadata": {},
   "outputs": [
    {
     "data": {
      "text/plain": [
       "('USERS', {'TEACHERS': {}, 'STUDENTS': {}})"
      ]
     },
     "execution_count": 32,
     "metadata": {},
     "output_type": "execute_result"
    }
   ],
   "source": [
    "list(LMS.items())[0] #Here the tuples are inside the list format or type.So we use 'list()'."
   ]
  },
  {
   "cell_type": "code",
   "execution_count": 33,
   "id": "99ceccfa",
   "metadata": {},
   "outputs": [
    {
     "data": {
      "text/plain": [
       "tuple"
      ]
     },
     "execution_count": 33,
     "metadata": {},
     "output_type": "execute_result"
    }
   ],
   "source": [
    "type(list(LMS.items())[0]) #This shows type of tuple in list"
   ]
  },
  {
   "cell_type": "code",
   "execution_count": 35,
   "id": "b40f31d0",
   "metadata": {},
   "outputs": [
    {
     "data": {
      "text/plain": [
       "[('USERS', {'TEACHERS': {}, 'STUDENTS': {}}), ('ADMINS', {}), ('BOOKS', {})]"
      ]
     },
     "execution_count": 35,
     "metadata": {},
     "output_type": "execute_result"
    }
   ],
   "source": [
    "list(LMS.items()) ###tuple of keys&value pairs."
   ]
  },
  {
   "cell_type": "code",
   "execution_count": 45,
   "id": "39f0f1fd",
   "metadata": {},
   "outputs": [
    {
     "name": "stdout",
     "output_type": "stream",
     "text": [
      "Help on method_descriptor:\n",
      "\n",
      "get(self, key, default=None, /)\n",
      "    Return the value for key if key is in the dictionary, else default.\n",
      "\n"
     ]
    }
   ],
   "source": [
    "help(dict.get) #It provides value when we give keys"
   ]
  },
  {
   "cell_type": "code",
   "execution_count": 1,
   "id": "6a714c5d",
   "metadata": {},
   "outputs": [
    {
     "ename": "NameError",
     "evalue": "name 'LMS' is not defined",
     "output_type": "error",
     "traceback": [
      "\u001b[1;31m---------------------------------------------------------------------------\u001b[0m",
      "\u001b[1;31mNameError\u001b[0m                                 Traceback (most recent call last)",
      "Cell \u001b[1;32mIn[1], line 1\u001b[0m\n\u001b[1;32m----> 1\u001b[0m \u001b[43mLMS\u001b[49m\u001b[38;5;241m.\u001b[39mget(\u001b[38;5;124m\"\u001b[39m\u001b[38;5;124mUSERS\u001b[39m\u001b[38;5;124m\"\u001b[39m) \u001b[38;5;66;03m#Instead of this method we can easily compatible with \"LMS{\"USERS\"}\".\"\u001b[39;00m\n",
      "\u001b[1;31mNameError\u001b[0m: name 'LMS' is not defined"
     ]
    }
   ],
   "source": [
    "LMS.get(\"USERS\") #Instead of this method we can easily compatible with \"LMS{\"USERS\"}\".\""
   ]
  },
  {
   "cell_type": "markdown",
   "id": "609b72d4",
   "metadata": {},
   "source": [
    "# LMS Dictionary Anatomy/Schema/Structure Overview.."
   ]
  },
  {
   "cell_type": "code",
   "execution_count": 3,
   "id": "3d600d2b",
   "metadata": {},
   "outputs": [],
   "source": [
    "LMS = {}"
   ]
  },
  {
   "cell_type": "code",
   "execution_count": 4,
   "id": "c9f5cd1b",
   "metadata": {},
   "outputs": [
    {
     "data": {
      "text/plain": [
       "{}"
      ]
     },
     "execution_count": 4,
     "metadata": {},
     "output_type": "execute_result"
    }
   ],
   "source": [
    "LMS"
   ]
  },
  {
   "cell_type": "code",
   "execution_count": 5,
   "id": "8a4bec67",
   "metadata": {},
   "outputs": [
    {
     "data": {
      "text/plain": [
       "{'USERS': {}, 'ADMINS': {}}"
      ]
     },
     "execution_count": 5,
     "metadata": {},
     "output_type": "execute_result"
    }
   ],
   "source": [
    "LMS[\"USERS\"] = {}\n",
    "LMS[\"ADMINS\"] = {}\n",
    "LMS"
   ]
  },
  {
   "cell_type": "code",
   "execution_count": 6,
   "id": "0abadefe",
   "metadata": {},
   "outputs": [
    {
     "data": {
      "text/plain": [
       "{'USERS': {'STUDENTS': {}, 'TEACHERS': {}}, 'ADMINS': {}}"
      ]
     },
     "execution_count": 6,
     "metadata": {},
     "output_type": "execute_result"
    }
   ],
   "source": [
    "LMS[\"USERS\"][\"STUDENTS\"] = {}\n",
    "LMS[\"USERS\"][\"TEACHERS\"] = {}\n",
    "LMS"
   ]
  },
  {
   "cell_type": "code",
   "execution_count": 7,
   "id": "c88a3727",
   "metadata": {},
   "outputs": [
    {
     "data": {
      "text/plain": [
       "{'USERS': {'STUDENTS': {'LOGIN': {}, 'STUDENT_MENU': {}, 'LOGOUT': {}},\n",
       "  'TEACHERS': {}},\n",
       " 'ADMINS': {}}"
      ]
     },
     "execution_count": 7,
     "metadata": {},
     "output_type": "execute_result"
    }
   ],
   "source": [
    "LMS[\"USERS\"][\"STUDENTS\"][\"LOGIN\"] = {}\n",
    "LMS[\"USERS\"][\"STUDENTS\"][\"STUDENT_MENU\"] = {}\n",
    "LMS[\"USERS\"][\"STUDENTS\"][\"LOGOUT\"] = {}\n",
    "LMS"
   ]
  },
  {
   "cell_type": "code",
   "execution_count": 8,
   "id": "3600a777",
   "metadata": {},
   "outputs": [
    {
     "data": {
      "text/plain": [
       "{'USERS': {'STUDENTS': {'LOGIN': {},\n",
       "   'STUDENT_MENU': {'BOOKS': {'FIRST': {'MATHS': {}, 'CPROG': {}},\n",
       "     'SECOND': {'DATASTRUCTURES': {}, 'DBMS': {}},\n",
       "     'THIRD': {},\n",
       "     'FOURTH': {}},\n",
       "    'ADMIN': {}},\n",
       "   'LOGOUT': {}},\n",
       "  'TEACHERS': {'LOGIN': {}, 'TEACHER_MENU': {}, 'LOGOUT': {}}},\n",
       " 'ADMINS': {}}"
      ]
     },
     "execution_count": 8,
     "metadata": {},
     "output_type": "execute_result"
    }
   ],
   "source": [
    "LMS[\"USERS\"][\"STUDENTS\"][\"STUDENT_MENU\"][\"BOOKS\"] = {}\n",
    "LMS[\"USERS\"][\"STUDENTS\"][\"STUDENT_MENU\"][\"ADMIN\"] = {}\n",
    "LMS[\"USERS\"][\"STUDENTS\"][\"STUDENT_MENU\"][\"BOOKS\"][\"FIRST\"] = {}\n",
    "LMS[\"USERS\"][\"STUDENTS\"][\"STUDENT_MENU\"][\"BOOKS\"][\"SECOND\"] = {}\n",
    "LMS[\"USERS\"][\"STUDENTS\"][\"STUDENT_MENU\"][\"BOOKS\"][\"THIRD\"] = {}\n",
    "LMS[\"USERS\"][\"STUDENTS\"][\"STUDENT_MENU\"][\"BOOKS\"][\"FOURTH\"] = {}\n",
    "LMS[\"USERS\"][\"STUDENTS\"][\"STUDENT_MENU\"][\"BOOKS\"][\"FIRST\"][\"MATHS\"] = {}\n",
    "LMS[\"USERS\"][\"STUDENTS\"][\"STUDENT_MENU\"][\"BOOKS\"][\"FIRST\"][\"CPROG\"] = {}\n",
    "LMS[\"USERS\"][\"STUDENTS\"][\"STUDENT_MENU\"][\"BOOKS\"][\"SECOND\"][\"DATASTRUCTURES\"] = {}\n",
    "LMS[\"USERS\"][\"STUDENTS\"][\"STUDENT_MENU\"][\"BOOKS\"][\"SECOND\"][\"DBMS\"] = {}\n",
    "\n",
    "LMS[\"USERS\"][\"TEACHERS\"][\"LOGIN\"] = {}\n",
    "LMS[\"USERS\"][\"TEACHERS\"][\"TEACHER_MENU\"] = {}\n",
    "LMS[\"USERS\"][\"TEACHERS\"][\"LOGOUT\"] = {}\n",
    "LMS"
   ]
  },
  {
   "cell_type": "code",
   "execution_count": 9,
   "id": "b6a0c312",
   "metadata": {},
   "outputs": [
    {
     "data": {
      "text/plain": [
       "{'USERS': {'STUDENTS': {'LOGIN': {},\n",
       "   'STUDENT_MENU': {'BOOKS': {'FIRST': {'MATHS': {}, 'CPROG': {}},\n",
       "     'SECOND': {'DATASTRUCTURES': {}, 'DBMS': {}},\n",
       "     'THIRD': {},\n",
       "     'FOURTH': {}},\n",
       "    'ADMIN': {}},\n",
       "   'LOGOUT': {}},\n",
       "  'TEACHERS': {'LOGIN': {},\n",
       "   'TEACHER_MENU': {'BOOKS': {'CSE': {'CPROGRAMMING': {}},\n",
       "     'CIVIL': {'STENGTH_OF_MATERIALS': {}}}},\n",
       "   'LOGOUT': {}}},\n",
       " 'ADMINS': {}}"
      ]
     },
     "execution_count": 9,
     "metadata": {},
     "output_type": "execute_result"
    }
   ],
   "source": [
    "LMS[\"USERS\"][\"TEACHERS\"][\"TEACHER_MENU\"][\"BOOKS\"] = {}\n",
    "LMS[\"USERS\"][\"TEACHERS\"][\"TEACHER_MENU\"][\"BOOKS\"][\"CSE\"] = {}\n",
    "LMS[\"USERS\"][\"TEACHERS\"][\"TEACHER_MENU\"][\"BOOKS\"][\"CIVIL\"] = {}\n",
    "LMS[\"USERS\"][\"TEACHERS\"][\"TEACHER_MENU\"][\"BOOKS\"][\"CSE\"][\"CPROGRAMMING\"] = {}\n",
    "LMS[\"USERS\"][\"TEACHERS\"][\"TEACHER_MENU\"][\"BOOKS\"][\"CIVIL\"][\"STENGTH_OF_MATERIALS\"] = {}\n",
    "LMS"
   ]
  },
  {
   "cell_type": "code",
   "execution_count": 10,
   "id": "cc7029ce",
   "metadata": {},
   "outputs": [],
   "source": [
    "LMS[\"ADMINS\"][\"LOGIN\"] = {}\n",
    "LMS[\"ADMINS\"][\"ADD_BOOKS\"] = {}\n",
    "LMS[\"ADMINS\"][\"REMOVE_BOOKS\"] = {}\n",
    "LMS[\"ADMINS\"][\"DISPLAY BOOKS OVER YEAR\"] = {}\n",
    "LMS[\"ADMINS\"][\"DISPLAY BOOKS OVER DEPARTMENT\"] = {}\n",
    "LMS[\"ADMINS\"][\"CREATE NEW USER\"] = {}\n",
    "LMS[\"ADMINS\"][\"DELETE USER\"] = {}\n",
    "LMS[\"ADMINS\"][\"UPDATE USER\"] = {}\n"
   ]
  },
  {
   "cell_type": "code",
   "execution_count": null,
   "id": "0b00a38f",
   "metadata": {},
   "outputs": [],
   "source": []
  }
 ],
 "metadata": {
  "kernelspec": {
   "display_name": "Python 3 (ipykernel)",
   "language": "python",
   "name": "python3"
  },
  "language_info": {
   "codemirror_mode": {
    "name": "ipython",
    "version": 3
   },
   "file_extension": ".py",
   "mimetype": "text/x-python",
   "name": "python",
   "nbconvert_exporter": "python",
   "pygments_lexer": "ipython3",
   "version": "3.10.7"
  }
 },
 "nbformat": 4,
 "nbformat_minor": 5
}
