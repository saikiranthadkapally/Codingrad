{
 "cells": [
  {
   "cell_type": "code",
   "execution_count": 1,
   "id": "5fe0e3d5",
   "metadata": {},
   "outputs": [
    {
     "name": "stdout",
     "output_type": "stream",
     "text": [
      "Help on class str in module builtins:\n",
      "\n",
      "class str(object)\n",
      " |  str(object='') -> str\n",
      " |  str(bytes_or_buffer[, encoding[, errors]]) -> str\n",
      " |  \n",
      " |  Create a new string object from the given object. If encoding or\n",
      " |  errors is specified, then the object must expose a data buffer\n",
      " |  that will be decoded using the given encoding and error handler.\n",
      " |  Otherwise, returns the result of object.__str__() (if defined)\n",
      " |  or repr(object).\n",
      " |  encoding defaults to sys.getdefaultencoding().\n",
      " |  errors defaults to 'strict'.\n",
      " |  \n",
      " |  Methods defined here:\n",
      " |  \n",
      " |  __add__(self, value, /)\n",
      " |      Return self+value.\n",
      " |  \n",
      " |  __contains__(self, key, /)\n",
      " |      Return key in self.\n",
      " |  \n",
      " |  __eq__(self, value, /)\n",
      " |      Return self==value.\n",
      " |  \n",
      " |  __format__(self, format_spec, /)\n",
      " |      Return a formatted version of the string as described by format_spec.\n",
      " |  \n",
      " |  __ge__(self, value, /)\n",
      " |      Return self>=value.\n",
      " |  \n",
      " |  __getattribute__(self, name, /)\n",
      " |      Return getattr(self, name).\n",
      " |  \n",
      " |  __getitem__(self, key, /)\n",
      " |      Return self[key].\n",
      " |  \n",
      " |  __getnewargs__(...)\n",
      " |  \n",
      " |  __gt__(self, value, /)\n",
      " |      Return self>value.\n",
      " |  \n",
      " |  __hash__(self, /)\n",
      " |      Return hash(self).\n",
      " |  \n",
      " |  __iter__(self, /)\n",
      " |      Implement iter(self).\n",
      " |  \n",
      " |  __le__(self, value, /)\n",
      " |      Return self<=value.\n",
      " |  \n",
      " |  __len__(self, /)\n",
      " |      Return len(self).\n",
      " |  \n",
      " |  __lt__(self, value, /)\n",
      " |      Return self<value.\n",
      " |  \n",
      " |  __mod__(self, value, /)\n",
      " |      Return self%value.\n",
      " |  \n",
      " |  __mul__(self, value, /)\n",
      " |      Return self*value.\n",
      " |  \n",
      " |  __ne__(self, value, /)\n",
      " |      Return self!=value.\n",
      " |  \n",
      " |  __repr__(self, /)\n",
      " |      Return repr(self).\n",
      " |  \n",
      " |  __rmod__(self, value, /)\n",
      " |      Return value%self.\n",
      " |  \n",
      " |  __rmul__(self, value, /)\n",
      " |      Return value*self.\n",
      " |  \n",
      " |  __sizeof__(self, /)\n",
      " |      Return the size of the string in memory, in bytes.\n",
      " |  \n",
      " |  __str__(self, /)\n",
      " |      Return str(self).\n",
      " |  \n",
      " |  capitalize(self, /)\n",
      " |      Return a capitalized version of the string.\n",
      " |      \n",
      " |      More specifically, make the first character have upper case and the rest lower\n",
      " |      case.\n",
      " |  \n",
      " |  casefold(self, /)\n",
      " |      Return a version of the string suitable for caseless comparisons.\n",
      " |  \n",
      " |  center(self, width, fillchar=' ', /)\n",
      " |      Return a centered string of length width.\n",
      " |      \n",
      " |      Padding is done using the specified fill character (default is a space).\n",
      " |  \n",
      " |  count(...)\n",
      " |      S.count(sub[, start[, end]]) -> int\n",
      " |      \n",
      " |      Return the number of non-overlapping occurrences of substring sub in\n",
      " |      string S[start:end].  Optional arguments start and end are\n",
      " |      interpreted as in slice notation.\n",
      " |  \n",
      " |  encode(self, /, encoding='utf-8', errors='strict')\n",
      " |      Encode the string using the codec registered for encoding.\n",
      " |      \n",
      " |      encoding\n",
      " |        The encoding in which to encode the string.\n",
      " |      errors\n",
      " |        The error handling scheme to use for encoding errors.\n",
      " |        The default is 'strict' meaning that encoding errors raise a\n",
      " |        UnicodeEncodeError.  Other possible values are 'ignore', 'replace' and\n",
      " |        'xmlcharrefreplace' as well as any other name registered with\n",
      " |        codecs.register_error that can handle UnicodeEncodeErrors.\n",
      " |  \n",
      " |  endswith(...)\n",
      " |      S.endswith(suffix[, start[, end]]) -> bool\n",
      " |      \n",
      " |      Return True if S ends with the specified suffix, False otherwise.\n",
      " |      With optional start, test S beginning at that position.\n",
      " |      With optional end, stop comparing S at that position.\n",
      " |      suffix can also be a tuple of strings to try.\n",
      " |  \n",
      " |  expandtabs(self, /, tabsize=8)\n",
      " |      Return a copy where all tab characters are expanded using spaces.\n",
      " |      \n",
      " |      If tabsize is not given, a tab size of 8 characters is assumed.\n",
      " |  \n",
      " |  find(...)\n",
      " |      S.find(sub[, start[, end]]) -> int\n",
      " |      \n",
      " |      Return the lowest index in S where substring sub is found,\n",
      " |      such that sub is contained within S[start:end].  Optional\n",
      " |      arguments start and end are interpreted as in slice notation.\n",
      " |      \n",
      " |      Return -1 on failure.\n",
      " |  \n",
      " |  format(...)\n",
      " |      S.format(*args, **kwargs) -> str\n",
      " |      \n",
      " |      Return a formatted version of S, using substitutions from args and kwargs.\n",
      " |      The substitutions are identified by braces ('{' and '}').\n",
      " |  \n",
      " |  format_map(...)\n",
      " |      S.format_map(mapping) -> str\n",
      " |      \n",
      " |      Return a formatted version of S, using substitutions from mapping.\n",
      " |      The substitutions are identified by braces ('{' and '}').\n",
      " |  \n",
      " |  index(...)\n",
      " |      S.index(sub[, start[, end]]) -> int\n",
      " |      \n",
      " |      Return the lowest index in S where substring sub is found,\n",
      " |      such that sub is contained within S[start:end].  Optional\n",
      " |      arguments start and end are interpreted as in slice notation.\n",
      " |      \n",
      " |      Raises ValueError when the substring is not found.\n",
      " |  \n",
      " |  isalnum(self, /)\n",
      " |      Return True if the string is an alpha-numeric string, False otherwise.\n",
      " |      \n",
      " |      A string is alpha-numeric if all characters in the string are alpha-numeric and\n",
      " |      there is at least one character in the string.\n",
      " |  \n",
      " |  isalpha(self, /)\n",
      " |      Return True if the string is an alphabetic string, False otherwise.\n",
      " |      \n",
      " |      A string is alphabetic if all characters in the string are alphabetic and there\n",
      " |      is at least one character in the string.\n",
      " |  \n",
      " |  isascii(self, /)\n",
      " |      Return True if all characters in the string are ASCII, False otherwise.\n",
      " |      \n",
      " |      ASCII characters have code points in the range U+0000-U+007F.\n",
      " |      Empty string is ASCII too.\n",
      " |  \n",
      " |  isdecimal(self, /)\n",
      " |      Return True if the string is a decimal string, False otherwise.\n",
      " |      \n",
      " |      A string is a decimal string if all characters in the string are decimal and\n",
      " |      there is at least one character in the string.\n",
      " |  \n",
      " |  isdigit(self, /)\n",
      " |      Return True if the string is a digit string, False otherwise.\n",
      " |      \n",
      " |      A string is a digit string if all characters in the string are digits and there\n",
      " |      is at least one character in the string.\n",
      " |  \n",
      " |  isidentifier(self, /)\n",
      " |      Return True if the string is a valid Python identifier, False otherwise.\n",
      " |      \n",
      " |      Call keyword.iskeyword(s) to test whether string s is a reserved identifier,\n",
      " |      such as \"def\" or \"class\".\n",
      " |  \n",
      " |  islower(self, /)\n",
      " |      Return True if the string is a lowercase string, False otherwise.\n",
      " |      \n",
      " |      A string is lowercase if all cased characters in the string are lowercase and\n",
      " |      there is at least one cased character in the string.\n",
      " |  \n",
      " |  isnumeric(self, /)\n",
      " |      Return True if the string is a numeric string, False otherwise.\n",
      " |      \n",
      " |      A string is numeric if all characters in the string are numeric and there is at\n",
      " |      least one character in the string.\n",
      " |  \n",
      " |  isprintable(self, /)\n",
      " |      Return True if the string is printable, False otherwise.\n",
      " |      \n",
      " |      A string is printable if all of its characters are considered printable in\n",
      " |      repr() or if it is empty.\n",
      " |  \n",
      " |  isspace(self, /)\n",
      " |      Return True if the string is a whitespace string, False otherwise.\n",
      " |      \n",
      " |      A string is whitespace if all characters in the string are whitespace and there\n",
      " |      is at least one character in the string.\n",
      " |  \n",
      " |  istitle(self, /)\n",
      " |      Return True if the string is a title-cased string, False otherwise.\n",
      " |      \n",
      " |      In a title-cased string, upper- and title-case characters may only\n",
      " |      follow uncased characters and lowercase characters only cased ones.\n",
      " |  \n",
      " |  isupper(self, /)\n",
      " |      Return True if the string is an uppercase string, False otherwise.\n",
      " |      \n",
      " |      A string is uppercase if all cased characters in the string are uppercase and\n",
      " |      there is at least one cased character in the string.\n",
      " |  \n",
      " |  join(self, iterable, /)\n",
      " |      Concatenate any number of strings.\n",
      " |      \n",
      " |      The string whose method is called is inserted in between each given string.\n",
      " |      The result is returned as a new string.\n",
      " |      \n",
      " |      Example: '.'.join(['ab', 'pq', 'rs']) -> 'ab.pq.rs'\n",
      " |  \n",
      " |  ljust(self, width, fillchar=' ', /)\n",
      " |      Return a left-justified string of length width.\n",
      " |      \n",
      " |      Padding is done using the specified fill character (default is a space).\n",
      " |  \n",
      " |  lower(self, /)\n",
      " |      Return a copy of the string converted to lowercase.\n",
      " |  \n",
      " |  lstrip(self, chars=None, /)\n",
      " |      Return a copy of the string with leading whitespace removed.\n",
      " |      \n",
      " |      If chars is given and not None, remove characters in chars instead.\n",
      " |  \n",
      " |  partition(self, sep, /)\n",
      " |      Partition the string into three parts using the given separator.\n",
      " |      \n",
      " |      This will search for the separator in the string.  If the separator is found,\n",
      " |      returns a 3-tuple containing the part before the separator, the separator\n",
      " |      itself, and the part after it.\n",
      " |      \n",
      " |      If the separator is not found, returns a 3-tuple containing the original string\n",
      " |      and two empty strings.\n",
      " |  \n",
      " |  removeprefix(self, prefix, /)\n",
      " |      Return a str with the given prefix string removed if present.\n",
      " |      \n",
      " |      If the string starts with the prefix string, return string[len(prefix):].\n",
      " |      Otherwise, return a copy of the original string.\n",
      " |  \n",
      " |  removesuffix(self, suffix, /)\n",
      " |      Return a str with the given suffix string removed if present.\n",
      " |      \n",
      " |      If the string ends with the suffix string and that suffix is not empty,\n",
      " |      return string[:-len(suffix)]. Otherwise, return a copy of the original\n",
      " |      string.\n",
      " |  \n",
      " |  replace(self, old, new, count=-1, /)\n",
      " |      Return a copy with all occurrences of substring old replaced by new.\n",
      " |      \n",
      " |        count\n",
      " |          Maximum number of occurrences to replace.\n",
      " |          -1 (the default value) means replace all occurrences.\n",
      " |      \n",
      " |      If the optional argument count is given, only the first count occurrences are\n",
      " |      replaced.\n",
      " |  \n",
      " |  rfind(...)\n",
      " |      S.rfind(sub[, start[, end]]) -> int\n",
      " |      \n",
      " |      Return the highest index in S where substring sub is found,\n",
      " |      such that sub is contained within S[start:end].  Optional\n",
      " |      arguments start and end are interpreted as in slice notation.\n",
      " |      \n",
      " |      Return -1 on failure.\n",
      " |  \n",
      " |  rindex(...)\n",
      " |      S.rindex(sub[, start[, end]]) -> int\n",
      " |      \n",
      " |      Return the highest index in S where substring sub is found,\n",
      " |      such that sub is contained within S[start:end].  Optional\n",
      " |      arguments start and end are interpreted as in slice notation.\n",
      " |      \n",
      " |      Raises ValueError when the substring is not found.\n",
      " |  \n",
      " |  rjust(self, width, fillchar=' ', /)\n",
      " |      Return a right-justified string of length width.\n",
      " |      \n",
      " |      Padding is done using the specified fill character (default is a space).\n",
      " |  \n",
      " |  rpartition(self, sep, /)\n",
      " |      Partition the string into three parts using the given separator.\n",
      " |      \n",
      " |      This will search for the separator in the string, starting at the end. If\n",
      " |      the separator is found, returns a 3-tuple containing the part before the\n",
      " |      separator, the separator itself, and the part after it.\n",
      " |      \n",
      " |      If the separator is not found, returns a 3-tuple containing two empty strings\n",
      " |      and the original string.\n",
      " |  \n",
      " |  rsplit(self, /, sep=None, maxsplit=-1)\n",
      " |      Return a list of the substrings in the string, using sep as the separator string.\n",
      " |      \n",
      " |        sep\n",
      " |          The separator used to split the string.\n",
      " |      \n",
      " |          When set to None (the default value), will split on any whitespace\n",
      " |          character (including \\\\n \\\\r \\\\t \\\\f and spaces) and will discard\n",
      " |          empty strings from the result.\n",
      " |        maxsplit\n",
      " |          Maximum number of splits (starting from the left).\n",
      " |          -1 (the default value) means no limit.\n",
      " |      \n",
      " |      Splitting starts at the end of the string and works to the front.\n",
      " |  \n",
      " |  rstrip(self, chars=None, /)\n",
      " |      Return a copy of the string with trailing whitespace removed.\n",
      " |      \n",
      " |      If chars is given and not None, remove characters in chars instead.\n",
      " |  \n",
      " |  split(self, /, sep=None, maxsplit=-1)\n",
      " |      Return a list of the substrings in the string, using sep as the separator string.\n",
      " |      \n",
      " |        sep\n",
      " |          The separator used to split the string.\n",
      " |      \n",
      " |          When set to None (the default value), will split on any whitespace\n",
      " |          character (including \\\\n \\\\r \\\\t \\\\f and spaces) and will discard\n",
      " |          empty strings from the result.\n",
      " |        maxsplit\n",
      " |          Maximum number of splits (starting from the left).\n",
      " |          -1 (the default value) means no limit.\n",
      " |      \n",
      " |      Note, str.split() is mainly useful for data that has been intentionally\n",
      " |      delimited.  With natural text that includes punctuation, consider using\n",
      " |      the regular expression module.\n",
      " |  \n",
      " |  splitlines(self, /, keepends=False)\n",
      " |      Return a list of the lines in the string, breaking at line boundaries.\n",
      " |      \n",
      " |      Line breaks are not included in the resulting list unless keepends is given and\n",
      " |      true.\n",
      " |  \n",
      " |  startswith(...)\n",
      " |      S.startswith(prefix[, start[, end]]) -> bool\n",
      " |      \n",
      " |      Return True if S starts with the specified prefix, False otherwise.\n",
      " |      With optional start, test S beginning at that position.\n",
      " |      With optional end, stop comparing S at that position.\n",
      " |      prefix can also be a tuple of strings to try.\n",
      " |  \n",
      " |  strip(self, chars=None, /)\n",
      " |      Return a copy of the string with leading and trailing whitespace removed.\n",
      " |      \n",
      " |      If chars is given and not None, remove characters in chars instead.\n",
      " |  \n",
      " |  swapcase(self, /)\n",
      " |      Convert uppercase characters to lowercase and lowercase characters to uppercase.\n",
      " |  \n",
      " |  title(self, /)\n",
      " |      Return a version of the string where each word is titlecased.\n",
      " |      \n",
      " |      More specifically, words start with uppercased characters and all remaining\n",
      " |      cased characters have lower case.\n",
      " |  \n",
      " |  translate(self, table, /)\n",
      " |      Replace each character in the string using the given translation table.\n",
      " |      \n",
      " |        table\n",
      " |          Translation table, which must be a mapping of Unicode ordinals to\n",
      " |          Unicode ordinals, strings, or None.\n",
      " |      \n",
      " |      The table must implement lookup/indexing via __getitem__, for instance a\n",
      " |      dictionary or list.  If this operation raises LookupError, the character is\n",
      " |      left untouched.  Characters mapped to None are deleted.\n",
      " |  \n",
      " |  upper(self, /)\n",
      " |      Return a copy of the string converted to uppercase.\n",
      " |  \n",
      " |  zfill(self, width, /)\n",
      " |      Pad a numeric string with zeros on the left, to fill a field of the given width.\n",
      " |      \n",
      " |      The string is never truncated.\n",
      " |  \n",
      " |  ----------------------------------------------------------------------\n",
      " |  Static methods defined here:\n",
      " |  \n",
      " |  __new__(*args, **kwargs) from builtins.type\n",
      " |      Create and return a new object.  See help(type) for accurate signature.\n",
      " |  \n",
      " |  maketrans(...)\n",
      " |      Return a translation table usable for str.translate().\n",
      " |      \n",
      " |      If there is only one argument, it must be a dictionary mapping Unicode\n",
      " |      ordinals (integers) or characters to Unicode ordinals, strings or None.\n",
      " |      Character keys will be then converted to ordinals.\n",
      " |      If there are two arguments, they must be strings of equal length, and\n",
      " |      in the resulting dictionary, each character in x will be mapped to the\n",
      " |      character at the same position in y. If there is a third argument, it\n",
      " |      must be a string, whose characters will be mapped to None in the result.\n",
      "\n"
     ]
    }
   ],
   "source": [
    "help(str)"
   ]
  },
  {
   "cell_type": "markdown",
   "id": "073eae1e",
   "metadata": {},
   "source": [
    "# 1) capitalize()\n",
    "\n",
    "## Time Complexity:The capitalize() method has a time complexity of O(1) because it only needs to access the first character of the string and perform a single operation on it. This makes it a very efficient method to use."
   ]
  },
  {
   "cell_type": "code",
   "execution_count": 2,
   "id": "0894d107",
   "metadata": {},
   "outputs": [
    {
     "name": "stdout",
     "output_type": "stream",
     "text": [
      "Hello world\n"
     ]
    }
   ],
   "source": [
    "'''\n",
    "Syntax:  capitalize(self, /)\n",
    "            Return a capitalized version of the string.\n",
    "\n",
    "            More specifically, make the first character have upper case and the rest lower\n",
    "            case.\n",
    "'''\n",
    "'''\n",
    "In this example, the capitalize() method is used to capitalize the first letter of the string \"hello world\". The new string \n",
    "with the first letter capitalized is stored in the variable new_string and printed to the console.\n",
    "'''\n",
    "#Example 1\n",
    "string = \"hello world\"\n",
    "new_string = string.capitalize()\n",
    "print(new_string)\n"
   ]
  },
  {
   "cell_type": "code",
   "execution_count": 3,
   "id": "521c0a33",
   "metadata": {},
   "outputs": [
    {
     "name": "stdout",
     "output_type": "stream",
     "text": [
      "Abcdefghijklmnopqrstuvwxyz\n"
     ]
    }
   ],
   "source": [
    "'''\n",
    "In this example, the capitalize() method is used to capitalize the first letter of the string \"aBcDEfGHiJKLmNoPqRsTuVwXyZ\". \n",
    "However, since the rest of the letters are already in lowercase, the new string only has the first letter capitalized, and \n",
    "the rest are left in lowercase.\n",
    "'''\n",
    "#Example 2\n",
    "string = \"aBcDEfGHiJKLmNoPqRsTuVwXyZ\"\n",
    "new_string = string.capitalize()\n",
    "print(new_string)\n"
   ]
  },
  {
   "cell_type": "code",
   "execution_count": 4,
   "id": "e1f27c6a",
   "metadata": {},
   "outputs": [
    {
     "name": "stdout",
     "output_type": "stream",
     "text": [
      "12345\n"
     ]
    }
   ],
   "source": [
    "'''\n",
    "In this example, the capitalize() method is used on a string of digits. Since the first character is not a letter, it \n",
    "remains unchanged, and the method returns the original string.\n",
    "'''\n",
    "#Example 3\n",
    "string = \"12345\"\n",
    "new_string = string.capitalize()\n",
    "print(new_string)\n"
   ]
  },
  {
   "cell_type": "code",
   "execution_count": 5,
   "id": "e037508e",
   "metadata": {},
   "outputs": [
    {
     "name": "stdout",
     "output_type": "stream",
     "text": [
      "Hello world!\n"
     ]
    }
   ],
   "source": [
    "'''\n",
    "In this example, the capitalize() method is used to capitalize the first letter of the string \"Hello World!\", but the rest \n",
    "of the string is left unchanged because it already contains lowercase letters.\n",
    "\n",
    "Overall, the capitalize() method is useful for formatting strings where the first letter needs to be capitalized while \n",
    "keeping the rest of the string in lowercase.\n",
    "'''\n",
    "#Example 4\n",
    "string = \"Hello World!\"\n",
    "new_string = string.capitalize()\n",
    "print(new_string)\n"
   ]
  },
  {
   "cell_type": "code",
   "execution_count": 3,
   "id": "f489b1ad",
   "metadata": {},
   "outputs": [
    {
     "name": "stdout",
     "output_type": "stream",
     "text": [
      "123hello, world!\n"
     ]
    }
   ],
   "source": [
    "#Example 5\n",
    "string = \"123hello, world!\"\n",
    "capitalized_string = string.capitalize()\n",
    "print(capitalized_string)\n"
   ]
  },
  {
   "cell_type": "markdown",
   "id": "16280bc7",
   "metadata": {},
   "source": [
    "# 2) casefold()"
   ]
  },
  {
   "cell_type": "code",
   "execution_count": 4,
   "id": "5f726c06",
   "metadata": {},
   "outputs": [
    {
     "data": {
      "text/plain": [
       "'\\nThe casefold() method is a built-in Python string method that returns a case-folded version of the string. The case-folding \\nprocess involves converting all characters to lowercase and then applying additional transformations to certain characters \\nthat have multiple possible case representations in Unicode. This makes the string suitable for caseless comparisons.\\n\\n'"
      ]
     },
     "execution_count": 4,
     "metadata": {},
     "output_type": "execute_result"
    }
   ],
   "source": [
    "'''\n",
    "Synatx: casefold(self, /)\n",
    "            Return a version of the string suitable for caseless comparisons.\n",
    "'''\n",
    "'''\n",
    "The casefold() method is a built-in Python string method that returns a case-folded version of the string. The case-folding \n",
    "process involves converting all characters to lowercase and then applying additional transformations to certain characters \n",
    "that have multiple possible case representations in Unicode. This makes the string suitable for caseless comparisons.\n",
    "\n",
    "'''"
   ]
  },
  {
   "cell_type": "markdown",
   "id": "1eca0475",
   "metadata": {},
   "source": [
    "## Examples: \n",
    "'''\n",
    "The casefold() method has a time complexity of O(n), where n is the length of the string.\n",
    "Here are some more examples of using the casefold() method:\n",
    "'''\n"
   ]
  },
  {
   "cell_type": "code",
   "execution_count": 6,
   "id": "b9cde159",
   "metadata": {},
   "outputs": [
    {
     "name": "stdout",
     "output_type": "stream",
     "text": [
      "hello, world!\n"
     ]
    }
   ],
   "source": [
    "#Example:\n",
    "s = \"Hello, World!\"\n",
    "s_casefolded = s.casefold()\n",
    "print(s_casefolded)"
   ]
  },
  {
   "cell_type": "code",
   "execution_count": 7,
   "id": "6d3fa78c",
   "metadata": {},
   "outputs": [
    {
     "name": "stdout",
     "output_type": "stream",
     "text": [
      "hello world\n"
     ]
    }
   ],
   "source": [
    "#Example 1: Converting a string to lowercase\n",
    "s = \"HELLO WORLD\"\n",
    "s_casefolded = s.casefold()\n",
    "print(s_casefolded)\n"
   ]
  },
  {
   "cell_type": "code",
   "execution_count": 8,
   "id": "62ef38fd",
   "metadata": {},
   "outputs": [
    {
     "name": "stdout",
     "output_type": "stream",
     "text": [
      "The two strings are equal.\n"
     ]
    }
   ],
   "source": [
    "#Example 2: Comparing two case-insensitive strings\n",
    "s1 = \"Hello, World!\"\n",
    "s2 = \"HELLO, world!\"\n",
    "if s1.casefold() == s2.casefold():\n",
    "    print(\"The two strings are equal.\")\n",
    "else:\n",
    "    print(\"The two strings are not equal.\")\n"
   ]
  },
  {
   "cell_type": "code",
   "execution_count": 9,
   "id": "8caa5f09",
   "metadata": {},
   "outputs": [
    {
     "name": "stdout",
     "output_type": "stream",
     "text": [
      "café\n"
     ]
    }
   ],
   "source": [
    "#Example 3: Removing diacritical marks from a string\n",
    "s = \"caf\\u00e9\"\n",
    "s_casefolded = s.casefold()\n",
    "print(s_casefolded)\n"
   ]
  },
  {
   "cell_type": "code",
   "execution_count": 10,
   "id": "10f16033",
   "metadata": {},
   "outputs": [
    {
     "name": "stdout",
     "output_type": "stream",
     "text": [
      "The substring is in the string.\n"
     ]
    }
   ],
   "source": [
    "#Example 4: Checking if a string contains a certain substring (case-insensitive)\n",
    "s = \"Hello, World!\"\n",
    "substring = \"WORLD\"\n",
    "if substring.casefold() in s.casefold():\n",
    "    print(\"The substring is in the string.\")\n",
    "else:\n",
    "    print(\"The substring is not in the string.\")\n"
   ]
  },
  {
   "cell_type": "markdown",
   "id": "68dd9c67",
   "metadata": {},
   "source": [
    "# 3) center()\n",
    "\n",
    "\n",
    "\n",
    "\n",
    "\n"
   ]
  },
  {
   "cell_type": "markdown",
   "id": "a56aff7e",
   "metadata": {},
   "source": [
    "## Time Complexity:The time complexity of the center() method is O(n) where n is the total width of the resulting string. This is because Python needs to create a new string of length n, which takes O(n) time. The fillchar parameter doesn't affect the time complexity since it is just a single character that is repeated n - len(original_string) times.\n",
    "\n",
    "## In conclusion, the center() method is a useful Python string method for center-aligning strings with padding. Its time complexity is O(n), where n is the total width of the resulting string."
   ]
  },
  {
   "cell_type": "code",
   "execution_count": 21,
   "id": "2347991b",
   "metadata": {},
   "outputs": [
    {
     "name": "stdout",
     "output_type": "stream",
     "text": [
      "       Hello        \n"
     ]
    }
   ],
   "source": [
    "'''\n",
    "Syntax:center(self, width, fillchar=' ', /)\n",
    "                    Return a centered string of length width.\n",
    "       \n",
    "                     Padding is done using the specified fill character (default is a space).\n",
    "'''\n",
    "'''\n",
    "The center() method is a built-in Python function that is used to center-align a string within a given width. It takes \n",
    "three parameters, where width is the total width of the resulting string, fillchar is the character used for \n",
    "padding (if no value is provided, it defaults to a space), and the method returns a new string of length width with the \n",
    "original string centered and padded on either side with the fillchar character. \n",
    "'''\n",
    "'''\n",
    "Now let's look at some examples of how the center() method works in Python:\n",
    "In this example, we're centering the string \"Hello\" within a width of 20 characters. Since no fillchar argument is provided,\n",
    "Python automatically pads the string with spaces on either side.\n",
    "'''\n",
    "#Example 1: Padding with Spaces\n",
    "original_string = \"Hello\"\n",
    "padded_string = original_string.center(20)\n",
    "print(padded_string)"
   ]
  },
  {
   "cell_type": "code",
   "execution_count": 23,
   "id": "17e872a1",
   "metadata": {},
   "outputs": [
    {
     "name": "stdout",
     "output_type": "stream",
     "text": [
      "**Hello***\n"
     ]
    }
   ],
   "source": [
    "'''\n",
    "In this example, we're centering the string \"Hello\" within a width of 10 characters, but instead of using spaces for \n",
    "padding, we're using the * character.\n",
    "'''\n",
    "#Example 2: Padding with a Different Character\n",
    "original_string = \"Hello\"\n",
    "padded_string = original_string.center(10, \"*\")\n",
    "print(padded_string)"
   ]
  },
  {
   "cell_type": "code",
   "execution_count": 24,
   "id": "6c416637",
   "metadata": {},
   "outputs": [
    {
     "name": "stdout",
     "output_type": "stream",
     "text": [
      "--Hello---\n"
     ]
    }
   ],
   "source": [
    "'''\n",
    "In this example, we are using a custom fill character \"-\" instead of the default space character. The resulting string is \n",
    "centered within a width of 10 characters and is padded on either side with \"-\" characters.\n",
    "'''\n",
    "#Example 3: Using a custom fill character\n",
    "string = \"Hello\"\n",
    "width = 10\n",
    "fillchar = \"-\"\n",
    "result = string.center(width, fillchar)\n",
    "print(result)\n"
   ]
  },
  {
   "cell_type": "code",
   "execution_count": 25,
   "id": "c92c274e",
   "metadata": {},
   "outputs": [
    {
     "name": "stdout",
     "output_type": "stream",
     "text": [
      "   Hello   \n"
     ]
    }
   ],
   "source": [
    "'''\n",
    "In the example where we are dynamically calculating the width of the resulting string, we are adding 6 extra characters to \n",
    "the length of the input string to create a width that can accommodate the centered string.\n",
    "\n",
    "Therefore, if we have a string with length 5, like \"Hello\", we would add 6 characters to it, resulting in a width of 11. \n",
    "The resulting centered string would then have 3 spaces on the left side and 3 spaces on the right side, with \"Hello\" in the \n",
    "center\n",
    "'''\n",
    "#Example 4: Using variable width\n",
    "string = \"Hello\"\n",
    "width = len(string) + 6\n",
    "result = string.center(width)\n",
    "print(result)"
   ]
  },
  {
   "cell_type": "code",
   "execution_count": 26,
   "id": "e6121e82",
   "metadata": {},
   "outputs": [
    {
     "name": "stdout",
     "output_type": "stream",
     "text": [
      "  Python  \n"
     ]
    }
   ],
   "source": [
    "'''\n",
    "In this example, we have a string \"Python\" that has an even length of 6. We want to center this string within a width of 10 \n",
    "characters. The resulting string is padded on the left side with 2 spaces and on the right side with 2 spaces to create a \n",
    "string of length 10.\n",
    "'''\n",
    "#Example 5: Handling even length strings\n",
    "string = \"Python\"\n",
    "width = 10\n",
    "result = string.center(width)\n",
    "print(result)"
   ]
  },
  {
   "cell_type": "code",
   "execution_count": 27,
   "id": "3e40cf12",
   "metadata": {},
   "outputs": [
    {
     "name": "stdout",
     "output_type": "stream",
     "text": [
      "  Hello  \n"
     ]
    }
   ],
   "source": [
    "'''\n",
    "In this example, we have a string \"Hello\" that has an odd length of 5. We want to center this string within a width of 9 \n",
    "characters. The resulting string is padded on the left side with 2 spaces and on the right side with 2 spaces to create a\n",
    "string of length 9\n",
    "'''\n",
    "#Example 6:Handling odd length strings\n",
    "string = \"Hello\"\n",
    "width = 9\n",
    "result = string.center(width)\n",
    "print(result)"
   ]
  },
  {
   "cell_type": "markdown",
   "id": "6e8d4ea4",
   "metadata": {},
   "source": [
    "# 4) count()"
   ]
  },
  {
   "cell_type": "markdown",
   "id": "3d949ec6",
   "metadata": {},
   "source": [
    "## Time Complexity:The time complexity of the count() method is O(n), where n is the length of the string.\n",
    "\n",
    "## Auxiliary Space:The auxiliary space used by the count() method is O(1), because it uses a constant amount of extra memory to store the result."
   ]
  },
  {
   "cell_type": "code",
   "execution_count": 29,
   "id": "6f1e350c",
   "metadata": {},
   "outputs": [
    {
     "data": {
      "text/plain": [
       "'\\nThe count() method is a built-in Python method that returns the number of non-overlapping occurrences of a substring sub \\nin a given string S. The method takes one mandatory argument sub, which is the substring that you want to count in the \\ngiven string. Additionally, there are two optional arguments start and end that are interpreted as slice notation, and they \\nspecify the start and end positions of the string in which the method should count the substring.\\n'"
      ]
     },
     "execution_count": 29,
     "metadata": {},
     "output_type": "execute_result"
    }
   ],
   "source": [
    "'''\n",
    " count(...)\n",
    "      S.count(sub[, start[, end]]) -> int\n",
    "\n",
    "      Return the number of non-overlapping occurrences of substring sub in\n",
    "      string S[start:end].  Optional arguments start and end are\n",
    "      interpreted as in slice notation.\n",
    "      \n",
    "Syntax: string.count(substring, start=..., end=...)\n",
    "\n",
    "=>string: Required. The string to be searched.\n",
    "=>substring: Required. The substring to be counted in the string.\n",
    "=>start: Optional. The starting index of the search. Default is 0.\n",
    "=>end: Optional. The ending index of the search. Default is the length of the string.\n",
    "The count() method returns an integer value that represents the number of occurrences of the substring in the given string.\n",
    "\n",
    "'''\n",
    "'''\n",
    "The count() method is a built-in Python method that returns the number of non-overlapping occurrences of a substring sub \n",
    "in a given string S. The method takes one mandatory argument sub, which is the substring that you want to count in the \n",
    "given string. Additionally, there are two optional arguments start and end that are interpreted as slice notation, and they \n",
    "specify the start and end positions of the string in which the method should count the substring.\n",
    "'''"
   ]
  },
  {
   "cell_type": "code",
   "execution_count": 30,
   "id": "14766a03",
   "metadata": {},
   "outputs": [
    {
     "name": "stdout",
     "output_type": "stream",
     "text": [
      "The number of occurrences of 'o' in the string is: 6\n"
     ]
    }
   ],
   "source": [
    "#Example 1: Counting Occurrences of a Substring in a String\n",
    "string = \"Hello, World! How are you doing today?\"\n",
    "substring = \"o\"\n",
    "\n",
    "count = string.count(substring)\n",
    "\n",
    "print(\"The number of occurrences of '{}' in the string is: {}\".format(substring, count))"
   ]
  },
  {
   "cell_type": "code",
   "execution_count": 31,
   "id": "a1371a86",
   "metadata": {},
   "outputs": [
    {
     "name": "stdout",
     "output_type": "stream",
     "text": [
      "The number of occurrences of 'o' in the string starting from index 5 is: 5\n",
      "The number of occurrences of 'o' in the string starting from index 5 and ending at index 25 is: 3\n"
     ]
    }
   ],
   "source": [
    "#Example 2: Counting Occurrences of a Substring in a String using Start and End Indices\n",
    "string = \"Hello, World! How are you doing today?\"\n",
    "substring = \"o\"\n",
    "\n",
    "# count occurrences of substring starting from index 5\n",
    "count = string.count(substring, 5)\n",
    "\n",
    "# count occurrences of substring starting from index 5 and ending at index 25\n",
    "count2 = string.count(substring, 5, 25)\n",
    "\n",
    "print(\"The number of occurrences of '{}' in the string starting from index 5 is: {}\".format(substring, count))\n",
    "print(\"The number of occurrences of '{}' in the string starting from index 5 and ending at index 25 is: {}\".format(substring, count2))\n"
   ]
  },
  {
   "cell_type": "markdown",
   "id": "657390b4",
   "metadata": {},
   "source": [
    "# 5) endswith()\n"
   ]
  },
  {
   "cell_type": "code",
   "execution_count": 32,
   "id": "20bf0208",
   "metadata": {},
   "outputs": [
    {
     "name": "stdout",
     "output_type": "stream",
     "text": [
      "True\n",
      "False\n"
     ]
    }
   ],
   "source": [
    "'''\n",
    " endswith(...)\n",
    "     S.endswith(suffix[, start[, end]]) -> bool\n",
    "\n",
    "     Return True if S ends with the specified suffix, False otherwise.\n",
    "     With optional start, test S beginning at that position.\n",
    "     With optional end, stop comparing S at that position.\n",
    "     suffix can also be a tuple of strings to try.\n",
    "     \n",
    "Syntax: string.endswith(suffix, start, end)\n",
    "\n",
    "Here, string is the string on which the method is called, suffix is the string to check for at the end of string, start is\n",
    "the starting index from which to check the string (default is 0), and end is the ending index till which the string should \n",
    "be checked (default is the length of the string).\n",
    "'''\n",
    "'''\n",
    "The endswith() method is a built-in Python string method used to check whether a string ends with a specified suffix. It \n",
    "returns True if the string ends with the specified suffix, otherwise it returns False. It also provides optional parameters \n",
    "to specify the start and end positions of the string to check.\n",
    "'''"
   ]
  },
  {
   "cell_type": "code",
   "execution_count": 33,
   "id": "3b249be1",
   "metadata": {},
   "outputs": [
    {
     "name": "stdout",
     "output_type": "stream",
     "text": [
      "True\n",
      "False\n"
     ]
    }
   ],
   "source": [
    "'''\n",
    "In this example, the endswith() method is called on the string variable with the suffix parameter set to \"World\". Since \n",
    "the string ends with \"World\", the method returns True. However, since \"world\" (with a lowercase \"w\") is not the suffix of \n",
    "the string, the method returns False.\n",
    "'''\n",
    "#Example 1: Using only the suffix parameter\n",
    "string = \"Hello World\"\n",
    "print(string.endswith(\"World\"))    # Output: True\n",
    "print(string.endswith(\"world\"))    # Output: False"
   ]
  },
  {
   "cell_type": "code",
   "execution_count": 34,
   "id": "461df549",
   "metadata": {},
   "outputs": [
    {
     "name": "stdout",
     "output_type": "stream",
     "text": [
      "False\n",
      "False\n"
     ]
    }
   ],
   "source": [
    "'''\n",
    "In the examples provided, the endswith() method is called on the string variable string with the suffix parameter set to \n",
    "\"Hello\" and the start parameter set to 5 or 6. However, since the string \"Hello World\" does not end with the substring \n",
    "\"Hello\", the method will return False in both cases\n",
    "'''\n",
    "'''\n",
    "Time and auxilary:\n",
    "The endswith() method has a time complexity of O(m) where m is the length of the suffix. This is because the method iterates\n",
    "through the suffix and compares each character with the corresponding character in the string. If the suffix is longer than\n",
    "the string, the method will return False immediately. Otherwise, it will continue comparing the characters until either the\n",
    "suffix is exhausted or a mismatch is found.\n",
    "\n",
    "When the start parameter is set in the endswith() method, the method starts iterating through the string from the specified\n",
    "start index instead of the beginning of the string. However, this does not affect the overall time complexity of the method\n",
    "because the method still has to compare each character in the suffix with the corresponding character in the string, \n",
    "regardless of the starting index. Therefore, the time complexity remains O(m).\n",
    "\n",
    "The start parameter does require some additional auxiliary space because the method needs to store the value of start in \n",
    "memory. However, this is a constant amount of space and does not depend on the size of the string or the suffix. Therefore, \n",
    "the auxiliary space required is O(1), which is considered constant space complexity.\n",
    "'''\n",
    "#Example 2: Using the start parameter\n",
    "string = \"Hello World\"\n",
    "print(string.endswith(\"Hello\", 5))    # Output: True\n",
    "print(string.endswith(\"Hello\", 6))    # Output: False\n"
   ]
  },
  {
   "cell_type": "code",
   "execution_count": 38,
   "id": "609b1197",
   "metadata": {},
   "outputs": [
    {
     "name": "stdout",
     "output_type": "stream",
     "text": [
      "False\n",
      "False\n"
     ]
    }
   ],
   "source": [
    "'''\n",
    "When the endswith() method is called with the suffix parameter set to \"World\" and the end parameter set to 8, it means that\n",
    "the method should only check the string till the 8th index (\"d\"). However, the string \"Hello World\" does not end with \n",
    "\"World\" at the 8th index. Instead, it ends at the 10th index (\"d\"), so the correct output should be False.\n",
    "\n",
    "Similarly, when the end parameter is set to 7, the method only checks the string till the 7th index (\"r\"). However, even \n",
    "if the method were to check the entire string, it still wouldn't end with \"World\". Therefore, the correct output should \n",
    "also be False.\n",
    "'''\n",
    "'''\n",
    "Time and auxilary:\n",
    "The time complexity of the endswith() method is O(n) where n is the length of the string being searched. When the endswith()\n",
    "method is called with the end parameter, it means that the method will only search a part of the string, rather than \n",
    "searching the entire string. This can improve the performance of the method if the string being searched is very long and \n",
    "the suffix being searched for is at the end of the string. However, in this particular example, using the end parameter \n",
    "does not improve the performance of the method because the suffix being searched for is not at the end of the string.\n",
    "\n",
    "The auxiliary space required by the endswith() method when the end parameter is used is O(1), as the method does not create \n",
    "any additional data structures to store information. The end parameter is just a variable that is stored in memory and used \n",
    "during the search.\n",
    "'''\n",
    "#Example 3: Using the end parameter\n",
    "string = \"Hello World\"\n",
    "print(string.endswith(\"World\", 0, 8))    # Output: False\n",
    "print(string.endswith(\"World\", 0, 7))    # Output: False\n"
   ]
  },
  {
   "cell_type": "code",
   "execution_count": 41,
   "id": "48d4c87c",
   "metadata": {},
   "outputs": [
    {
     "name": "stdout",
     "output_type": "stream",
     "text": [
      "True\n",
      "False\n"
     ]
    }
   ],
   "source": [
    "'''\n",
    "Here, the method checks if the string string ends with either \"World\" or \"Universe\". Since the string string ends with \n",
    "\"World\", the method returns True.\n",
    "'''\n",
    "'''\n",
    "In this case, the method checks if the string string ends with either \"Hello\" or \"Universe\". Since the string string does \n",
    "not end with either \"Hello\" or \"Universe\", the method returns False.\n",
    "\n",
    "Using a tuple of suffixes in the endswith() method can be useful when you want to check if a string ends with multiple \n",
    "possible suffixes. Instead of calling the endswith() method multiple times with different suffixes, you can pass all the \n",
    "suffixes as a tuple to the method and it will return True if the string ends with any of the suffixes in the tuple.\n",
    "\n",
    "Time and auxilary:\n",
    "In terms of time complexity, when the endswith() method is called with a tuple of suffixes, it needs to iterate through \n",
    "each suffix in the tuple and compare it with the end of the string. Therefore, the time complexity of the method becomes\n",
    "O(k*n), where k is the number of suffixes in the tuple and n is the length of the string.\n",
    "\n",
    "In terms of auxiliary space, the method needs to store the tuple of suffixes in memory. Therefore, the auxiliary space \n",
    "required by the method is O(k), where k is the number of suffixes in the tuple.\n",
    "'''\n",
    "#Example 4\n",
    "string = \"Hello World\"\n",
    "print(string.endswith((\"World\", \"Universe\")))    # Output: True\n",
    "print(string.endswith((\"Hello\", \"Universe\")))    # Output: False\n"
   ]
  },
  {
   "cell_type": "markdown",
   "id": "b4dbec76",
   "metadata": {},
   "source": [
    "## Note: If start and end index is not provided then by default it takes 0 and length -1 as starting and ending indexes where ending index is not included in our search."
   ]
  },
  {
   "cell_type": "code",
   "execution_count": 42,
   "id": "01affa85",
   "metadata": {},
   "outputs": [
    {
     "name": "stdout",
     "output_type": "stream",
     "text": [
      "True\n"
     ]
    }
   ],
   "source": [
    "#Python String endswith() Method Example\n",
    "'''\n",
    "Time complexity: O(1)\n",
    "Auxiliary space: O(1)\n",
    "'''\n",
    "string = \"geeksforgeeks\"\n",
    "print(string.endswith(\"geeks\"))"
   ]
  },
  {
   "cell_type": "code",
   "execution_count": 92,
   "id": "e408e318",
   "metadata": {},
   "outputs": [
    {
     "name": "stdout",
     "output_type": "stream",
     "text": [
      "False\n",
      "True\n",
      "True\n",
      "True\n"
     ]
    }
   ],
   "source": [
    "# Example 5: Working of endswith() method Without start and end Parameters\n",
    "'''\n",
    "Time complexity: O(n), where n is the length of the string being searched for.\n",
    "\n",
    "Auxiliary space: O(1), as the method endswith() only requires a constant amount\n",
    "of memory to store the variables text, result, and the string being searched for.\n",
    "'''\n",
    "text = \"geeks for geeks.\"\n",
    "\n",
    "# returns False\n",
    "result = text.endswith('for geeks')\n",
    "print (result)\n",
    "\n",
    "# returns True\n",
    "result = text.endswith('geeks.')\n",
    "print (result)\n",
    "\n",
    "# returns True\n",
    "result = text.endswith('for geeks.')\n",
    "print (result)\n",
    "\n",
    "# returns True\n",
    "result = text.endswith('geeks for geeks.')\n",
    "print (result)"
   ]
  },
  {
   "cell_type": "code",
   "execution_count": 93,
   "id": "8c725150",
   "metadata": {},
   "outputs": [
    {
     "name": "stdout",
     "output_type": "stream",
     "text": [
      "True\n",
      "False\n",
      "True\n"
     ]
    }
   ],
   "source": [
    "#Example 6: Working of endswith() method With start and end Parameters\n",
    "'''\n",
    "we shall add two extra parameters, the reason to add start and the end values is that sometimes you need to provide big \n",
    "suffix/text to be checked and that time start and end parameters are very important.\n",
    "'''\n",
    "'''\n",
    "Time complexity: O(1) for each call to the endsWith() function.\n",
    "Auxiliary space: O(1) as no extra space is required apart from the given string and the variables used in the code.\n",
    "'''\n",
    "# Python code shows the working of\n",
    "# .endswith() function\n",
    "\n",
    "text = \"geeks for geeks.\"\n",
    "\n",
    "# start parameter: 10\n",
    "result = text.endswith('geeks.', 10)\n",
    "print(result)\n",
    "\n",
    "'''\n",
    "Here, the endswith() method is called on the string text with the substring geeks and the start index 10 and end index \n",
    "16 - 1 = 15 as parameters. So, the method searches for the substring geeks starting from index 10 and ending at index 15 \n",
    "n the string text. Since the substring geeks is not present at the end of the portion of the string from index 10 to index \n",
    "15, the method returns False.\n",
    "'''\n",
    "# Both start and end is provided\n",
    "# start: 10, end: 16 - 1\n",
    "# Returns False\n",
    "'''\n",
    "g  e  e  k  s     f  o  r     g  e  e  k  s  .\n",
    "0  1  2  3  4  5  6  7  8  9  10 11 12 13 14 15\n",
    "\n",
    "'''\n",
    "result = text.endswith('geeks', 10, 16) #Here it doesn't matches thes substring with string \"greeks.\"\n",
    "print(result)\n",
    "\n",
    "'''\n",
    "Here, the endswith() method is called on the string text with the substring geeks and the start index 10 and end index 15 \n",
    "as parameters. So, the method searches for the substring geeks starting from index 10 and ending at index 15 in the string \n",
    "text. Since the substring geeks is present at the end of the portion of the string from index 10 to index 15, the method \n",
    "returns True.\n",
    "'''\n",
    "# returns True\n",
    "result = text.endswith('geeks', 10, 15)\n",
    "print(result)\n"
   ]
  },
  {
   "cell_type": "code",
   "execution_count": 82,
   "id": "5cfe9111",
   "metadata": {},
   "outputs": [
    {
     "name": "stdout",
     "output_type": "stream",
     "text": [
      "***Valid Geeksforgeeks Email Checker***\n",
      "\n",
      "Enter your GFG Official Mail:rgfvdgekjs\n",
      "Invalid, A Stranger detected\n"
     ]
    }
   ],
   "source": [
    "#Example 3: Real-World Example where endswith() is widely used\n",
    "'''\n",
    "Time complexity: O(1)\n",
    "Auxiliary space: O(1)\n",
    "'''\n",
    "print(\"***Valid Geeksforgeeks Email Checker***\\n\")\n",
    "user_email = input(\"Enter your GFG Official Mail:\").lower()\n",
    "if user_email.endswith(\"@geeksforgeeks.org\"):\n",
    "   print(\"Hello Geek\")\n",
    "else:\n",
    "   print(\"Invalid, A Stranger detected\")\n"
   ]
  },
  {
   "cell_type": "markdown",
   "id": "7280a3d8",
   "metadata": {},
   "source": [
    "# 6) expandtabs()"
   ]
  },
  {
   "cell_type": "code",
   "execution_count": null,
   "id": "ece67bee",
   "metadata": {},
   "outputs": [],
   "source": [
    "'''\n",
    "Time and auxilary:\n",
    "The time complexity of expandtabs() is O(n), where n is the length of the string being operated on. This is because the \n",
    "method must iterate through the entire string, replacing each tab character with a certain number of spaces.\n",
    "\n",
    "The auxiliary space complexity of expandtabs() is O(n), as it returns a new string object that is the same length as the \n",
    "original string object. This means that the method requires additional memory to store the new string object. However, \n",
    "since strings are immutable in Python, the original string object is not modified in place.\n",
    "'''"
   ]
  },
  {
   "cell_type": "code",
   "execution_count": 39,
   "id": "10ae47f4",
   "metadata": {},
   "outputs": [],
   "source": [
    "from IPython.display import YouTubeVideo"
   ]
  },
  {
   "cell_type": "code",
   "execution_count": 40,
   "id": "c666196b",
   "metadata": {},
   "outputs": [],
   "source": [
    "video = YouTubeVideo(\"sCXB3IcuENk\")"
   ]
  },
  {
   "cell_type": "code",
   "execution_count": 43,
   "id": "4e742672",
   "metadata": {},
   "outputs": [
    {
     "data": {
      "image/jpeg": "[encoded data removed]",
      "text/html": [
       "\n",
       "        <iframe\n",
       "            width=\"400\"\n",
       "            height=\"300\"\n",
       "            src=\"https://www.youtube.com/embed/sCXB3IcuENk\"\n",
       "            frameborder=\"0\"\n",
       "            allowfullscreen\n",
       "            \n",
       "        ></iframe>\n",
       "        "
      ],
      "text/plain": [
       "<IPython.lib.display.YouTubeVideo at 0x21543ee7f40>"
      ]
     },
     "metadata": {},
     "output_type": "display_data"
    }
   ],
   "source": [
    "#This video is about \"expandtabs()\".\n",
    "display(video)"
   ]
  },
  {
   "cell_type": "code",
   "execution_count": 45,
   "id": "c88d8024",
   "metadata": {},
   "outputs": [
    {
     "name": "stdout",
     "output_type": "stream",
     "text": [
      "                Center          \n"
     ]
    }
   ],
   "source": [
    "'''\n",
    "Syntax:  expandtabs(space_size)\n",
    "Parameters:\n",
    "tabsize : Specifies the space that is to be replaced with the “\\t” symbol in the string. By default the space is 8.\n",
    "Return : Returns the modified string with tabs replaced by the space.\n",
    "'''\n",
    "#Example 1: expandtabs() With no Argument\n",
    "string = \"\\t\\tCenter\\t\\t\"\n",
    "print(string.expandtabs())"
   ]
  },
  {
   "cell_type": "code",
   "execution_count": 47,
   "id": "a23f1db4",
   "metadata": {},
   "outputs": [
    {
     "name": "stdout",
     "output_type": "stream",
     "text": [
      "Modified string using default spacing: i       love    gfg\n",
      "\n",
      "Modified string using less spacing: i love  gfg\n",
      "\n",
      "Modified string using more spacing: i           love        gfg\n",
      "\n"
     ]
    }
   ],
   "source": [
    "#Example 2: expandtabs() with different argument\n",
    "# initializing string\n",
    "string = \"i\\tlove\\tgfg\"\n",
    "\n",
    "# using expandtabs to insert spacing\n",
    "print(\"Modified string using default spacing: \", end =\"\")\n",
    "print(string.expandtabs())\n",
    "print()\n",
    "\n",
    "# using expandtabs to insert spacing\n",
    "print(\"Modified string using less spacing: \", end =\"\")\n",
    "print(string.expandtabs(2))\n",
    "print()\n",
    "\n",
    "# using expandtabs to insert spacing\n",
    "print(\"Modified string using more spacing: \", end =\"\")\n",
    "print(string.expandtabs(12))\n",
    "print()\n"
   ]
  },
  {
   "cell_type": "code",
   "execution_count": 49,
   "id": "9af43c9d",
   "metadata": {},
   "outputs": [
    {
     "name": "stdout",
     "output_type": "stream",
     "text": [
      "Original String: xyz\t12345\tabc\n",
      "Tabsize 2: xyz 12345 abc\n",
      "Tabsize 3: xyz   12345 abc\n",
      "Tabsize 4: xyz 12345   abc\n",
      "Tabsize 5: xyz  12345     abc\n",
      "Tabsize 6: xyz   12345 abc\n"
     ]
    }
   ],
   "source": [
    "#Example 3: \n",
    "'''\n",
    "Explanation\n",
    "The default tabsize is 8. The tab stops are 8, 16 and so on. Hence, there is 5 spaces after 'xyz' and 3 after '12345' when \n",
    "you print the original string.\n",
    "When you set the tabsize to 2. The tab stops are 2, 4, 6, 8 and so on. For 'xyz', the tab stop is 4, and for '12345', the \n",
    "tab stop is 10. Hence, there is 1 space after 'xyz' and 1 space after '12345'.\n",
    "When you set the tabsize to 3. The tab stops are 3, 6, 9 and so on. For 'xyz', the tab stop is 6, and for '12345', the tab \n",
    "stop is 12. Hence, there are 3 spaces after 'xyz' and 1 space after '12345'.\n",
    "When you set the tabsize to 4. The tab stops are 4, 8, 12 and so on. For 'xyz', the tab stop is 4 and for '12345', the tab \n",
    "stop is 12. Hence, there is 1 space after 'xyz' and 3 spaces after '12345'.\n",
    "When you set the tabsize to 5. The tab stops are 5, 10, 15 and so on. For 'xyz', the tab stop is 5 and for '12345', the tab\n",
    "stop is 15. Hence, there are 2 spaces after 'xyz' and 5 spaces after '12345'.\n",
    "When you set the tabsize to 6. The tab stops are 6, 12, 18 and so on. For 'xyz', the tab stop is 6 and for '12345', the tab\n",
    "stop is 12. Hence, there are 3 spaces after 'xyz' and 1 space after '12345'.\n",
    "'''\n",
    "str = \"xyz\\t12345\\tabc\"\n",
    "print('Original String:', str)\n",
    "\n",
    "# tabsize is set to 2\n",
    "print('Tabsize 2:', str.expandtabs(2))\n",
    "\n",
    "# tabsize is set to 3\n",
    "print('Tabsize 3:', str.expandtabs(3))\n",
    "\n",
    "# tabsize is set to 4\n",
    "print('Tabsize 4:', str.expandtabs(4))\n",
    "\n",
    "# tabsize is set to 5\n",
    "print('Tabsize 5:', str.expandtabs(5))\n",
    "\n",
    "# tabsize is set to 6\n",
    "print('Tabsize 6:', str.expandtabs(6))"
   ]
  },
  {
   "cell_type": "markdown",
   "id": "a44d70f9",
   "metadata": {},
   "source": [
    "## NOTE: Exception :  Using expandtabs() on float or int types, raises AttributeError"
   ]
  },
  {
   "cell_type": "code",
   "execution_count": 48,
   "id": "6439a9d2",
   "metadata": {},
   "outputs": [
    {
     "ename": "TypeError",
     "evalue": "'float' object cannot be interpreted as an integer",
     "output_type": "error",
     "traceback": [
      "\u001b[1;31m---------------------------------------------------------------------------\u001b[0m",
      "\u001b[1;31mTypeError\u001b[0m                                 Traceback (most recent call last)",
      "Cell \u001b[1;32mIn[48], line 7\u001b[0m\n\u001b[0;32m      1\u001b[0m \u001b[38;5;124;03m'''\u001b[39;00m\n\u001b[0;32m      2\u001b[0m \u001b[38;5;124;03mTypeError when using expandtabs()\u001b[39;00m\n\u001b[0;32m      3\u001b[0m \u001b[38;5;124;03mIf we pass float or any other non-integer argument in “tabsize” parameter of Python String expandtabs() Method. It raises \u001b[39;00m\n\u001b[0;32m      4\u001b[0m \u001b[38;5;124;03ma TypeError.\u001b[39;00m\n\u001b[0;32m      5\u001b[0m \u001b[38;5;124;03m'''\u001b[39;00m\n\u001b[0;32m      6\u001b[0m string \u001b[38;5;241m=\u001b[39m \u001b[38;5;124m\"\u001b[39m\u001b[38;5;130;01m\\t\u001b[39;00m\u001b[38;5;124mcenter\u001b[39m\u001b[38;5;130;01m\\t\u001b[39;00m\u001b[38;5;124m\"\u001b[39m\n\u001b[1;32m----> 7\u001b[0m \u001b[38;5;28mprint\u001b[39m(\u001b[43mstring\u001b[49m\u001b[38;5;241;43m.\u001b[39;49m\u001b[43mexpandtabs\u001b[49m\u001b[43m(\u001b[49m\u001b[38;5;241;43m1.1\u001b[39;49m\u001b[43m)\u001b[49m)\n",
      "\u001b[1;31mTypeError\u001b[0m: 'float' object cannot be interpreted as an integer"
     ]
    }
   ],
   "source": [
    "'''\n",
    "TypeError when using expandtabs()\n",
    "If we pass float or any other non-integer argument in “tabsize” parameter of Python String expandtabs() Method. It raises \n",
    "a TypeError.\n",
    "'''\n",
    "string = \"\\tcenter\\t\"\n",
    "print(string.expandtabs(1.1))"
   ]
  },
  {
   "cell_type": "markdown",
   "id": "bb85314a",
   "metadata": {},
   "source": [
    "# 7) find()"
   ]
  },
  {
   "cell_type": "code",
   "execution_count": 50,
   "id": "e37c1df2",
   "metadata": {},
   "outputs": [
    {
     "data": {
      "text/plain": [
       "'\\nPython String find() method returns the lowest index or first occurrence of the substring if it is found in a given string.\\nIf it is not found, then it returns -1.\\n\\n'"
      ]
     },
     "execution_count": 50,
     "metadata": {},
     "output_type": "execute_result"
    }
   ],
   "source": [
    "'''\n",
    " find(...)\n",
    "       S.find(sub[, start[, end]]) -> int\n",
    "       \n",
    "       Return the lowest index in S where substring sub is found,\n",
    "       such that sub is contained within S[start:end].  Optional\n",
    "       arguments start and end are interpreted as in slice notation.\n",
    "       \n",
    "       Return -1 on failure.\n",
    "       \n",
    "Syntax: str_obj.find(sub, start, end)\n",
    "\n",
    "Parameters: \n",
    "sub: Substring that needs to be searched in the given string. \n",
    "start (optional): Starting position where the substring needs to be checked within the string. \n",
    "end (optional): End position is the index of the last value for the specified range. It is excluded while checking. \n",
    "Return:  Returns the lowest index of the substring if it is found in a given string. If it’s not found then it returns -1.\n",
    "   \n",
    "'''\n",
    "'''\n",
    "Python String find() method returns the lowest index or first occurrence of the substring if it is found in a given string.\n",
    "If it is not found, then it returns -1.\n",
    "\n",
    "'''\n"
   ]
  },
  {
   "cell_type": "code",
   "execution_count": 52,
   "id": "5de7d6b7",
   "metadata": {},
   "outputs": [
    {
     "name": "stdout",
     "output_type": "stream",
     "text": [
      "6\n"
     ]
    }
   ],
   "source": [
    "#Python String find() method Example\n",
    "#Time Complexity: O(n)\n",
    "#Auxiliary space: O(1)\n",
    "'''\n",
    "Note:\n",
    "\n",
    "If the start and end indexes are not provided then by default it takes 0 and length-1 as starting and ending indexes where \n",
    "ending indexes are not included in our search.The find() method is similar to index(). The only difference is find() returns\n",
    "-1 if the searched string is not found and index() throws an exception in this case.\n",
    "'''\n",
    "word = 'geeks for geeks'\n",
    "print(word.find('for'))"
   ]
  },
  {
   "cell_type": "code",
   "execution_count": 53,
   "id": "c716139b",
   "metadata": {},
   "outputs": [
    {
     "name": "stdout",
     "output_type": "stream",
     "text": [
      "Substring 'geeks' found at index: 0\n",
      "Substring 'for ' found at index: 6\n",
      "Doesn't contains given substring\n"
     ]
    }
   ],
   "source": [
    "#Example 1: find() With No start and end Argument\n",
    "# Time Complexity: O(n)\n",
    "# Auxiliary space: O(1)\n",
    "word = 'geeks for geeks'\n",
    "\n",
    "# returns first occurrence of Substring\n",
    "result = word.find('geeks')\n",
    "print(\"Substring 'geeks' found at index:\", result)\n",
    "\n",
    "result = word.find('for')\n",
    "print(\"Substring 'for ' found at index:\", result)\n",
    "\n",
    "# How to use find()\n",
    "if word.find('pawan') != -1:  #Here \"-1\" denotes string not found\n",
    "\tprint(\"Contains given substring \")\n",
    "else:\n",
    "\tprint(\"Doesn't contains given substring\")\n"
   ]
  },
  {
   "cell_type": "code",
   "execution_count": 2,
   "id": "16fb138a",
   "metadata": {},
   "outputs": [
    {
     "name": "stdout",
     "output_type": "stream",
     "text": [
      "10\n",
      "-1\n",
      "-1\n",
      "6\n"
     ]
    }
   ],
   "source": [
    "#Example 2: find() With start and end Arguments\n",
    "# In this example, we have specified start and end arguments of Python String find() method. So that the given substring is \n",
    "# searched in the mentioned portion of the original string.\n",
    "word = 'geeks for geeks'\n",
    "\n",
    "# Substring is searched in 'eks for geeks'\n",
    "print(word.find('ge', 2))\n",
    "\n",
    "# Substring is searched in 'eks for geeks'\n",
    "print(word.find('geeks ', 2))\n",
    "\n",
    "# Substring is searched in 's for g'\n",
    "print(word.find('g', 4, 10))\n",
    "\n",
    "\n",
    "# Substring is searched in 's for g'\n",
    "print(word.find('for ', 4, 11))"
   ]
  },
  {
   "cell_type": "code",
   "execution_count": null,
   "id": "51275a66",
   "metadata": {},
   "outputs": [],
   "source": []
  }
 ],
 "metadata": {
  "kernelspec": {
   "display_name": "Python 3 (ipykernel)",
   "language": "python",
   "name": "python3"
  },
  "language_info": {
   "codemirror_mode": {
    "name": "ipython",
    "version": 3
   },
   "file_extension": ".py",
   "mimetype": "text/x-python",
   "name": "python",
   "nbconvert_exporter": "python",
   "pygments_lexer": "ipython3",
   "version": "3.10.7"
  }
 },
 "nbformat": 4,
 "nbformat_minor": 5
}
