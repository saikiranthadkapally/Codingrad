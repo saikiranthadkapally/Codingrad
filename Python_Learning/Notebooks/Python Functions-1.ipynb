{
 "cells": [
  {
   "cell_type": "code",
   "execution_count": null,
   "id": "c2f93aea",
   "metadata": {},
   "outputs": [],
   "source": [
    "'''\n",
    "1. Function Definition\n",
    "    1. def <functionName>(<parameters>):\n",
    "            bvdfvbfd\n",
    "            djfbsd\n",
    "            sdjfbsd\n",
    "2. Function Body\n",
    "    1. FUnction Logic\n",
    "    \n",
    "3. Function Inputs -- Parameters/ Arguments/variables --- Optional / Requried\n",
    "    1. Positional Arguments\n",
    "    2. Keyword Arguments\n",
    "    3. Default Arguments\n",
    "    4. Positional Only Arguments\n",
    "    5. Keyword Only Arguments\n",
    "    6. Variable Arguments\n",
    "    7. Keyword Variable Arguments\n",
    "    \n",
    "4. Function Outputs\n",
    "    1. Single Output at single time\n",
    "    2. outputting at interval of times --- Generators\n",
    "    \n",
    "'''"
   ]
  },
  {
   "cell_type": "code",
   "execution_count": 6,
   "id": "cb5858ed",
   "metadata": {},
   "outputs": [],
   "source": [
    "def prime(number):\n",
    "    for i in range(2, number):\n",
    "        if number%i == 0:\n",
    "            print(\"Its composite\")\n",
    "            return\n",
    "    print(\"It's Prime\")"
   ]
  },
  {
   "cell_type": "code",
   "execution_count": 7,
   "id": "1f546468",
   "metadata": {},
   "outputs": [
    {
     "name": "stdout",
     "output_type": "stream",
     "text": [
      "Its composite\n"
     ]
    }
   ],
   "source": [
    "prime(4)"
   ]
  },
  {
   "cell_type": "code",
   "execution_count": 8,
   "id": "ddbdcfde",
   "metadata": {},
   "outputs": [
    {
     "name": "stdout",
     "output_type": "stream",
     "text": [
      "Its composite\n"
     ]
    }
   ],
   "source": [
    "prime(2888888888888)"
   ]
  },
  {
   "cell_type": "code",
   "execution_count": 9,
   "id": "35a4560b",
   "metadata": {},
   "outputs": [
    {
     "data": {
      "text/plain": [
       "5.0"
      ]
     },
     "execution_count": 9,
     "metadata": {},
     "output_type": "execute_result"
    }
   ],
   "source": [
    "import math\n",
    "math.sqrt(25)"
   ]
  },
  {
   "cell_type": "code",
   "execution_count": 10,
   "id": "4da857b9",
   "metadata": {},
   "outputs": [],
   "source": [
    "'''It is optimized code'''\n",
    "def isPrime(number):\n",
    "    if number == 2:   # Here 2 itself is a prime and even number.\n",
    "        print(\"2 is a prime number\")\n",
    "        return True\n",
    "    if number%2 == 0: #This is for even numbers to check.\n",
    "        print(\"It's composite\")\n",
    "        return False\n",
    "    for i in range(3,number**0.5,2):  #This is for odd numbers to check.Here we used square_root concept inorder to reduce the loops.\n",
    "        if number%i == 0:\n",
    "            print(\"Its composite\")\n",
    "            return False\n",
    "    print(\"It's Prime\")\n",
    "    return True"
   ]
  },
  {
   "cell_type": "code",
   "execution_count": 11,
   "id": "06ef7d6b",
   "metadata": {},
   "outputs": [
    {
     "name": "stdout",
     "output_type": "stream",
     "text": [
      "It's composite\n"
     ]
    },
    {
     "data": {
      "text/plain": [
       "False"
      ]
     },
     "execution_count": 11,
     "metadata": {},
     "output_type": "execute_result"
    }
   ],
   "source": [
    "isPrime(7843574778329573489797586754784)"
   ]
  },
  {
   "cell_type": "code",
   "execution_count": 32,
   "id": "1df35ffc",
   "metadata": {},
   "outputs": [],
   "source": [
    "##Recursion"
   ]
  },
  {
   "cell_type": "code",
   "execution_count": 3,
   "id": "a17aafa3",
   "metadata": {},
   "outputs": [],
   "source": [
    "def factorial(number):\n",
    "    if number == 1 or number == 0:\n",
    "        return 1\n",
    "    else:\n",
    "        return number*factorial(number-1)"
   ]
  },
  {
   "cell_type": "code",
   "execution_count": 4,
   "id": "0ef9dd3d",
   "metadata": {},
   "outputs": [
    {
     "data": {
      "text/plain": [
       "11532535229665107474635688916429171810843808886873680239124624106340700998423537482114208063655145415768538794655719329183070881587725524624339491128673864119889997508057513104647615773284154926997614329375157748992784073300328685882824361905445081600196074547497804216289335603119963133037532172851195926221323594361042386450004729698002187082064626481742282550760028615510453794427646135872788171107831615653970117352703915312724449481472351209656351689891195324670062752222806987401901553630415403382817907779706716130205938362752257570232575945101850196686205111095578620409948528722016575030311293933571514344916708400603733213075836158183688808648765369926097366357256331273519615469129120815641675131484946800534332484550078393593550828320999573813289698920678180865529661597068934595467296423226345969278402609458211232479661088884140190539384067692186869118777421085960187982998425326124639815781555902906075368513966532664128668444294951582930068326873822126571399302148376363896544421669653342738926033907569057600458446407606829810628786927280731607539447351260929429380734275269746104894772035787212142284710228425138486803147750746534624207805794254047416719662692926650325379464908251040821617801381758902974818337107430486847232075834080157195526932478544296644045555966070186334446362000908025657865614601027707533174227571973098971081928797224613415561822559200577802871249215359741584489297941700251633023950818094487721197649559647818070745724790007309030103644403054916051544067162466245557498353122388189088609616467478786541176028592040693294124964599937209197036311166232813686107169474280718600915757483976024485829465975557019962321548375931151367597821845795822170612267046718177485201826853160081732585657401125116687425668306114019512848673822521895853032601927640157952096957577677663701041720385234534400000000000000000000000000000000000000000000000000000000000000000000000000000000000000000000000000000000000000000000000000000000000000000000000000000000000000000000000000000000000000000000000000000000000"
      ]
     },
     "execution_count": 4,
     "metadata": {},
     "output_type": "execute_result"
    }
   ],
   "source": [
    "factorial(820) #If we give large number here it will not store in stack so kernal becomes dead here."
   ]
  },
  {
   "cell_type": "code",
   "execution_count": 6,
   "id": "1102e041",
   "metadata": {},
   "outputs": [
    {
     "ename": "SyntaxError",
     "evalue": "incomplete input (1286204360.py, line 1)",
     "output_type": "error",
     "traceback": [
      "\u001b[1;36m  Cell \u001b[1;32mIn[6], line 1\u001b[1;36m\u001b[0m\n\u001b[1;33m    def A(a,b,c,d): #Here we just opened the block and left so we get error to avoid this we write \"pass\" inside method.\u001b[0m\n\u001b[1;37m                                                                                                                        ^\u001b[0m\n\u001b[1;31mSyntaxError\u001b[0m\u001b[1;31m:\u001b[0m incomplete input\n"
     ]
    }
   ],
   "source": [
    "def A(a,b,c,d): #Here we just opened the block and left so we get error to avoid this we write \"pass\" inside method."
   ]
  },
  {
   "cell_type": "code",
   "execution_count": 14,
   "id": "deb319ef",
   "metadata": {},
   "outputs": [],
   "source": [
    "def A(a,b,c,d):\n",
    "    pass"
   ]
  },
  {
   "cell_type": "code",
   "execution_count": 21,
   "id": "4bbcbd19",
   "metadata": {},
   "outputs": [],
   "source": [
    "def A(a,b,c,d):\n",
    "    print(f\"A:{a},B:{b},C:{c},D:{d}\")"
   ]
  },
  {
   "cell_type": "code",
   "execution_count": null,
   "id": "ca821039",
   "metadata": {},
   "outputs": [],
   "source": [
    "# --- positional arguments & keyword arguments"
   ]
  },
  {
   "cell_type": "code",
   "execution_count": 22,
   "id": "524f1e3e",
   "metadata": {},
   "outputs": [
    {
     "name": "stdout",
     "output_type": "stream",
     "text": [
      "A:1,B:2,C:3,D:4\n"
     ]
    }
   ],
   "source": [
    "A(1,2,3,4) ##Positional argumenting"
   ]
  },
  {
   "cell_type": "code",
   "execution_count": 24,
   "id": "dff7fe29",
   "metadata": {},
   "outputs": [
    {
     "name": "stdout",
     "output_type": "stream",
     "text": [
      "A:10,B:8,C:2,D:1\n"
     ]
    }
   ],
   "source": [
    "A(d=1,c=2,b=8,a=10) ## keyword Argumenting"
   ]
  },
  {
   "cell_type": "code",
   "execution_count": null,
   "id": "bf2ff3f4",
   "metadata": {},
   "outputs": [],
   "source": [
    "# Defaulr arguments can be given at function definition only"
   ]
  },
  {
   "cell_type": "code",
   "execution_count": 27,
   "id": "ddc4ff4a",
   "metadata": {},
   "outputs": [],
   "source": [
    "def B(a,b,c=15):\n",
    "    print(f\"A:{a},B:{b},C:{c}\")"
   ]
  },
  {
   "cell_type": "code",
   "execution_count": 29,
   "id": "08f9a8b9",
   "metadata": {},
   "outputs": [
    {
     "name": "stdout",
     "output_type": "stream",
     "text": [
      "A:1,B:3,C:4\n"
     ]
    }
   ],
   "source": [
    "B(1,3,4)"
   ]
  },
  {
   "cell_type": "code",
   "execution_count": 31,
   "id": "1cbc9299",
   "metadata": {},
   "outputs": [
    {
     "name": "stdout",
     "output_type": "stream",
     "text": [
      "A:45,B:90,C:15\n"
     ]
    }
   ],
   "source": [
    "B(45,90)"
   ]
  },
  {
   "cell_type": "code",
   "execution_count": 32,
   "id": "ae3cba31",
   "metadata": {},
   "outputs": [],
   "source": [
    "# positional only arguments & keyword only arguments can be given at function definition only.\n",
    "# / and *\n",
    "# positional only arguments ----\n",
    "# keyword only arguments ----"
   ]
  },
  {
   "cell_type": "code",
   "execution_count": 35,
   "id": "2f6015e3",
   "metadata": {},
   "outputs": [],
   "source": [
    "def D(a,b,/):\n",
    "    pass"
   ]
  },
  {
   "cell_type": "code",
   "execution_count": 40,
   "id": "52027456",
   "metadata": {},
   "outputs": [],
   "source": [
    "D(1,7)"
   ]
  },
  {
   "cell_type": "code",
   "execution_count": 41,
   "id": "2558f314",
   "metadata": {},
   "outputs": [
    {
     "ename": "TypeError",
     "evalue": "D() got some positional-only arguments passed as keyword arguments: 'a, b'",
     "output_type": "error",
     "traceback": [
      "\u001b[1;31m---------------------------------------------------------------------------\u001b[0m",
      "\u001b[1;31mTypeError\u001b[0m                                 Traceback (most recent call last)",
      "Cell \u001b[1;32mIn[41], line 1\u001b[0m\n\u001b[1;32m----> 1\u001b[0m \u001b[43mD\u001b[49m\u001b[43m(\u001b[49m\u001b[43ma\u001b[49m\u001b[38;5;241;43m=\u001b[39;49m\u001b[38;5;241;43m4\u001b[39;49m\u001b[43m,\u001b[49m\u001b[43mb\u001b[49m\u001b[38;5;241;43m=\u001b[39;49m\u001b[38;5;241;43m10\u001b[39;49m\u001b[43m)\u001b[49m \u001b[38;5;66;03m#In this position only arguments we not at all allowed to pass keyword arguments.so we got error here\u001b[39;00m\n",
      "\u001b[1;31mTypeError\u001b[0m: D() got some positional-only arguments passed as keyword arguments: 'a, b'"
     ]
    }
   ],
   "source": [
    "D(a=4,b=10) #In this we need to pass position only arguments we not at all allowed to pass keyword arguments.so we got error here"
   ]
  },
  {
   "cell_type": "code",
   "execution_count": 42,
   "id": "ec816508",
   "metadata": {},
   "outputs": [],
   "source": [
    "def F(*,a,b): #It is keyword only arguments.\n",
    "    pass"
   ]
  },
  {
   "cell_type": "code",
   "execution_count": 44,
   "id": "7bce27a8",
   "metadata": {},
   "outputs": [
    {
     "ename": "TypeError",
     "evalue": "F() takes 0 positional arguments but 2 were given",
     "output_type": "error",
     "traceback": [
      "\u001b[1;31m---------------------------------------------------------------------------\u001b[0m",
      "\u001b[1;31mTypeError\u001b[0m                                 Traceback (most recent call last)",
      "Cell \u001b[1;32mIn[44], line 1\u001b[0m\n\u001b[1;32m----> 1\u001b[0m \u001b[43mF\u001b[49m\u001b[43m(\u001b[49m\u001b[38;5;241;43m1\u001b[39;49m\u001b[43m,\u001b[49m\u001b[38;5;241;43m2\u001b[39;49m\u001b[43m)\u001b[49m\n",
      "\u001b[1;31mTypeError\u001b[0m: F() takes 0 positional arguments but 2 were given"
     ]
    }
   ],
   "source": [
    "F(1,2)"
   ]
  },
  {
   "cell_type": "code",
   "execution_count": 46,
   "id": "3579fe11",
   "metadata": {},
   "outputs": [],
   "source": [
    "F(a=8,b=8)"
   ]
  },
  {
   "cell_type": "code",
   "execution_count": 49,
   "id": "4e282fbf",
   "metadata": {},
   "outputs": [],
   "source": [
    "def G(a,b,/,c,d):\n",
    "    pass"
   ]
  },
  {
   "cell_type": "code",
   "execution_count": 52,
   "id": "413e2940",
   "metadata": {},
   "outputs": [],
   "source": [
    "G(1,2,3,4)"
   ]
  },
  {
   "cell_type": "code",
   "execution_count": 54,
   "id": "e94ff747",
   "metadata": {},
   "outputs": [
    {
     "ename": "TypeError",
     "evalue": "G() got some positional-only arguments passed as keyword arguments: 'b'",
     "output_type": "error",
     "traceback": [
      "\u001b[1;31m---------------------------------------------------------------------------\u001b[0m",
      "\u001b[1;31mTypeError\u001b[0m                                 Traceback (most recent call last)",
      "Cell \u001b[1;32mIn[54], line 1\u001b[0m\n\u001b[1;32m----> 1\u001b[0m \u001b[43mG\u001b[49m\u001b[43m(\u001b[49m\u001b[38;5;241;43m2\u001b[39;49m\u001b[43m,\u001b[49m\u001b[43mb\u001b[49m\u001b[38;5;241;43m=\u001b[39;49m\u001b[38;5;241;43m3\u001b[39;49m\u001b[43m,\u001b[49m\u001b[43mc\u001b[49m\u001b[38;5;241;43m=\u001b[39;49m\u001b[38;5;241;43m14\u001b[39;49m\u001b[43m,\u001b[49m\u001b[43md\u001b[49m\u001b[38;5;241;43m=\u001b[39;49m\u001b[38;5;241;43m98\u001b[39;49m\u001b[43m)\u001b[49m \u001b[38;5;66;03m#Here a & b are positional only arguments but we passed b as a keyword argument.\u001b[39;00m\n",
      "\u001b[1;31mTypeError\u001b[0m: G() got some positional-only arguments passed as keyword arguments: 'b'"
     ]
    }
   ],
   "source": [
    "G(2,b=3,c=14,d=98) #Here a & b are positional only arguments but we passed b as a keyword argument."
   ]
  },
  {
   "cell_type": "code",
   "execution_count": 57,
   "id": "7cef1ad8",
   "metadata": {},
   "outputs": [],
   "source": [
    "G(2,5,c=12,d=908) # Here we won't get any error and we can pass c & d values either with keyword arguments or positional arguments."
   ]
  },
  {
   "cell_type": "code",
   "execution_count": 60,
   "id": "0967e15c",
   "metadata": {},
   "outputs": [],
   "source": [
    "def H(a,b,/,*,c,d): # Here we have given combination of both keyword and positional arguments.\n",
    "    pass"
   ]
  },
  {
   "cell_type": "code",
   "execution_count": 63,
   "id": "e94fb721",
   "metadata": {},
   "outputs": [
    {
     "ename": "TypeError",
     "evalue": "H() takes 2 positional arguments but 4 were given",
     "output_type": "error",
     "traceback": [
      "\u001b[1;31m---------------------------------------------------------------------------\u001b[0m",
      "\u001b[1;31mTypeError\u001b[0m                                 Traceback (most recent call last)",
      "Cell \u001b[1;32mIn[63], line 1\u001b[0m\n\u001b[1;32m----> 1\u001b[0m \u001b[43mH\u001b[49m\u001b[43m(\u001b[49m\u001b[38;5;241;43m1\u001b[39;49m\u001b[43m,\u001b[49m\u001b[38;5;241;43m2\u001b[39;49m\u001b[43m,\u001b[49m\u001b[38;5;241;43m3\u001b[39;49m\u001b[43m,\u001b[49m\u001b[38;5;241;43m4\u001b[39;49m\u001b[43m)\u001b[49m \u001b[38;5;66;03m#Here we given positional only arguments but not given keyword only arguments.\u001b[39;00m\n",
      "\u001b[1;31mTypeError\u001b[0m: H() takes 2 positional arguments but 4 were given"
     ]
    }
   ],
   "source": [
    "H(1,2,3,4) #Here we given positional only arguments but not given keyword only arguments."
   ]
  },
  {
   "cell_type": "code",
   "execution_count": 66,
   "id": "49ef9470",
   "metadata": {},
   "outputs": [
    {
     "ename": "TypeError",
     "evalue": "H() missing 2 required keyword-only arguments: 'c' and 'd'",
     "output_type": "error",
     "traceback": [
      "\u001b[1;31m---------------------------------------------------------------------------\u001b[0m",
      "\u001b[1;31mTypeError\u001b[0m                                 Traceback (most recent call last)",
      "Cell \u001b[1;32mIn[66], line 1\u001b[0m\n\u001b[1;32m----> 1\u001b[0m \u001b[43mH\u001b[49m\u001b[43m(\u001b[49m\u001b[38;5;241;43m1\u001b[39;49m\u001b[43m,\u001b[49m\u001b[38;5;241;43m2\u001b[39;49m\u001b[43m)\u001b[49m\n",
      "\u001b[1;31mTypeError\u001b[0m: H() missing 2 required keyword-only arguments: 'c' and 'd'"
     ]
    }
   ],
   "source": [
    "H(1,2) # Here we given only positional arguments so its throwing error.but H is a combination of both position only and keword only."
   ]
  },
  {
   "cell_type": "code",
   "execution_count": 72,
   "id": "d045cb1c",
   "metadata": {},
   "outputs": [],
   "source": [
    "H(1,4,c=76,d=78)"
   ]
  },
  {
   "cell_type": "code",
   "execution_count": 74,
   "id": "0f1a3911",
   "metadata": {},
   "outputs": [
    {
     "ename": "SyntaxError",
     "evalue": "non-default argument follows default argument (177061684.py, line 1)",
     "output_type": "error",
     "traceback": [
      "\u001b[1;36m  Cell \u001b[1;32mIn[74], line 1\u001b[1;36m\u001b[0m\n\u001b[1;33m    def test(a=19,b,c) #Here the order is mismatch the default arguments arealways at last position.\u001b[0m\n\u001b[1;37m                  ^\u001b[0m\n\u001b[1;31mSyntaxError\u001b[0m\u001b[1;31m:\u001b[0m non-default argument follows default argument\n"
     ]
    }
   ],
   "source": [
    "def test(a=19,b,c) \n",
    "### a is an optional argument(default arguments are only arguments which are optional arguments) and b,c are required arguments.\n",
    "#Here the order is mismatch the default arguments are at last position only.bcs it doesn't to be override other arguments."
   ]
  },
  {
   "cell_type": "code",
   "execution_count": 76,
   "id": "c64f97c3",
   "metadata": {},
   "outputs": [],
   "source": [
    "def test1(a,b,c=34): #This test-case is pass.bcs c is default argument at last.\n",
    "    pass"
   ]
  },
  {
   "cell_type": "code",
   "execution_count": 79,
   "id": "2f0db5e6",
   "metadata": {},
   "outputs": [],
   "source": [
    "def test2(a,b,/,c,d,*,e,f): #Here a&b are position only arguments and c&d are normal arguments(we can pass either positional or keyword)\n",
    "    pass                    #e&f are keyword only arguments."
   ]
  },
  {
   "cell_type": "code",
   "execution_count": 87,
   "id": "4a28af89",
   "metadata": {},
   "outputs": [],
   "source": [
    "#Default arguments are cannot be before the positional arguments/position only arguments.\n",
    "#Here c is before keyword/keyword only arguments so we didn't got any error even if it c is in middle as as default argument.\n",
    "def test2(a,b,/,c=15,*,e,f):\n",
    "    pass"
   ]
  },
  {
   "cell_type": "code",
   "execution_count": 88,
   "id": "48d73d6f",
   "metadata": {},
   "outputs": [],
   "source": [
    "test2(1,4,e=89,f=82)"
   ]
  },
  {
   "cell_type": "code",
   "execution_count": 95,
   "id": "c2fee3ab",
   "metadata": {},
   "outputs": [],
   "source": [
    "def test3(a,b,/,*,n,c=90): #keyword only arguments can be interchangable with default arguments.\n",
    "    pass"
   ]
  },
  {
   "cell_type": "code",
   "execution_count": 97,
   "id": "a2f6e55e",
   "metadata": {},
   "outputs": [],
   "source": [
    "test3(1,2,n=34)"
   ]
  },
  {
   "cell_type": "code",
   "execution_count": 89,
   "id": "f19a82fa",
   "metadata": {},
   "outputs": [],
   "source": [
    "def J(a,b,c): # Required arguments \n",
    "    pass"
   ]
  },
  {
   "cell_type": "code",
   "execution_count": 90,
   "id": "bf1a8162",
   "metadata": {},
   "outputs": [
    {
     "ename": "TypeError",
     "evalue": "J() missing 1 required positional argument: 'c'",
     "output_type": "error",
     "traceback": [
      "\u001b[1;31m---------------------------------------------------------------------------\u001b[0m",
      "\u001b[1;31mTypeError\u001b[0m                                 Traceback (most recent call last)",
      "Cell \u001b[1;32mIn[90], line 1\u001b[0m\n\u001b[1;32m----> 1\u001b[0m \u001b[43mJ\u001b[49m\u001b[43m(\u001b[49m\u001b[38;5;241;43m2\u001b[39;49m\u001b[43m,\u001b[49m\u001b[38;5;241;43m4\u001b[39;49m\u001b[43m)\u001b[49m\n",
      "\u001b[1;31mTypeError\u001b[0m: J() missing 1 required positional argument: 'c'"
     ]
    }
   ],
   "source": [
    "J(2,4) #In required arguments we must pass all arguments without missing a value."
   ]
  },
  {
   "cell_type": "code",
   "execution_count": 92,
   "id": "a51e8da7",
   "metadata": {},
   "outputs": [
    {
     "ename": "TypeError",
     "evalue": "J() missing 1 required positional argument: 'c'",
     "output_type": "error",
     "traceback": [
      "\u001b[1;31m---------------------------------------------------------------------------\u001b[0m",
      "\u001b[1;31mTypeError\u001b[0m                                 Traceback (most recent call last)",
      "Cell \u001b[1;32mIn[92], line 1\u001b[0m\n\u001b[1;32m----> 1\u001b[0m \u001b[43mJ\u001b[49m\u001b[43m(\u001b[49m\u001b[43ma\u001b[49m\u001b[38;5;241;43m=\u001b[39;49m\u001b[38;5;241;43m1\u001b[39;49m\u001b[43m,\u001b[49m\u001b[43mb\u001b[49m\u001b[38;5;241;43m=\u001b[39;49m\u001b[38;5;241;43m2\u001b[39;49m\u001b[43m)\u001b[49m \u001b[38;5;66;03m#keyword arguments are also \"Required arguments\"\u001b[39;00m\n",
      "\u001b[1;31mTypeError\u001b[0m: J() missing 1 required positional argument: 'c'"
     ]
    }
   ],
   "source": [
    "J(a=1,b=2) #keyword arguments are also \"Required arguments\""
   ]
  },
  {
   "cell_type": "code",
   "execution_count": 116,
   "id": "3c9f1ff4",
   "metadata": {},
   "outputs": [],
   "source": [
    "def K(*,q,o): # Here we are function output is not giving anything so its output treating as nothing.\n",
    "    pass"
   ]
  },
  {
   "cell_type": "code",
   "execution_count": 107,
   "id": "e24763fc",
   "metadata": {},
   "outputs": [],
   "source": [
    "K(q=2,o=7)"
   ]
  },
  {
   "cell_type": "code",
   "execution_count": 39,
   "id": "49a0d18f",
   "metadata": {},
   "outputs": [
    {
     "ename": "NameError",
     "evalue": "name 'K' is not defined",
     "output_type": "error",
     "traceback": [
      "\u001b[1;31m---------------------------------------------------------------------------\u001b[0m",
      "\u001b[1;31mNameError\u001b[0m                                 Traceback (most recent call last)",
      "Cell \u001b[1;32mIn[39], line 1\u001b[0m\n\u001b[1;32m----> 1\u001b[0m \u001b[38;5;28mprint\u001b[39m(\u001b[43mK\u001b[49m(q\u001b[38;5;241m=\u001b[39m\u001b[38;5;241m2\u001b[39m,o\u001b[38;5;241m=\u001b[39m\u001b[38;5;241m98\u001b[39m)) \u001b[38;5;66;03m#Here we are getting None bcs print returning the function value.Here Function returning none.\u001b[39;00m\n\u001b[0;32m      2\u001b[0m  \u001b[38;5;66;03m#Here None is coming from function output not from the variables.\u001b[39;00m\n",
      "\u001b[1;31mNameError\u001b[0m: name 'K' is not defined"
     ]
    }
   ],
   "source": [
    " print(K(q=2,o=98)) #Here we are getting None bcs print returning the function value.Here Function returning none.\n",
    "  #Here None is coming from function output not from the variables."
   ]
  },
  {
   "cell_type": "markdown",
   "id": "cb663dfe",
   "metadata": {},
   "source": [
    "# Variable Arguments and key-value/args/keyword arguments.\n",
    "## Note: Keyword Variable arguments and args their should be at the end(position) These are optional arguments like  default arguments.Always remember required arguments(positional and keyword arguments) are kept before optional.so,optional arguments(default and key-value arguments(kargs) and variable arguments(args)) are at last position only."
   ]
  },
  {
   "cell_type": "markdown",
   "id": "5b7b4bcc",
   "metadata": {},
   "source": [
    "## Default Arguments have one exception that is it will be used before keyword only arguments (In-middle of the arguments).Whereas args & kargs are completely optional arguments there is no default values.these are used at only last."
   ]
  },
  {
   "cell_type": "code",
   "execution_count": 40,
   "id": "469d471c",
   "metadata": {},
   "outputs": [],
   "source": [
    "#Variable arguments"
   ]
  },
  {
   "cell_type": "code",
   "execution_count": 41,
   "id": "da656348",
   "metadata": {},
   "outputs": [],
   "source": [
    "def addNumbers(*args): #In this type of argument we can give any number of arguments.We have this functionality in our python.\n",
    "    print(args)"
   ]
  },
  {
   "cell_type": "code",
   "execution_count": 42,
   "id": "0d91f31a",
   "metadata": {},
   "outputs": [
    {
     "name": "stdout",
     "output_type": "stream",
     "text": [
      "(2, 3, 4, 5, 5, 4, 5, 4, 5, 6)\n"
     ]
    }
   ],
   "source": [
    "addNumbers(2,3,4,5,5,4,5,4,5,6)"
   ]
  },
  {
   "cell_type": "code",
   "execution_count": 56,
   "id": "f9dd6ef3",
   "metadata": {},
   "outputs": [],
   "source": [
    "def addNumbers(*args): \n",
    "     print(args)"
   ]
  },
  {
   "cell_type": "code",
   "execution_count": 58,
   "id": "ea569dad",
   "metadata": {},
   "outputs": [
    {
     "name": "stdout",
     "output_type": "stream",
     "text": [
      "('Sai', 'Kiran')\n"
     ]
    }
   ],
   "source": [
    "addNumbers(\"Sai\",\"Kiran\")"
   ]
  },
  {
   "cell_type": "code",
   "execution_count": 62,
   "id": "78ef47dc",
   "metadata": {},
   "outputs": [],
   "source": [
    "def addNumbers(*args): \n",
    "     print(args)"
   ]
  },
  {
   "cell_type": "code",
   "execution_count": 63,
   "id": "c50cae55",
   "metadata": {},
   "outputs": [
    {
     "name": "stdout",
     "output_type": "stream",
     "text": [
      "()\n"
     ]
    }
   ],
   "source": [
    "addNumbers() #Even if we give 0 arguments it works fine without any error."
   ]
  },
  {
   "cell_type": "code",
   "execution_count": 60,
   "id": "2add02ad",
   "metadata": {},
   "outputs": [
    {
     "name": "stdout",
     "output_type": "stream",
     "text": [
      "('Sai', 'Kiran', 12, 13, 45)\n"
     ]
    }
   ],
   "source": [
    "addNumbers(\"Sai\",\"Kiran\",12,13,45)"
   ]
  },
  {
   "cell_type": "code",
   "execution_count": 61,
   "id": "732611b6",
   "metadata": {},
   "outputs": [],
   "source": [
    "#Keywoed value/keyword variable arguments(kargs)"
   ]
  },
  {
   "cell_type": "code",
   "execution_count": 64,
   "id": "910abf1d",
   "metadata": {},
   "outputs": [],
   "source": [
    "def test(**kargs): #It takes key-value pair arguments.\n",
    "    print(kargs)"
   ]
  },
  {
   "cell_type": "code",
   "execution_count": 65,
   "id": "df88735c",
   "metadata": {},
   "outputs": [
    {
     "name": "stdout",
     "output_type": "stream",
     "text": [
      "{'name': 'Saikiran', 'prof': 'Software'}\n"
     ]
    }
   ],
   "source": [
    "test(name=\"Saikiran\",prof=\"Software\")"
   ]
  },
  {
   "cell_type": "markdown",
   "id": "020938f9",
   "metadata": {},
   "source": [
    "# Python some  Built-in functions:-\n",
    "# -----------------------------------------------------"
   ]
  },
  {
   "cell_type": "markdown",
   "id": "57ef8c09",
   "metadata": {},
   "source": [
    "## NOTE:- Lambda,accumulate,Map,Filter, reduce All these functions are by default sequential and it doesn't provide automatic parallelization or workload splitting.If it need to be parallel it  Depends on hardware of system or computer.\n",
    "## NOTE:- However, this requires additional programming logic to coordinate the parallel execution of the function calls, and the efficiency of the parallel implementation will depend on the nature of the function being applied and the characteristics of the input iterable.\n",
    "\n",
    "# Overall these above functions are by default sequential processing.Based on hardware of system or computer It depends as parallel or sequential.\n",
    "## NOTE:-\n",
    "# ---------\n",
    "## Don't confuse with parallel processes and parallel execution.In python most of the things are graphical execution Which made it more faster. Parallel processing is different no programming language inherently support it.Parallel execution of a single process means Parallel process is same process will be executed as multiple processes called threads.Parallel processing is usefull for large loads for small loads it gives higher overhead so performance will be degraded.Hence parallel execution of the same process will be used as graph based execution using cpu registers."
   ]
  },
  {
   "cell_type": "markdown",
   "id": "ae114a54",
   "metadata": {},
   "source": [
    "# NOTE: filter(), reduce(), map(), ternary operator, lambda and accumulate() are built-in Python functions that are commonly used for working with sequences of data such as lists, tuples, and sets.\n",
    "\n",
    "''' \n",
    "Map, filter, reduce, ternary, lambda, and accumulate are all functional programming concepts that allow for more concise\n",
    "and readable code.\n",
    "Map is used to transform the elements of an iterable (list, tuple, etc.) into a new iterable of the same length.\n",
    "This allows for a more succinct and expressive way to manipulate data.\n",
    "Filter is used to select certain elements from an iterable based on a certain condition. \n",
    "This allows for a more readable and efficient way to extract data from an iterable.\n",
    "Reduce is used to apply a function to all the elements of an iterable, cumulatively. \n",
    "This allows for a more expressive way to perform complex operations on data.\n",
    "Ternary operators are used to evaluate a condition and return one value if the condition is true, \n",
    "and another value if the condition is false. This allows for more concise and readable code, \n",
    "especially when dealing with conditions.\n",
    "Lambda functions are used to create small, anonymous functions that can be used for one-time operations.\n",
    "This allows for a more expressive and efficient way to perform simple operations.\n",
    "Accumulate is used to apply a function to all the elements of an iterable and returns the intermediate results. \n",
    "This allows for a more expressive and efficient way to perform complex operations on data.\n",
    "Overall, these functional programming concepts allow for more expressive and efficient code, \n",
    "making it easier to manipulate data and perform complex operations.\n",
    "\n",
    "'''"
   ]
  },
  {
   "cell_type": "markdown",
   "id": "519dd2e7",
   "metadata": {},
   "source": [
    "# can we use tuple in above functions will it works?\n",
    "## NOTE: We can use tuples with the functions filter(), map(), reduce(), lambda, and other similar functions in Python. Tuples are an iterable data type in Python, which means that they can be used in a similar way to lists and other sequence types.\n",
    "## Here's an example of using the filter() function with a tuple:\n"
   ]
  },
  {
   "cell_type": "code",
   "execution_count": 100,
   "id": "50ac7a98",
   "metadata": {},
   "outputs": [],
   "source": [
    "# Define a tuple of numbers\n",
    "numbers = (1, 2, 3, 4, 5)\n",
    "\n",
    "# Use filter with a lambda function to filter out even numbers\n",
    "even_numbers = tuple(filter(lambda x: x % 2 == 0, numbers))"
   ]
  },
  {
   "cell_type": "code",
   "execution_count": 101,
   "id": "0fe93376",
   "metadata": {},
   "outputs": [
    {
     "name": "stdout",
     "output_type": "stream",
     "text": [
      "(2, 4)\n"
     ]
    }
   ],
   "source": [
    "# Print the even numbers\n",
    "print(even_numbers)"
   ]
  },
  {
   "cell_type": "markdown",
   "id": "4a1038ef",
   "metadata": {},
   "source": [
    "## NOTE:In this above code, we define a tuple of numbers and then use the filter() function with a lambda function to create a new tuple that contains only the even numbers. The lambda function checks whether each number in the original tuple is even, and the filter() function returns only those numbers for which the lambda function returns True. Finally, we convert the filtered result to a tuple and print it.\n",
    "# NOTE: Similarly, you can use tuples with the map() and reduce() functions, and with loops and conditional statements that involve lambda functions. However, keep in mind that tuples are immutable, which means that you cannot modify their contents. If you need to modify the elements of a sequence, you should use a list instead of a tuple.\n"
   ]
  },
  {
   "cell_type": "markdown",
   "id": "d938ff31",
   "metadata": {},
   "source": [
    "## NOTE:Yes, you can use lambda, accumulate, ternary, filter, map functions in combination with looping and conditional statements in Python. These functions are often used for functional programming in Python and can help simplify your code and make it more readable."
   ]
  },
  {
   "cell_type": "markdown",
   "id": "a6142589",
   "metadata": {},
   "source": [
    "# 1)Lambda Function:-\n",
    "# ----------------------------------"
   ]
  },
  {
   "cell_type": "code",
   "execution_count": 120,
   "id": "a5105799",
   "metadata": {},
   "outputs": [
    {
     "data": {
      "text/plain": [
       "'\\n1.Lambda\\n2.Map\\n3.Filter\\n'"
      ]
     },
     "execution_count": 120,
     "metadata": {},
     "output_type": "execute_result"
    }
   ],
   "source": [
    "'''\n",
    "\n",
    "1.Lambda\n",
    "2.accumulate\n",
    "3.Map\n",
    "4.Filter\n",
    "5.reduce\n",
    "6.ternary operator -- It is not a function it is an operator.\n",
    "A ternary operator is a shorthand syntax for an if-else statement in Python,which allows you to write a compact expression that evaluates to one of two values depending on a condition. \n",
    "\n",
    "\n",
    "'''"
   ]
  },
  {
   "cell_type": "code",
   "execution_count": 123,
   "id": "70f90704",
   "metadata": {},
   "outputs": [],
   "source": [
    "def add(a,b,c,d):\n",
    "    return a+b+c+d"
   ]
  },
  {
   "cell_type": "markdown",
   "id": "05306211",
   "metadata": {},
   "source": [
    "## NOTE: Lambda can used in the case where we take multiple inputs and apply an expression to it if this is the case then only lambda uses.it means it can only be one line expression(only it has RHS) not statement(LHS=RHS) like we can do expressions as: lambda x:2*x or lambda x,y:x*y or lambda x,y:x/y etc... we can perform any operations(+,-,*,/,%,sqrt....) in only single expression. It need not to be a mathematical operation in more than one-line."
   ]
  },
  {
   "cell_type": "code",
   "execution_count": 124,
   "id": "5f024299",
   "metadata": {},
   "outputs": [
    {
     "data": {
      "text/plain": [
       "'\\nLambda:\\nMultiple Inputs & Single Output\\nAnonymous function\\n'"
      ]
     },
     "execution_count": 124,
     "metadata": {},
     "output_type": "execute_result"
    }
   ],
   "source": [
    "'''\n",
    "Lambda:\n",
    "Lambda is an in-built python package.\n",
    "Multiple Inputs & Single Output\n",
    "Anonymous function -- It doesn't have any name for lambda.\n",
    "Lambda useful in Little Performance Improvements\n",
    "'''"
   ]
  },
  {
   "cell_type": "code",
   "execution_count": 127,
   "id": "be7ab553",
   "metadata": {},
   "outputs": [],
   "source": [
    "addLambda = lambda a,b,c,d:a+b+c+d"
   ]
  },
  {
   "cell_type": "code",
   "execution_count": 129,
   "id": "968e7990",
   "metadata": {},
   "outputs": [
    {
     "data": {
      "text/plain": [
       "<function __main__.<lambda>(a, b, c, d)>"
      ]
     },
     "execution_count": 129,
     "metadata": {},
     "output_type": "execute_result"
    }
   ],
   "source": [
    "addLambda"
   ]
  },
  {
   "cell_type": "code",
   "execution_count": 131,
   "id": "e8b5546d",
   "metadata": {},
   "outputs": [
    {
     "data": {
      "text/plain": [
       "10"
      ]
     },
     "execution_count": 131,
     "metadata": {},
     "output_type": "execute_result"
    }
   ],
   "source": [
    "#calling lambda function \n",
    "addLambda(1,2,3,4) #Lambda requires all parameters to execute it doesn't take default arguments."
   ]
  },
  {
   "cell_type": "code",
   "execution_count": 133,
   "id": "ef556c3a",
   "metadata": {},
   "outputs": [
    {
     "data": {
      "text/plain": [
       "21"
      ]
     },
     "execution_count": 133,
     "metadata": {},
     "output_type": "execute_result"
    }
   ],
   "source": [
    "addLambda(8,9,1,3)  "
   ]
  },
  {
   "cell_type": "code",
   "execution_count": 135,
   "id": "c24fdd26",
   "metadata": {},
   "outputs": [
    {
     "ename": "TypeError",
     "evalue": "<lambda>() missing 2 required positional arguments: 'c' and 'd'",
     "output_type": "error",
     "traceback": [
      "\u001b[1;31m---------------------------------------------------------------------------\u001b[0m",
      "\u001b[1;31mTypeError\u001b[0m                                 Traceback (most recent call last)",
      "Cell \u001b[1;32mIn[135], line 1\u001b[0m\n\u001b[1;32m----> 1\u001b[0m \u001b[43maddLambda\u001b[49m\u001b[43m(\u001b[49m\u001b[38;5;241;43m3\u001b[39;49m\u001b[43m,\u001b[49m\u001b[38;5;241;43m4\u001b[39;49m\u001b[43m)\u001b[49m \u001b[38;5;66;03m#Inorder to solve requirement argument error we use accumulate function.\u001b[39;00m\n",
      "\u001b[1;31mTypeError\u001b[0m: <lambda>() missing 2 required positional arguments: 'c' and 'd'"
     ]
    }
   ],
   "source": [
    "addLambda(3,4) #Inorder to solve requirement argument error we use accumulate function."
   ]
  },
  {
   "cell_type": "markdown",
   "id": "fc54174d",
   "metadata": {},
   "source": [
    "# =>Lambda function with combination of looping and conditional statements."
   ]
  },
  {
   "cell_type": "markdown",
   "id": "5a165dc8",
   "metadata": {},
   "source": [
    "## Lambda function in combination of looping and conditional statements.\n"
   ]
  },
  {
   "cell_type": "code",
   "execution_count": 70,
   "id": "29ac6e79",
   "metadata": {},
   "outputs": [],
   "source": [
    "numbers = [1, 2, 3, 4, 5] #Normal method\n",
    "even_numbers = []\n",
    "for num in numbers:\n",
    "    if num % 2 == 0:\n",
    "        even_numbers.append(num)"
   ]
  },
  {
   "cell_type": "code",
   "execution_count": 71,
   "id": "ab077381",
   "metadata": {},
   "outputs": [
    {
     "name": "stdout",
     "output_type": "stream",
     "text": [
      "[2, 4]\n"
     ]
    }
   ],
   "source": [
    "print(even_numbers)"
   ]
  },
  {
   "cell_type": "markdown",
   "id": "96a137b9",
   "metadata": {},
   "source": [
    "## using combination of lambda and filter"
   ]
  },
  {
   "cell_type": "code",
   "execution_count": 72,
   "id": "8a6ef79a",
   "metadata": {},
   "outputs": [],
   "source": [
    "#Lambda function with a conditional statement inside a loop:\n",
    "# Using lambda and filter:\n",
    "even_numbers = list(filter(lambda x: x % 2 == 0, numbers))"
   ]
  },
  {
   "cell_type": "code",
   "execution_count": 73,
   "id": "87365d4c",
   "metadata": {},
   "outputs": [
    {
     "name": "stdout",
     "output_type": "stream",
     "text": [
      "[2, 4]\n"
     ]
    }
   ],
   "source": [
    "print(even_numbers)"
   ]
  },
  {
   "cell_type": "markdown",
   "id": "6e4be6ea",
   "metadata": {},
   "source": [
    "# without using filter function\n",
    "## NOTE:we can use a loop and a conditional statement with a lambda function to filter a list of elements without using the filter() function in Python. \n",
    "## NOTE: that while this approach does not use the filter() function explicitly, it is still effectively filtering the list based on a conditional statement inside a loop. However, using the filter() function with a lambda function is often considered a more concise and readable way to achieve the same result."
   ]
  },
  {
   "cell_type": "code",
   "execution_count": 74,
   "id": "c5f0461c",
   "metadata": {},
   "outputs": [
    {
     "name": "stdout",
     "output_type": "stream",
     "text": [
      "[2, 4]\n"
     ]
    }
   ],
   "source": [
    "# Define a list of numbers\n",
    "numbers = [1, 2, 3, 4, 5]\n",
    "\n",
    "# Use a loop and a lambda function to filter out even numbers\n",
    "even_numbers = []\n",
    "for num in numbers:\n",
    "    if (lambda x: x % 2 == 0)(num):\n",
    "        even_numbers.append(num)\n",
    "\n",
    "# Print the even numbers\n",
    "print(even_numbers)\n"
   ]
  },
  {
   "cell_type": "markdown",
   "id": "e7d2cf34",
   "metadata": {},
   "source": [
    "## NOTE: In this above code, we define a list of numbers and then use a loop to iterate over each number. Inside the loop, we use a lambda function to check whether each number is even. The lambda function takes a single argument x and returns True if x is even (i.e., x % 2 == 0) and False otherwise. We then use a conditional statement to append the number to a new list (even_numbers) if the lambda function returns True. Finally, we print the even_numbers list."
   ]
  },
  {
   "cell_type": "markdown",
   "id": "07c924c2",
   "metadata": {},
   "source": [
    "# 2)Accumulate Function:-\n",
    "# -------------------------------------"
   ]
  },
  {
   "cell_type": "code",
   "execution_count": 25,
   "id": "c7716f24",
   "metadata": {},
   "outputs": [
    {
     "name": "stdout",
     "output_type": "stream",
     "text": [
      "Help on class accumulate in module itertools:\n",
      "\n",
      "class accumulate(builtins.object)\n",
      " |  accumulate(iterable, func=None, *, initial=None)\n",
      " |  \n",
      " |  Return series of accumulated sums (or other binary function results).\n",
      " |  \n",
      " |  Methods defined here:\n",
      " |  \n",
      " |  __getattribute__(self, name, /)\n",
      " |      Return getattr(self, name).\n",
      " |  \n",
      " |  __iter__(self, /)\n",
      " |      Implement iter(self).\n",
      " |  \n",
      " |  __next__(self, /)\n",
      " |      Implement next(self).\n",
      " |  \n",
      " |  __reduce__(...)\n",
      " |      Return state information for pickling.\n",
      " |  \n",
      " |  __setstate__(...)\n",
      " |      Set state information for unpickling.\n",
      " |  \n",
      " |  ----------------------------------------------------------------------\n",
      " |  Static methods defined here:\n",
      " |  \n",
      " |  __new__(*args, **kwargs) from builtins.type\n",
      " |      Create and return a new object.  See help(type) for accurate signature.\n",
      "\n"
     ]
    }
   ],
   "source": [
    "#If we want every step for some sort of performance then we use \"accumulate()\" function.\n",
    "from itertools import accumulate\n",
    "help(accumulate)"
   ]
  },
  {
   "cell_type": "code",
   "execution_count": 22,
   "id": "71f78d9e",
   "metadata": {},
   "outputs": [],
   "source": [
    "#We should import accumulate from itertools library it is not in-built of a python package like lambda,map,filter.\n",
    "from itertools import accumulate #Accumulate function will increase performance issues highly."
   ]
  },
  {
   "cell_type": "code",
   "execution_count": 28,
   "id": "88579be1",
   "metadata": {},
   "outputs": [],
   "source": [
    "L=[1,2,3,4,5,6,7,8,9,10] #Here \"L\" is the list of values."
   ]
  },
  {
   "cell_type": "code",
   "execution_count": 47,
   "id": "b6085c9f",
   "metadata": {},
   "outputs": [],
   "source": [
    "addAccumulate = accumulate(L,lambda x,y:x+y) #Here we telling to add elements as 2-2 numbers then we will provide minimum 2 numbers atlest."
   ]
  },
  {
   "cell_type": "code",
   "execution_count": 48,
   "id": "21ad78b8",
   "metadata": {},
   "outputs": [
    {
     "data": {
      "text/plain": [
       "[1, 3, 6, 10, 15, 21, 28, 36, 45, 55]"
      ]
     },
     "execution_count": 48,
     "metadata": {},
     "output_type": "execute_result"
    }
   ],
   "source": [
    "list(addAccumulate) #IT will add all 2-2 numbers with previous value."
   ]
  },
  {
   "cell_type": "code",
   "execution_count": 33,
   "id": "6092f365",
   "metadata": {},
   "outputs": [],
   "source": [
    "P=[3]"
   ]
  },
  {
   "cell_type": "code",
   "execution_count": 36,
   "id": "d7f63958",
   "metadata": {},
   "outputs": [],
   "source": [
    "addAccumulate = accumulate(P,lambda x,y:x+y)"
   ]
  },
  {
   "cell_type": "code",
   "execution_count": 37,
   "id": "2eebecf3",
   "metadata": {},
   "outputs": [
    {
     "data": {
      "text/plain": [
       "[3]"
      ]
     },
     "execution_count": 37,
     "metadata": {},
     "output_type": "execute_result"
    }
   ],
   "source": [
    "list(addAccumulate)# Here we didn't got anyerror but it printed only single number same as given number."
   ]
  },
  {
   "cell_type": "code",
   "execution_count": 43,
   "id": "5df6449e",
   "metadata": {},
   "outputs": [],
   "source": [
    "#This accumulate function will execute in register and initially list is in memory(RAM)\n",
    "#it will take 2 numbers from memory and performs caluclation(addition).\n",
    "#And stores the result of the value in register and then it takes only the new number into the  register.\n",
    "#Due to this register it will improve its performance issue.\n",
    "#The memory access is more than register access.\n",
    "#When it comes to huge number if the previous value in Register is more useful than in RAM.\n",
    "#Compare to RAM the Register access is faster to cpu.\n",
    "## Register Access(very less latency) --> Cache Access(less latency) ---> Memory Access(Medium latency) ----> Disk Access(High latency)\n",
    "##Actions are very faster compare to the other functions other than accumulate."
   ]
  },
  {
   "cell_type": "code",
   "execution_count": 44,
   "id": "16959319",
   "metadata": {},
   "outputs": [],
   "source": [
    "def addNumbers(*args):\n",
    "    sum = 0\n",
    "    for i in args:\n",
    "        sum = sum+i\n",
    "        print(sum)"
   ]
  },
  {
   "cell_type": "code",
   "execution_count": 49,
   "id": "f0aac726",
   "metadata": {},
   "outputs": [
    {
     "name": "stdout",
     "output_type": "stream",
     "text": [
      "1\n",
      "3\n",
      "6\n",
      "10\n",
      "15\n",
      "21\n",
      "28\n",
      "36\n",
      "45\n",
      "55\n"
     ]
    }
   ],
   "source": [
    "addNumbers(1,2,3,4,5,6,7,8,9,10)"
   ]
  },
  {
   "cell_type": "code",
   "execution_count": 50,
   "id": "92b3169f",
   "metadata": {},
   "outputs": [],
   "source": [
    "def addNumbers(*args): #We can give any data types to arguments.\n",
    "    sum = 0\n",
    "    for i in args:\n",
    "        sum = sum+i\n",
    "        print(sum)"
   ]
  },
  {
   "cell_type": "code",
   "execution_count": 66,
   "id": "9e712e9f",
   "metadata": {},
   "outputs": [
    {
     "name": "stdout",
     "output_type": "stream",
     "text": [
      "('Sai', 'Kiran')\n"
     ]
    }
   ],
   "source": [
    "addNumbers(\"Sai\",\"Kiran\") #here we are getting error due to we are adding an int and str "
   ]
  },
  {
   "cell_type": "markdown",
   "id": "cd5c2165",
   "metadata": {},
   "source": [
    "# =>Accumulate function with combination of looping and conditional statements."
   ]
  },
  {
   "cell_type": "code",
   "execution_count": 76,
   "id": "bd3e9890",
   "metadata": {},
   "outputs": [],
   "source": [
    "numbers = [1, 2, 3, 4, 5] # Normal method\n",
    "cumulative_sum = []\n",
    "total = 0\n",
    "for num in numbers:\n",
    "    total += num\n",
    "    cumulative_sum.append(total)"
   ]
  },
  {
   "cell_type": "code",
   "execution_count": 77,
   "id": "9f51e16a",
   "metadata": {},
   "outputs": [
    {
     "name": "stdout",
     "output_type": "stream",
     "text": [
      "[1, 3, 6, 10, 15]\n"
     ]
    }
   ],
   "source": [
    "print(cumulative_sum)"
   ]
  },
  {
   "cell_type": "code",
   "execution_count": 78,
   "id": "a2abee7a",
   "metadata": {},
   "outputs": [],
   "source": [
    "# Using accumulate:\n",
    "import itertools\n",
    "cumulative_sum = list(itertools.accumulate(numbers))"
   ]
  },
  {
   "cell_type": "code",
   "execution_count": 80,
   "id": "49d785f9",
   "metadata": {},
   "outputs": [
    {
     "name": "stdout",
     "output_type": "stream",
     "text": [
      "[1, 3, 6, 10, 15]\n"
     ]
    }
   ],
   "source": [
    "print(cumulative_sum)"
   ]
  },
  {
   "cell_type": "markdown",
   "id": "14cba004",
   "metadata": {},
   "source": [
    "# 3)Map Function:-\n",
    "# --------------------------------"
   ]
  },
  {
   "cell_type": "markdown",
   "id": "47b91cf3",
   "metadata": {},
   "source": [
    "## We use mapping function in maths Our functions whic we used like f(x)=x+y, f(x)=2x, f(x)=3x these are which we studied in mathematical functions in our childhood. Python is mostly used in maths and ML in these ML also we have mostly maths.In these maths we will deal mostly with functions only.\n",
    "\n",
    "## Machine Learning model is nothing but it  is a function.we call ML is a model but mathematicians call it as a functions.Everytging will be treated as a functions.we also understand it as a function then only our processing,building models will become easy"
   ]
  },
  {
   "cell_type": "markdown",
   "id": "e182693d",
   "metadata": {},
   "source": [
    "# IMPORTANT NOTE:-This Map Function also has a hardware importance.We don't know that it will compatible(support) to our system or computer as of now.But when it comes to 'Numpy' arrays when we deal with numpy or with openCV(dealing with images,videos,objects) etc.. These are working on the GPU's its also similar to CPU its not only meant for Gaming it's also for ML models.In this we used to build our computer vision models.In this it mostly involves in parallel processing not sequential processing.This architecture almost similar to cpu but somewhat it different compare to CPU.GPU have more registers than CPU and in-built memory(registers) which related to GPU purpose only like we say 4GB of GPU like envedia graphic card(GPU).These will execute on the GPU only not as sequential but it will execute in parallel.Suppose if we take below list 'L = [1,2,3,4]' became 2,4,6,8 as an output due to parallel execution.If our hardware will support with it(code) only it becomes parallel execution which is compatible with hardware otherwise it not a parallel execution(Without hardware support there is no parallel execution).\n",
    "# For Suppose our code which is 'map function' need to be converted into hardware support inorder to happen this we have some layers in middle that layers will be used when we get tensorflow library that layers are called as ''cuda layers''.These cuda layers will make our code which was written it makes it into compatible with our Systems or computer's either  GPU or CPU.it means This layer  will generate a parallel code as a compiler or like a translator.The naive code which we were written into an optimized code.BY converting into optimized code due to this our  programming or code or task will run on CPU's or GPU's parallel due to this we will get fasterness to execute task.\n",
    "# It becomes more important when it comes to ML bcs we are going to deal with very big data such a big data which should be in memory or else GPU Rams to execute it there should be definietly parallelism involved without parallelism we want to execute it sequentially it will take minimum 2-3 days to train  one ML model."
   ]
  },
  {
   "cell_type": "code",
   "execution_count": 67,
   "id": "83f66d03",
   "metadata": {},
   "outputs": [],
   "source": [
    "#Map function it takes an input 'x' and give us output 'y'.y is nothing but 'f(x)'.function of x is nothing but 'y'."
   ]
  },
  {
   "cell_type": "code",
   "execution_count": 68,
   "id": "3b4cb1d0",
   "metadata": {},
   "outputs": [
    {
     "data": {
      "text/plain": [
       "'\\ny = x+2\\ny = f(x)\\n\\nx -- list of values\\nf(x) --- Mapping function\\n\\ny --- map the mapping function to the x\\n'"
      ]
     },
     "execution_count": 68,
     "metadata": {},
     "output_type": "execute_result"
    }
   ],
   "source": [
    "'''\n",
    "y = x+2\n",
    "y = f(x)\n",
    "\n",
    "x -- list of values\n",
    "f(x) --- Mapping function\n",
    "\n",
    "y --- map the mapping function to the x\n",
    "\n",
    "'''"
   ]
  },
  {
   "cell_type": "code",
   "execution_count": 130,
   "id": "3293ecd5",
   "metadata": {},
   "outputs": [],
   "source": [
    "# y = 2x"
   ]
  },
  {
   "cell_type": "code",
   "execution_count": 131,
   "id": "09455cba",
   "metadata": {},
   "outputs": [],
   "source": [
    "#Syntax -- y = map(f(x),x)"
   ]
  },
  {
   "cell_type": "code",
   "execution_count": 4,
   "id": "f1425c04",
   "metadata": {},
   "outputs": [],
   "source": [
    "#Here we can use 'lambda' function instead of normal method.BCS here we using single line expression which is '2x'.\n",
    "#for single expression '2x'we are digesting this function into low prioritized buckets instead of why we need to digest it.\n",
    "#we can make it as a lambda.converting into lambda and make 'map' function to become fast somewhat.\n",
    "\n",
    "def mappingFunction(x): #Here 'mappingFunction' is an 'f(x)' which is 'y'. \n",
    "    return 2*x           "
   ]
  },
  {
   "cell_type": "code",
   "execution_count": 5,
   "id": "cd761a34",
   "metadata": {},
   "outputs": [],
   "source": [
    "L =  [1,2,3,4] #Here L is an 'x' it means input values."
   ]
  },
  {
   "cell_type": "code",
   "execution_count": 6,
   "id": "56adb220",
   "metadata": {},
   "outputs": [],
   "source": [
    "y = map(mappingFunction,L) "
   ]
  },
  {
   "cell_type": "code",
   "execution_count": 151,
   "id": "61f540f7",
   "metadata": {},
   "outputs": [
    {
     "data": {
      "text/plain": [
       "[2, 4, 6, 8]"
      ]
     },
     "execution_count": 151,
     "metadata": {},
     "output_type": "execute_result"
    }
   ],
   "source": [
    "list(y)"
   ]
  },
  {
   "cell_type": "code",
   "execution_count": 145,
   "id": "549687a7",
   "metadata": {},
   "outputs": [
    {
     "data": {
      "text/plain": [
       "(2, 4, 6, 8)"
      ]
     },
     "execution_count": 145,
     "metadata": {},
     "output_type": "execute_result"
    }
   ],
   "source": [
    "#we can also write it as a tuple if we write it as a tuple.\n",
    "#In future if we want to perform any updation or changes we can't perform on tuples.bcs tuples are immutable\n",
    "tuple(y)"
   ]
  },
  {
   "cell_type": "code",
   "execution_count": 7,
   "id": "31f0fe76",
   "metadata": {},
   "outputs": [],
   "source": [
    "y = map(lambda x:2*x,L) #Lambda take the value of x and just multiply with the '2'."
   ]
  },
  {
   "cell_type": "markdown",
   "id": "15bb2add",
   "metadata": {},
   "source": [
    "## NOTE: Here we cannot print 'y' directly it won't execute directly.Bcs As we discussed Earlier all function except \"reduce()\" function will work in parallelism.when these functions will works in a parallelism the data or elements of these functions will be in registers.As a User we don't authorized to access data which is in registers.It can be only accessed by the CPU.If we want to bring the data which is in registers into memory we have to show some type(list or tuple) to CPU it means we have to say to CPU we need that data which is in registers using types(list or tuple).\n",
    "## We have to tell CPU \"I want that out of the registers or out of the CPU block(chip) and keep inside the memory so i wanted to see it\" we have to give some command to the CPU.\n",
    "## Here As we executed 'y' it showing address instead of values bcs the data or values currently not in memory inorder to execute it.So,Inorder to get the values from these functions we must pass the type to the reference variable 'y'."
   ]
  },
  {
   "cell_type": "code",
   "execution_count": 8,
   "id": "f4e54f6d",
   "metadata": {},
   "outputs": [
    {
     "data": {
      "text/plain": [
       "<map at 0x27849174040>"
      ]
     },
     "execution_count": 8,
     "metadata": {},
     "output_type": "execute_result"
    }
   ],
   "source": [
    "y #The address below tells us the address of the values where it will be stored in memory(RAM) but the value is not there till now."
   ]
  },
  {
   "cell_type": "code",
   "execution_count": 159,
   "id": "2d26d8a2",
   "metadata": {},
   "outputs": [
    {
     "data": {
      "text/plain": [
       "[2, 4, 6, 8]"
      ]
     },
     "execution_count": 159,
     "metadata": {},
     "output_type": "execute_result"
    }
   ],
   "source": [
    "list(y)"
   ]
  },
  {
   "cell_type": "markdown",
   "id": "eb4befce",
   "metadata": {},
   "source": [
    "# => Map function with combination of looping and conditional statements.\n",
    "# Map function without using lambda \n",
    "## We can use the map() function without using a lambda function in Python. The map() function applies a given function to each element of an iterable (such as a list or tuple) and returns an iterator of the results.\n",
    "## Here's an example of using the map() function with a named function:"
   ]
  },
  {
   "cell_type": "code",
   "execution_count": 83,
   "id": "d3eacd61",
   "metadata": {},
   "outputs": [
    {
     "name": "stdout",
     "output_type": "stream",
     "text": [
      "[2, 3, 4, 5, 6]\n"
     ]
    }
   ],
   "source": [
    "# Define a function to add 1 to a number\n",
    "def add_one(x):\n",
    "    return x + 1\n",
    "\n",
    "# Define a list of numbers\n",
    "numbers = [1, 2, 3, 4, 5]\n",
    "\n",
    "# Use map with the add_one function to add 1 to each number\n",
    "numbers_plus_one = list(map(add_one, numbers))\n",
    "\n",
    "# Print the new list of numbers\n",
    "print(numbers_plus_one)\n"
   ]
  },
  {
   "cell_type": "markdown",
   "id": "d0103d4f",
   "metadata": {},
   "source": [
    "# Map function with using lambda"
   ]
  },
  {
   "cell_type": "code",
   "execution_count": 85,
   "id": "4295cdcb",
   "metadata": {},
   "outputs": [],
   "source": [
    "numbers = [1, 2, 3, 4, 5] # Normal method\n",
    "squared_numbers = []\n",
    "for num in numbers:\n",
    "    squared_numbers.append(num ** 2)"
   ]
  },
  {
   "cell_type": "code",
   "execution_count": 86,
   "id": "261f2c71",
   "metadata": {},
   "outputs": [
    {
     "name": "stdout",
     "output_type": "stream",
     "text": [
      "[1, 4, 9, 16, 25]\n"
     ]
    }
   ],
   "source": [
    "print(squared_numbers)"
   ]
  },
  {
   "cell_type": "code",
   "execution_count": null,
   "id": "7a79a809",
   "metadata": {},
   "outputs": [],
   "source": [
    "# Using map and lambda:\n",
    "squared_numbers = list(map(lambda x: x ** 2, numbers))"
   ]
  },
  {
   "cell_type": "code",
   "execution_count": 87,
   "id": "83189f5e",
   "metadata": {},
   "outputs": [
    {
     "name": "stdout",
     "output_type": "stream",
     "text": [
      "[1, 4, 9, 16, 25]\n"
     ]
    }
   ],
   "source": [
    "print(squared_numbers)"
   ]
  },
  {
   "cell_type": "markdown",
   "id": "01d59f13",
   "metadata": {},
   "source": [
    "# 4.filter Function:-\n",
    "# ------------------------------\n",
    "# =>filter function with combination of looping and conditional statements.\n",
    "# filter function using lambda.\n",
    "## Here's an example of how you can use the filter() function in combination with a loop and a conditional statement to filter out specific items from a list:"
   ]
  },
  {
   "cell_type": "code",
   "execution_count": null,
   "id": "c649d85c",
   "metadata": {},
   "outputs": [],
   "source": [
    "#NOTE: Normally if we write \"filter\" in for loop.It will become sequential.Even map or reduce or lambda or accumulate also be written using for loop.\n",
    "#NOTE: Sometimes people will ask write a function without implementing map or reduce or filter or accumulate or lambda we can write in interview."
   ]
  },
  {
   "cell_type": "code",
   "execution_count": null,
   "id": "08f8227e",
   "metadata": {},
   "outputs": [],
   "source": [
    "#Syntax or definition ---> y = filter(f(x),X) # 'x' is an small value and capital 'X' is a list of values."
   ]
  },
  {
   "cell_type": "code",
   "execution_count": null,
   "id": "f9b8b1de",
   "metadata": {},
   "outputs": [],
   "source": [
    "# Example: Even and odd -- if particular thing it means if a number is an even then we should filter it.if it is odd keep as it is.\n",
    "# NOTE:Using for loop checking and filtering it as even or odd it works fine. \n",
    "#But it is a sequential(one after another likewise) thing less faster than parallelism.\n",
    "#Wheras if we use filter without for loop and also if our hardware also compatible then same filter function in for loop will be executed parallely."
   ]
  },
  {
   "cell_type": "code",
   "execution_count": 5,
   "id": "12a89f63",
   "metadata": {},
   "outputs": [],
   "source": [
    "#filter with Normal function without \"lambda\".\n",
    "def even(x):\n",
    "    if x%2 == 0:\n",
    "        return True\n",
    "    else:\n",
    "        return False"
   ]
  },
  {
   "cell_type": "code",
   "execution_count": 6,
   "id": "d39128df",
   "metadata": {},
   "outputs": [],
   "source": [
    "X = [1,2,3,4,5,6,7,8,9,10]"
   ]
  },
  {
   "cell_type": "code",
   "execution_count": 8,
   "id": "67ea1347",
   "metadata": {},
   "outputs": [
    {
     "data": {
      "text/plain": [
       "[2, 4, 6, 8, 10]"
      ]
     },
     "execution_count": 8,
     "metadata": {},
     "output_type": "execute_result"
    }
   ],
   "source": [
    "Y = filter(even,X)\n",
    "list(Y)"
   ]
  },
  {
   "cell_type": "code",
   "execution_count": 17,
   "id": "121e1ea1",
   "metadata": {},
   "outputs": [],
   "source": [
    "#We can also write using \"lambda\" Function\n",
    "Y = filter(lambda x:x%2==0,X) #Instead of writing normal function we can also write using \"lambda\" function too."
   ]
  },
  {
   "cell_type": "code",
   "execution_count": 18,
   "id": "0fd55ae5",
   "metadata": {},
   "outputs": [
    {
     "data": {
      "text/plain": [
       "[2, 4, 6, 8, 10]"
      ]
     },
     "execution_count": 18,
     "metadata": {},
     "output_type": "execute_result"
    }
   ],
   "source": [
    "list(Y)"
   ]
  },
  {
   "cell_type": "code",
   "execution_count": 89,
   "id": "9b65af7f",
   "metadata": {},
   "outputs": [
    {
     "name": "stdout",
     "output_type": "stream",
     "text": [
      "[2, 4, 6, 8, 10]\n"
     ]
    }
   ],
   "source": [
    "# Define a list of numbers\n",
    "numbers = [1, 2, 3, 4, 5, 6, 7, 8, 9, 10]\n",
    "\n",
    "# Use filter with a lambda function to filter out even numbers\n",
    "even_numbers = list(filter(lambda x: x % 2 == 0, numbers))\n",
    "\n",
    "# Print the even numbers\n",
    "print(even_numbers)\n"
   ]
  },
  {
   "cell_type": "markdown",
   "id": "b4375fc7",
   "metadata": {},
   "source": [
    "## This above code defines a list of numbers from 1 to 10 and then uses the filter() function to create a new list of even numbers. The lambda function inside the filter() function checks whether each element in the list is divisible by 2 (i.e., even) and returns True or False accordingly. The filter() function then returns only those elements from the original list for which the lambda function returns True. Finally, the code converts the filtered result to a list and prints it."
   ]
  },
  {
   "cell_type": "markdown",
   "id": "4b291525",
   "metadata": {},
   "source": [
    "# filter function without using lambda\n",
    "## NOTE: We can use the filter() function in Python without using a lambda function. The filter() function applies a given function to the elements of an iterable and returns an iterator of the elements for which the function returns True.\n",
    "## Here's an example of using the filter() function with a named function:"
   ]
  },
  {
   "cell_type": "code",
   "execution_count": 98,
   "id": "33517862",
   "metadata": {},
   "outputs": [],
   "source": [
    "# Define a function to test if a number is even\n",
    "def is_even(x):\n",
    "    return x % 2 == 0\n",
    "\n",
    "# Define a list of numbers\n",
    "numbers = [1, 2, 3, 4, 5]\n",
    "\n",
    "# Use filter with the is_even function to filter out even numbers\n",
    "even_numbers = list(filter(is_even, numbers))"
   ]
  },
  {
   "cell_type": "code",
   "execution_count": 99,
   "id": "9249045f",
   "metadata": {},
   "outputs": [
    {
     "name": "stdout",
     "output_type": "stream",
     "text": [
      "[2, 4]\n"
     ]
    }
   ],
   "source": [
    "# Print the even numbers\n",
    "print(even_numbers)"
   ]
  },
  {
   "cell_type": "markdown",
   "id": "10dd0327",
   "metadata": {},
   "source": [
    "## In this above code, we define a function is_even() that takes a single argument x and returns True if x is even and False otherwise. We then define a list of numbers and use the filter() function with the is_even() function to filter out the even numbers from the list. The filter() function returns an iterator, so we convert it to a list using the list() function. Finally, we print the new list of even numbers.\n",
    "## NOTE:Using named functions with the filter() function can make your code more readable and maintainable, especially for more complex filtering conditions. However, for simple one-line filtering conditions, lambda functions can still be a good choice as they do not require defining a separate function."
   ]
  },
  {
   "cell_type": "markdown",
   "id": "15003f09",
   "metadata": {},
   "source": [
    "# 5.Reduce function:-\n",
    "# --------------------------------"
   ]
  },
  {
   "cell_type": "markdown",
   "id": "c91ab0f9",
   "metadata": {},
   "source": [
    "## NOTE:-One potential drawback of the accumulate() function in Python is that it can use a lot of memory for large input sequences, because it returns all intermediate results. This means that the entire sequence of intermediate results is stored in memory, which can be a problem if you are working with very large sequences or have memory constraints.\n",
    "\n",
    "## For example, if you apply accumulate() to a sequence of one million numbers, it will produce a list of one million numbers that are stored in memory, which could potentially use a lot of memory.\n",
    "\n",
    "## If you are working with very large input sequences, you may want to consider using other functions like reduce() or writing your own code to compute the cumulative operation in a more memory-efficient way.\n",
    "## Consider the below example:"
   ]
  },
  {
   "cell_type": "code",
   "execution_count": null,
   "id": "2377bd3f",
   "metadata": {},
   "outputs": [],
   "source": [
    "#Syntax --> reduce(function, sequence)"
   ]
  },
  {
   "cell_type": "code",
   "execution_count": 29,
   "id": "5aec9c17",
   "metadata": {},
   "outputs": [
    {
     "name": "stderr",
     "output_type": "stream",
     "text": [
      "IOPub data rate exceeded.\n",
      "The notebook server will temporarily stop sending output\n",
      "to the client in order to avoid crashing it.\n",
      "To change this limit, set the config variable\n",
      "`--NotebookApp.iopub_data_rate_limit`.\n",
      "\n",
      "Current values:\n",
      "NotebookApp.iopub_data_rate_limit=1000000.0 (bytes/sec)\n",
      "NotebookApp.rate_limit_window=3.0 (secs)\n",
      "\n"
     ]
    }
   ],
   "source": [
    "#Here the intermediate result is produced and stored in list in RAM for each computation or cumulative operation in register.\n",
    "from itertools import accumulate\n",
    "numbers = range(1, 1000000) #Here '1' to '1000000' is a input sequence.\n",
    "result = list(accumulate(numbers))\n",
    "print(result)"
   ]
  },
  {
   "cell_type": "markdown",
   "id": "8ea80e3f",
   "metadata": {},
   "source": [
    "## NOTE: To overcome the drawback of accumulate we use \"reduce()\" function."
   ]
  },
  {
   "cell_type": "code",
   "execution_count": 41,
   "id": "7276f31e",
   "metadata": {},
   "outputs": [
    {
     "name": "stdout",
     "output_type": "stream",
     "text": [
      "Help on built-in function reduce in module _functools:\n",
      "\n",
      "reduce(...)\n",
      "    reduce(function, iterable[, initial]) -> value\n",
      "    \n",
      "    Apply a function of two arguments cumulatively to the items of a sequence\n",
      "    or iterable, from left to right, so as to reduce the iterable to a single\n",
      "    value.  For example, reduce(lambda x, y: x+y, [1, 2, 3, 4, 5]) calculates\n",
      "    ((((1+2)+3)+4)+5).  If initial is present, it is placed before the items\n",
      "    of the iterable in the calculation, and serves as a default when the\n",
      "    iterable is empty.\n",
      "\n"
     ]
    }
   ],
   "source": [
    "from functools import reduce #If we consider performance increase and final output then we use \"reduce()\" function\n",
    "help(reduce)"
   ]
  },
  {
   "cell_type": "markdown",
   "id": "7cc30f36",
   "metadata": {},
   "source": [
    "## NOTE: The TypeError you are seeing is occurring because the reduce() function requires a function as its second argument that can be used to perform a reduction on the input iterable. However, in your code, you are passing the input list L as the first argument and the lambda function as the second argument.\n",
    "## To fix this error, you need to switch the positions of the input list and the lambda function. You should pass the lambda function as the first argument and the input list as the second argument to reduce(), like this: \"addReduce = reduce(lambda x, y: x + y, L)\".\n",
    "## Here, the lambda function takes two arguments x and y and returns their sum. The reduce() function applies this lambda function to the elements of the input list L in a cumulative way, until a single value is obtained."
   ]
  },
  {
   "cell_type": "code",
   "execution_count": 42,
   "id": "10676fab",
   "metadata": {},
   "outputs": [],
   "source": [
    "#Example 1\n",
    "L=[1,2,3,4,5,6,7,8,9,10]"
   ]
  },
  {
   "cell_type": "code",
   "execution_count": 43,
   "id": "9ce1ea77",
   "metadata": {},
   "outputs": [
    {
     "ename": "TypeError",
     "evalue": "reduce() arg 2 must support iteration",
     "output_type": "error",
     "traceback": [
      "\u001b[1;31m---------------------------------------------------------------------------\u001b[0m",
      "\u001b[1;31mTypeError\u001b[0m                                 Traceback (most recent call last)",
      "Cell \u001b[1;32mIn[43], line 1\u001b[0m\n\u001b[1;32m----> 1\u001b[0m addReduce \u001b[38;5;241m=\u001b[39m \u001b[43mreduce\u001b[49m\u001b[43m(\u001b[49m\u001b[43mL\u001b[49m\u001b[43m,\u001b[49m\u001b[38;5;28;43;01mlambda\u001b[39;49;00m\u001b[43m \u001b[49m\u001b[43mx\u001b[49m\u001b[43m,\u001b[49m\u001b[43my\u001b[49m\u001b[43m:\u001b[49m\u001b[43mx\u001b[49m\u001b[38;5;241;43m+\u001b[39;49m\u001b[43my\u001b[49m\u001b[43m)\u001b[49m\n",
      "\u001b[1;31mTypeError\u001b[0m: reduce() arg 2 must support iteration"
     ]
    }
   ],
   "source": [
    "addReduce = reduce(L,lambda x,y:x+y)"
   ]
  },
  {
   "cell_type": "code",
   "execution_count": 45,
   "id": "734ace3f",
   "metadata": {},
   "outputs": [
    {
     "data": {
      "text/plain": [
       "55"
      ]
     },
     "execution_count": 45,
     "metadata": {},
     "output_type": "execute_result"
    }
   ],
   "source": [
    "addReduce = reduce(lambda x,y:x+y,L)\n",
    "addReduce"
   ]
  },
  {
   "cell_type": "code",
   "execution_count": 34,
   "id": "f21e5dc2",
   "metadata": {},
   "outputs": [
    {
     "ename": "TypeError",
     "evalue": "'int' object is not iterable",
     "output_type": "error",
     "traceback": [
      "\u001b[1;31m---------------------------------------------------------------------------\u001b[0m",
      "\u001b[1;31mTypeError\u001b[0m                                 Traceback (most recent call last)",
      "Cell \u001b[1;32mIn[34], line 1\u001b[0m\n\u001b[1;32m----> 1\u001b[0m \u001b[38;5;28;43mlist\u001b[39;49m\u001b[43m(\u001b[49m\u001b[43maddReduce\u001b[49m\u001b[43m)\u001b[49m\n",
      "\u001b[1;31mTypeError\u001b[0m: 'int' object is not iterable"
     ]
    }
   ],
   "source": [
    "list(addReduce) #Here It produce a single final updated value so,we can't iterate a single 'int' object.therefore its throwing error."
   ]
  },
  {
   "cell_type": "code",
   "execution_count": 35,
   "id": "727760b0",
   "metadata": {},
   "outputs": [
    {
     "data": {
      "text/plain": [
       "55"
      ]
     },
     "execution_count": 35,
     "metadata": {},
     "output_type": "execute_result"
    }
   ],
   "source": [
    "addReduce"
   ]
  },
  {
   "cell_type": "markdown",
   "id": "e652959f",
   "metadata": {},
   "source": [
    "## Here's how reduce works in this example:\n",
    "## 1.First, reduce takes the first two elements of the numbers sequence (1 and 2) and applies the lambda function lambda x, y: x + y to them. This returns the value 3.\n",
    "## 2.reduce then takes the result from step 1 (3) and the next element of the numbers sequence (3) and applies the lambda function to them. This returns the value 6.\n",
    "## 3.reduce repeats this process, applying the lambda function to the current result and the next element of the numbers sequence, until it has processed all of the elements in the sequence.\n",
    "## 4.Finally, reduce returns the accumulated result of all the lambda function applications."
   ]
  },
  {
   "cell_type": "code",
   "execution_count": 46,
   "id": "0406f789",
   "metadata": {},
   "outputs": [
    {
     "name": "stdout",
     "output_type": "stream",
     "text": [
      "499999500000\n"
     ]
    }
   ],
   "source": [
    "#Example 2\n",
    "from functools import reduce\n",
    "\n",
    "numbers = range(1, 1000000)\n",
    "result = reduce(lambda x, y: x + y, numbers)\n",
    "\n",
    "print(result)"
   ]
  },
  {
   "cell_type": "code",
   "execution_count": null,
   "id": "553fe708",
   "metadata": {},
   "outputs": [],
   "source": []
  },
  {
   "cell_type": "markdown",
   "id": "070f38ac",
   "metadata": {},
   "source": [
    "\n",
    "# =>Reduce function with combination of looping and conditional statements.\n",
    "# we use reduce function without using lambda \n",
    "## NOTE:you can use the reduce() function in Python without using a lambda function. The reduce() function applies a given function to the elements of an iterable in a cumulative way and returns a single result.\n",
    "## Here's an example of using the reduce() function with a named function:"
   ]
  },
  {
   "cell_type": "code",
   "execution_count": 91,
   "id": "7b8271a9",
   "metadata": {},
   "outputs": [],
   "source": [
    "# Import the reduce function from the functools module\n",
    "from functools import reduce\n",
    "\n",
    "# Define a function to multiply two numbers\n",
    "def multiply(x, y):\n",
    "    return x * y\n",
    "\n",
    "# Define a list of numbers\n",
    "numbers = [1, 2, 3, 4, 5]\n",
    "\n",
    "# Use reduce with the multiply function to calculate the product of the numbers\n",
    "product = reduce(multiply, numbers)"
   ]
  },
  {
   "cell_type": "code",
   "execution_count": 92,
   "id": "14530623",
   "metadata": {},
   "outputs": [
    {
     "name": "stdout",
     "output_type": "stream",
     "text": [
      "120\n"
     ]
    }
   ],
   "source": [
    "# Print the product\n",
    "print(product)"
   ]
  },
  {
   "cell_type": "markdown",
   "id": "0547f9ac",
   "metadata": {},
   "source": [
    "## In this above code, we first import the reduce() function from the functools module. We then define a function multiply() that takes two arguments x and y and returns their product. We define a list of numbers and use the reduce() function with the multiply() function to calculate the product of the numbers. The reduce() function applies the multiply() function to the first two numbers in the list, then applies it to the result and the next number, and so on, until it has processed all the numbers in the list. Finally, it returns the single product value. We print the product to the console.\n",
    "## NOTE:Using named functions with the reduce() function can be a good way to make your code more readable and maintainable, especially for more complex operations. However, for simple one-line operations, lambda functions can still be a good choice as they do not require defining a separate function."
   ]
  },
  {
   "cell_type": "markdown",
   "id": "3887bcfc",
   "metadata": {},
   "source": [
    "# we use reduce function with using lambda \n",
    "## NOTE:you can use the reduce() function in combination with loops and mapping functions in Python. The reduce() function is a higher-order function that applies a function of two arguments cumulatively to the elements of an iterable, reducing them to a single value. It can be useful for a wide range of operations, such as calculating the sum or product of a list of numbers.\n",
    "## Here's an example of how you can use the reduce() function with loops and mapping functions:\n"
   ]
  },
  {
   "cell_type": "code",
   "execution_count": null,
   "id": "0371a440",
   "metadata": {},
   "outputs": [],
   "source": [
    "from functools import reduce\n",
    "\n",
    "# Define a list of numbers\n",
    "numbers = [1, 2, 3, 4, 5]\n",
    "\n",
    "# Use reduce with a lambda function to calculate the sum of the list\n",
    "sum = reduce(lambda x, y: x + y, numbers)\n",
    "\n",
    "# Use a loop to double each element of the list\n",
    "doubled_numbers = []\n",
    "for num in numbers:\n",
    "    doubled_numbers.append(num * 2)\n",
    "\n",
    "# Use reduce with a lambda function to calculate the product of the doubled list\n",
    "product = reduce(lambda x, y: x * y, doubled_numbers)"
   ]
  },
  {
   "cell_type": "code",
   "execution_count": 93,
   "id": "c8723a8f",
   "metadata": {},
   "outputs": [
    {
     "name": "stdout",
     "output_type": "stream",
     "text": [
      "Sum: <built-in function sum>\n",
      "Product of doubled numbers: 120\n"
     ]
    }
   ],
   "source": [
    "# Print the sum and product\n",
    "print(\"Sum:\", sum)\n",
    "print(\"Product of doubled numbers:\", product)"
   ]
  },
  {
   "cell_type": "markdown",
   "id": "2bc4949b",
   "metadata": {},
   "source": [
    "## In this above example, we first use the reduce() function with a lambda function to calculate the sum of the numbers in the list. We then use a loop to double each element of the list and store the results in a new list. Finally, we use the reduce() function with another lambda function to calculate the product of the doubled numbers.\n",
    "## NOTE: that in the above example, we used a loop to double each element of the list, but we could also achieve the same result using the map() function:"
   ]
  },
  {
   "cell_type": "code",
   "execution_count": 95,
   "id": "86b81049",
   "metadata": {},
   "outputs": [],
   "source": [
    "# Use map with a lambda function to double each element of the list\n",
    "doubled_numbers = list(map(lambda x: x * 2, numbers))"
   ]
  },
  {
   "cell_type": "code",
   "execution_count": 96,
   "id": "bdefc370",
   "metadata": {},
   "outputs": [
    {
     "name": "stdout",
     "output_type": "stream",
     "text": [
      "[2, 4, 6, 8, 10]\n"
     ]
    }
   ],
   "source": [
    "print(doubled_numbers)"
   ]
  },
  {
   "cell_type": "markdown",
   "id": "f4e29c12",
   "metadata": {},
   "source": [
    "## Then, we can use reduce() function to calculate the product of the doubled numbers list:"
   ]
  },
  {
   "cell_type": "code",
   "execution_count": null,
   "id": "1a15d715",
   "metadata": {},
   "outputs": [],
   "source": [
    "# Use reduce with a lambda function to calculate the product of the doubled list\n",
    "product = reduce(lambda x, y: x * y, doubled_numbers)"
   ]
  },
  {
   "cell_type": "code",
   "execution_count": 97,
   "id": "658139e3",
   "metadata": {},
   "outputs": [
    {
     "name": "stdout",
     "output_type": "stream",
     "text": [
      "120\n"
     ]
    }
   ],
   "source": [
    "print(product)"
   ]
  },
  {
   "cell_type": "markdown",
   "id": "7b01ced2",
   "metadata": {},
   "source": [
    "# 6.ternary operator:-\n",
    "# ---------------------------------"
   ]
  },
  {
   "cell_type": "markdown",
   "id": "e624cf7d",
   "metadata": {},
   "source": [
    "# =>Ternary operator with combination of looping and conditional statements.\n",
    "## Ternary operator inside a loop:\n",
    "## NOTE:-Ternary operator is not a function since,  it does not have any direct relation to parallelism."
   ]
  },
  {
   "cell_type": "code",
   "execution_count": null,
   "id": "6fb3fd80",
   "metadata": {},
   "outputs": [],
   "source": [
    "# The syntax of a ternary operator is as follows:\n",
    "# Syntax --> value_if_true if condition else value_if_false"
   ]
  },
  {
   "cell_type": "code",
   "execution_count": 19,
   "id": "57889dba",
   "metadata": {},
   "outputs": [
    {
     "name": "stdout",
     "output_type": "stream",
     "text": [
      "20\n"
     ]
    }
   ],
   "source": [
    "#Example 1\n",
    "x = 10\n",
    "y = 20\n",
    "max_value = x if x > y else y\n",
    "print(max_value)"
   ]
  },
  {
   "cell_type": "code",
   "execution_count": 1,
   "id": "a9b5907c",
   "metadata": {},
   "outputs": [
    {
     "name": "stdout",
     "output_type": "stream",
     "text": [
      "1 odd\n",
      "2 even\n",
      "3 odd\n",
      "4 even\n",
      "5 odd\n"
     ]
    }
   ],
   "source": [
    "#Example 2\n",
    "numbers = [1, 2, 3, 4, 5]\n",
    "for num in numbers:\n",
    "    output = \"even\" if num % 2 == 0 else \"odd\"\n",
    "    print(num, output)"
   ]
  }
 ],
 "metadata": {
  "kernelspec": {
   "display_name": "Python 3 (ipykernel)",
   "language": "python",
   "name": "python3"
  },
  "language_info": {
   "codemirror_mode": {
    "name": "ipython",
    "version": 3
   },
   "file_extension": ".py",
   "mimetype": "text/x-python",
   "name": "python",
   "nbconvert_exporter": "python",
   "pygments_lexer": "ipython3",
   "version": "3.10.7"
  }
 },
 "nbformat": 4,
 "nbformat_minor": 5
}
